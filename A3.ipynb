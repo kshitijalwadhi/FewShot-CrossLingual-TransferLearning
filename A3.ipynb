{
  "cells": [
    {
      "cell_type": "code",
      "execution_count": 1,
      "metadata": {
        "id": "gLePWtxA0qLc"
      },
      "outputs": [],
      "source": [
        "import pandas as pd\n",
        "import torch\n",
        "from tqdm import tqdm\n",
        "from transformers.adapters.composition import Stack\n",
        "from datasets import Dataset\n",
        "from transformers import AutoTokenizer\n",
        "from transformers import AutoConfig, AutoAdapterModel\n",
        "from transformers import AdapterConfig\n",
        "from transformers import TrainingArguments, AdapterTrainer\n",
        "from datasets import concatenate_datasets\n",
        "import numpy as np\n",
        "from transformers import EvalPrediction\n",
        "\n",
        "def compute_accuracy(p: EvalPrediction):\n",
        "  preds = np.argmax(p.predictions, axis=1)\n",
        "  return {\"acc\": (preds == p.label_ids).mean()}\n",
        "\n",
        "def get_data(lang, data):\n",
        "    data = data[data[\"language\"] == lang]\n",
        "    return data\n",
        "\n",
        "def get_languages(data):\n",
        "    # data = pd.read_csv(\"data/train.tsv\",sep=\"\\t\")\n",
        "    return data[\"language\"].unique()\n",
        "\n",
        "def encode_batch(examples):\n",
        "    all_encoded = {\"input_ids\": [], \"attention_mask\": []}\n",
        "    for premise, hypothesis in (zip(examples[\"premise\"], examples[\"hypothesis\"])):\n",
        "        # encode separately to maintain CLS and SEP tokens\n",
        "        encoded = tokenizer.batch_encode_plus(\n",
        "            [premise, hypothesis],\n",
        "            add_special_tokens = True,\n",
        "            pad_to_max_length = True,\n",
        "            max_length = 100 ,\n",
        "            return_tensors = 'pt',\n",
        "            truncation = True\n",
        "            )\n",
        "\n",
        "        all_encoded[\"input_ids\"].append(encoded[\"input_ids\"].flatten())\n",
        "        all_encoded[\"attention_mask\"].append(encoded[\"attention_mask\"].flatten())\n",
        "\n",
        "    return all_encoded\n",
        "\n",
        "def preprocess_dataset(dataset):\n",
        "  # Encode the input data\n",
        "  dataset = dataset.map(encode_batch, batched=True)\n",
        "  # The transformers model expects the target class column to be named \"labels\"\n",
        "  dataset = dataset.rename_column(\"gold_label\", \"labels\")\n",
        "  # Transform to pytorch tensors and only output the required columns\n",
        "  dataset.set_format(columns=[\"input_ids\", \"attention_mask\", \"labels\"])\n",
        "  return dataset\n",
        "    "
      ]
    },
    {
      "cell_type": "code",
      "execution_count": 2,
      "metadata": {
        "id": "K6fez1rC451M"
      },
      "outputs": [],
      "source": [
        "def make_dataset(df, lang):\n",
        "    en_data = get_data(lang, df)\n",
        "    en_data = en_data.dropna()\n",
        "    print(\"Size of data for language\", lang, en_data.shape)\n",
        "\n",
        "    labels = en_data[\"gold_label\"].values\n",
        "    labels = [0 if label == \"entailment\" else 1 if label == \"neutral\" else 2 for label in labels]\n",
        "    en_data[\"gold_label\"] = labels\n",
        "    en_data = Dataset.from_pandas(en_data)\n",
        "\n",
        "    dataset_en = preprocess_dataset(en_data)\n",
        "    dataset_en = dataset_en.remove_columns([\"language\", \"premise\", \"hypothesis\", \"__index_level_0__\"])\n",
        "\n",
        "    return dataset_en"
      ]
    },
    {
      "cell_type": "code",
      "execution_count": 11,
      "metadata": {
        "colab": {
          "base_uri": "https://localhost:8080/",
          "height": 326,
          "referenced_widgets": [
            "b0d1d0bfeab8472b8b84cfee85e72113",
            "63fc24f3b7e8452f8855de5c4f6c12e8",
            "69042f9111ee4f838d613e34cbd5b15b",
            "2c17827ab3234e7f84a0a71bc5ac07ff",
            "d7301be9d0cc4b33a0194779cd7b4666",
            "9d2fd36cc047421f9b69ae32274b52e7",
            "97e541fb2f0d4df8aba61c61eded3e41",
            "cd8d8e4fbe4445a694f432fc3a31cb70",
            "7d2d0b6a654e43728e2875cb859a1b35",
            "f9af4d412f27451fafb550974f3412a0",
            "8c3ff31110984abb8ebee1822cb57a50",
            "6b1c49f3823e4841b52a5955d71f1a3d",
            "27a63b357720402aac20544416571e3d",
            "3f18e0da420c4b71abbb5325e7fe2820",
            "a97b3aed9f354e7ca83ee805c7c9f4ad",
            "e9eeddbb95de4c4c87e2d6c2a95046a0",
            "b7f7fa38e687481d9cc0669a6e6c350d",
            "90f3e58810df401eac27eb710caf96c6",
            "35b2d65b3de74ba087777e6774da02bd",
            "202d02e60ac442dca950b5932e51f878",
            "0f67a879121e49cf90e335612cdd3d0b",
            "bab0aabce99744c7904c17526aefa0d1",
            "690ca96729b94e468f77aa9814b1b19a",
            "ca51364f329f4b59bd7dfb4538a234e3",
            "bc2b10c9c8a540119ba0dabfc7aa21a1",
            "03771298ea704995a37f81eb493ad237",
            "25c446764f3a490dac4ce4130dc84882",
            "345210309dad4142bd4377274630c2c0",
            "8e10df02746e44f1b66309f747886b84",
            "e883bafb8b26461f96ca454059542ec2",
            "a794957d8da24d5c9123ea472870ade1",
            "a781b81f2012474ca2cc38bc6447a813",
            "a74042ce16014b5faf6ccc6c0eb150ce",
            "355f674b197e44eaa0ce1d148b51846b",
            "880415bf11604d7b8cdd08f767035675",
            "b65c8484c30049f283dc301b3bcfe98a",
            "4cf9dce358534822a78bddee0da16719",
            "f6fad8fb8be44a8a841b4577684856ce",
            "8eeec213098c4cc4ac27ebe2ef87cd94",
            "10a1a14dcfd54f60af650daad29656fa",
            "a78c8d3f571c4368beb897acdc24b405",
            "f99e9b8c1d3847e389a8ba1171a77022",
            "82a4e7c61ca246af9c12e6d3f288d289",
            "54b185fcd1594edfb5e1a838be6a168b"
          ]
        },
        "id": "s63dhI_C0hHM",
        "outputId": "e47dd44e-07f2-4833-9539-d6ca9c928499"
      },
      "outputs": [
        {
          "name": "stdout",
          "output_type": "stream",
          "text": [
            "Tokenizing data\n"
          ]
        },
        {
          "name": "stderr",
          "output_type": "stream",
          "text": [
            "Could not locate the tokenizer configuration file, will try to use the model config instead.\n",
            "loading configuration file https://huggingface.co/xlm-roberta-base/resolve/main/config.json from cache at /Users/kshitijalwadhi/.cache/huggingface/transformers/87683eb92ea383b0475fecf99970e950a03c9ff5e51648d6eee56fb754612465.dfaaaedc7c1c475302398f09706cbb21e23951b73c6e2b3162c1c8a99bb3b62a\n",
            "Model config XLMRobertaConfig {\n",
            "  \"_name_or_path\": \"xlm-roberta-base\",\n",
            "  \"architectures\": [\n",
            "    \"XLMRobertaForMaskedLM\"\n",
            "  ],\n",
            "  \"attention_probs_dropout_prob\": 0.1,\n",
            "  \"bos_token_id\": 0,\n",
            "  \"classifier_dropout\": null,\n",
            "  \"eos_token_id\": 2,\n",
            "  \"hidden_act\": \"gelu\",\n",
            "  \"hidden_dropout_prob\": 0.1,\n",
            "  \"hidden_size\": 768,\n",
            "  \"initializer_range\": 0.02,\n",
            "  \"intermediate_size\": 3072,\n",
            "  \"layer_norm_eps\": 1e-05,\n",
            "  \"max_position_embeddings\": 514,\n",
            "  \"model_type\": \"xlm-roberta\",\n",
            "  \"num_attention_heads\": 12,\n",
            "  \"num_hidden_layers\": 12,\n",
            "  \"output_past\": true,\n",
            "  \"pad_token_id\": 1,\n",
            "  \"position_embedding_type\": \"absolute\",\n",
            "  \"transformers_version\": \"4.21.3\",\n",
            "  \"type_vocab_size\": 1,\n",
            "  \"use_cache\": true,\n",
            "  \"vocab_size\": 250002\n",
            "}\n",
            "\n",
            "loading file https://huggingface.co/xlm-roberta-base/resolve/main/sentencepiece.bpe.model from cache at /Users/kshitijalwadhi/.cache/huggingface/transformers/9df9ae4442348b73950203b63d1b8ed2d18eba68921872aee0c3a9d05b9673c6.00628a9eeb8baf4080d44a0abe9fe8057893de20c7cb6e6423cddbf452f7d4d8\n",
            "loading file https://huggingface.co/xlm-roberta-base/resolve/main/tokenizer.json from cache at /Users/kshitijalwadhi/.cache/huggingface/transformers/daeda8d936162ca65fe6dd158ecce1d8cb56c17d89b78ab86be1558eaef1d76a.a984cf52fc87644bd4a2165f1e07e0ac880272c1e82d648b4674907056912bd7\n",
            "loading file https://huggingface.co/xlm-roberta-base/resolve/main/added_tokens.json from cache at None\n",
            "loading file https://huggingface.co/xlm-roberta-base/resolve/main/special_tokens_map.json from cache at None\n",
            "loading file https://huggingface.co/xlm-roberta-base/resolve/main/tokenizer_config.json from cache at None\n",
            "loading configuration file https://huggingface.co/xlm-roberta-base/resolve/main/config.json from cache at /Users/kshitijalwadhi/.cache/huggingface/transformers/87683eb92ea383b0475fecf99970e950a03c9ff5e51648d6eee56fb754612465.dfaaaedc7c1c475302398f09706cbb21e23951b73c6e2b3162c1c8a99bb3b62a\n",
            "Model config XLMRobertaConfig {\n",
            "  \"_name_or_path\": \"xlm-roberta-base\",\n",
            "  \"architectures\": [\n",
            "    \"XLMRobertaForMaskedLM\"\n",
            "  ],\n",
            "  \"attention_probs_dropout_prob\": 0.1,\n",
            "  \"bos_token_id\": 0,\n",
            "  \"classifier_dropout\": null,\n",
            "  \"eos_token_id\": 2,\n",
            "  \"hidden_act\": \"gelu\",\n",
            "  \"hidden_dropout_prob\": 0.1,\n",
            "  \"hidden_size\": 768,\n",
            "  \"initializer_range\": 0.02,\n",
            "  \"intermediate_size\": 3072,\n",
            "  \"layer_norm_eps\": 1e-05,\n",
            "  \"max_position_embeddings\": 514,\n",
            "  \"model_type\": \"xlm-roberta\",\n",
            "  \"num_attention_heads\": 12,\n",
            "  \"num_hidden_layers\": 12,\n",
            "  \"output_past\": true,\n",
            "  \"pad_token_id\": 1,\n",
            "  \"position_embedding_type\": \"absolute\",\n",
            "  \"transformers_version\": \"4.21.3\",\n",
            "  \"type_vocab_size\": 1,\n",
            "  \"use_cache\": true,\n",
            "  \"vocab_size\": 250002\n",
            "}\n",
            "\n",
            "loading configuration file https://huggingface.co/xlm-roberta-base/resolve/main/config.json from cache at /Users/kshitijalwadhi/.cache/huggingface/transformers/87683eb92ea383b0475fecf99970e950a03c9ff5e51648d6eee56fb754612465.dfaaaedc7c1c475302398f09706cbb21e23951b73c6e2b3162c1c8a99bb3b62a\n",
            "Model config XLMRobertaConfig {\n",
            "  \"_name_or_path\": \"xlm-roberta-base\",\n",
            "  \"architectures\": [\n",
            "    \"XLMRobertaForMaskedLM\"\n",
            "  ],\n",
            "  \"attention_probs_dropout_prob\": 0.1,\n",
            "  \"bos_token_id\": 0,\n",
            "  \"classifier_dropout\": null,\n",
            "  \"eos_token_id\": 2,\n",
            "  \"hidden_act\": \"gelu\",\n",
            "  \"hidden_dropout_prob\": 0.1,\n",
            "  \"hidden_size\": 768,\n",
            "  \"initializer_range\": 0.02,\n",
            "  \"intermediate_size\": 3072,\n",
            "  \"layer_norm_eps\": 1e-05,\n",
            "  \"max_position_embeddings\": 514,\n",
            "  \"model_type\": \"xlm-roberta\",\n",
            "  \"num_attention_heads\": 12,\n",
            "  \"num_hidden_layers\": 12,\n",
            "  \"output_past\": true,\n",
            "  \"pad_token_id\": 1,\n",
            "  \"position_embedding_type\": \"absolute\",\n",
            "  \"transformers_version\": \"4.21.3\",\n",
            "  \"type_vocab_size\": 1,\n",
            "  \"use_cache\": true,\n",
            "  \"vocab_size\": 250002\n",
            "}\n",
            "\n",
            "loading weights file https://huggingface.co/xlm-roberta-base/resolve/main/pytorch_model.bin from cache at /Users/kshitijalwadhi/.cache/huggingface/transformers/97d0ea09f8074264957d062ec20ccb79af7b917d091add8261b26874daf51b5d.f42212747c1c27fcebaa0a89e2a83c38c6d3d4340f21922f892b88d882146ac2\n",
            "Some weights of the model checkpoint at xlm-roberta-base were not used when initializing XLMRobertaAdapterModel: ['lm_head.dense.weight', 'lm_head.dense.bias', 'lm_head.layer_norm.bias', 'lm_head.layer_norm.weight', 'lm_head.decoder.weight', 'lm_head.bias']\n",
            "- This IS expected if you are initializing XLMRobertaAdapterModel from the checkpoint of a model trained on another task or with another architecture (e.g. initializing a BertForSequenceClassification model from a BertForPreTraining model).\n",
            "- This IS NOT expected if you are initializing XLMRobertaAdapterModel from the checkpoint of a model that you expect to be exactly identical (initializing a BertForSequenceClassification model from a BertForSequenceClassification model).\n",
            "Some weights of XLMRobertaAdapterModel were not initialized from the model checkpoint at xlm-roberta-base and are newly initialized: ['roberta.embeddings.position_ids']\n",
            "You should probably TRAIN this model on a down-stream task to be able to use it for predictions and inference.\n"
          ]
        },
        {
          "name": "stdout",
          "output_type": "stream",
          "text": [
            "Reading data\n"
          ]
        },
        {
          "name": "stderr",
          "output_type": "stream",
          "text": [
            "Adding head 'nli' with config {'head_type': 'classification', 'num_labels': 3, 'layers': 2, 'activation_function': 'tanh', 'label2id': {'LABEL_0': 0, 'LABEL_1': 1, 'LABEL_2': 2}, 'use_pooler': False, 'bias': True}.\n",
            "Adding adapter 'nli'.\n"
          ]
        },
        {
          "name": "stdout",
          "output_type": "stream",
          "text": [
            "Size of Train data (920, 4)\n",
            "Size of Test data (230, 4)\n"
          ]
        }
      ],
      "source": [
        "print(\"Tokenizing data\")\n",
        "tokenizer = AutoTokenizer.from_pretrained(\"xlm-roberta-base\")\n",
        "\n",
        "config = AutoConfig.from_pretrained(\n",
        "        \"xlm-roberta-base\",\n",
        "    )\n",
        "model = AutoAdapterModel.from_pretrained(\n",
        "    \"xlm-roberta-base\",\n",
        "    config=config,\n",
        ")\n",
        "\n",
        "# Load the language adapters\n",
        "lang_adapter_config = AdapterConfig.load(\"pfeiffer\", reduction_factor=2)\n",
        "\n",
        "\n",
        "# load all language adapters \n",
        "lang_adapters = {\n",
        "    \"en\" : \"en/wiki@ukp\",\n",
        "    \"vi\" : \"vi/wiki@ukp\",\n",
        "    \"de\" : \"de/wiki@ukp\",\n",
        "    \"ar\" : \"ar/wiki@ukp\",\n",
        "    \"es\" : \"es/wiki@ukp\",\n",
        "    \"bg\" : \"bg/wiki@ukp\",\n",
        "    \"el\" : \"el/wiki@ukp\",\n",
        "    \"th\" : \"th/wiki@ukp\",\n",
        "    \"ru\" : \"ru/wiki@ukp\",\n",
        "    \"tr\" : \"tr/wiki@ukp\",\n",
        "    \"sw\" : \"sw/wiki@ukp\",\n",
        "    \"ur\" : \"ur/wiki@ukp\",\n",
        "    \"zh\" : \"zh/wiki@ukp\",\n",
        "    \"hi\" : \"hi/wiki@ukp\",\n",
        "    \"fr\" : \"fr/wiki@ukp\",\n",
        "}\n",
        "\n",
        "print(\"Reading data\")\n",
        "df = pd.read_csv(\"data/train.tsv\",sep=\"\\t\")\n",
        "df = df.sample(frac=0.01 , random_state = 42)\n",
        "\n",
        "# split data into 80 and 20 in each language\n",
        "\n",
        "languages = df.language.unique()\n",
        "train_data = None\n",
        "for lang in languages:\n",
        "    lang_data = df[df.language == lang]\n",
        "    if train_data is None:\n",
        "        train_data = lang_data.sample(frac=0.8, random_state=42)\n",
        "        test_data = lang_data.drop(train_data.index)\n",
        "    else:\n",
        "        temp = lang_data.sample(frac=0.8, random_state=42)\n",
        "        train_data = pd.concat([train_data, temp])\n",
        "        test_data = pd.concat([test_data, lang_data.drop(temp.index)])\n",
        "\n",
        "print(\"Size of Train data\", train_data.shape)\n",
        "print(\"Size of Test data\", test_data.shape)\n",
        "\n",
        "# Add a classification head for our target task\n",
        "model.add_classification_head(\"nli\", num_labels=3)\n",
        "\n",
        "# Add a new task adapter\n",
        "model.add_adapter(\"nli\")\n",
        "\n",
        "languages = get_languages(df)"
      ]
    },
    {
      "cell_type": "code",
      "execution_count": 12,
      "metadata": {
        "colab": {
          "base_uri": "https://localhost:8080/"
        },
        "id": "er-MTwmsaHM9",
        "outputId": "9810b12f-b7d9-4172-aa83-70bb2fae241d"
      },
      "outputs": [
        {
          "data": {
            "text/plain": [
              "array(['th', 'en', 'sw', 'hi', 'fr', 'ar', 'de', 'es', 'ur', 'ru', 'el',\n",
              "       'zh', 'bg', 'tr', 'vi'], dtype=object)"
            ]
          },
          "execution_count": 12,
          "metadata": {},
          "output_type": "execute_result"
        }
      ],
      "source": [
        "languages"
      ]
    },
    {
      "cell_type": "code",
      "execution_count": 13,
      "metadata": {
        "id": "n-EiJHDAcW1W"
      },
      "outputs": [],
      "source": [
        "languages = ['en']"
      ]
    },
    {
      "cell_type": "code",
      "execution_count": 14,
      "metadata": {
        "id": "xqDcJegxzGaX"
      },
      "outputs": [],
      "source": [
        "from sklearn.metrics import f1_score, accuracy_score, recall_score, precision_score"
      ]
    },
    {
      "cell_type": "code",
      "execution_count": 15,
      "metadata": {
        "id": "f2TtTlU_zDy6"
      },
      "outputs": [],
      "source": [
        "def compute_metrics(p):    \n",
        "    pred, labels = p\n",
        "    pred = np.argmax(pred, axis=1)\n",
        "    accuracy = accuracy_score(y_true=labels, y_pred=pred)\n",
        "    recall = recall_score(y_true=labels, y_pred=pred,average='weighted')\n",
        "    precision = precision_score(y_true=labels, y_pred=pred,average='weighted')\n",
        "    f1 = f1_score(y_true=labels, y_pred=pred,average='weighted')    \n",
        "    return {\"accuracy\": accuracy, \"precision\": precision, \"recall\": recall, \"f1\": f1}"
      ]
    },
    {
      "cell_type": "code",
      "execution_count": 16,
      "metadata": {
        "id": "RBojo5lUzaB0"
      },
      "outputs": [],
      "source": [
        "from transformers import EarlyStoppingCallback, IntervalStrategy"
      ]
    },
    {
      "cell_type": "code",
      "execution_count": 17,
      "metadata": {
        "colab": {
          "base_uri": "https://localhost:8080/",
          "height": 1000,
          "referenced_widgets": [
            "93b39044d1df4b93a00b44732c3ecfa2",
            "6dce3c194837462981601ca09275b9ad",
            "7d9666d2f15d4e50823fdab9b950f416",
            "660709a487aa4a8c9af64c429577bb94",
            "cc81179dd787433fa42c08841d162cbd",
            "af45528f2a014d3e925256acca4ada63",
            "1a31e107342d40e9aab99d8b02fc5878",
            "13b5916d93794e30b727b5487607bebe",
            "a1faa7e81aa5435bbfbab114298e1aa4",
            "eefd2f4bf22b4dd7bd5a8a4ee42adb30",
            "67ec6cb33bad49e996218fed533af995",
            "eaf76f904d99481db2d2992ac72735e6",
            "891fc8adfef64294b121a1f151dc2c41",
            "9a34aefe43324e9e90ed50089d6bd26b",
            "31d9c671ec064429b11933f454b1b006",
            "a5193a80a41d48328f6564883802f685",
            "226c61e9d3834d668334d2d3a283c0e2",
            "24237d248dc445deb31ecd75683291bc",
            "8b716dc8745b4db98309d4924690eba1",
            "2bb171b56637457d998ec774b516e101",
            "481b3307bfc2433b8ee04388a6a5fabc",
            "a93e746911964af48c428a8a85c48b9c",
            "db3693e2a0d94bc3a8618407af288d98",
            "97cd7aaa59eb48e5807efba88811ce03",
            "52d342216fa04167889a4ef051c7235d",
            "f25f4cf4a353482a83db1713a56b5ad4",
            "84dc804170cb4dd89cfb7a7b33de0de8",
            "f4b0133db93d474280d93fe275a4599a",
            "ec6cc467771c4d22a3adbf0062f6d298",
            "8559e7f229174ad5becc9eb8c1e7e0a5",
            "4d65ef4c73b5445aa662daed1ef4321b",
            "b759877d47064034bc4bfbb804551596",
            "e889855d1fd2476598fe86972abcafd3",
            "ee33d9a8e7b44effa1e7bb980f057ffd",
            "0320ba0a3d84406ba0285ae35251d5a7",
            "5798ac7e6ed148109d311821622064c8",
            "21bdf433b62441eda1acaac3baaa68de",
            "7ebb47680a6c4a24ae94b633cdd203e6",
            "b2f1a8a7cd8e44df96978a0985df37a2",
            "5c809c3a078847c2a4499929829560fb",
            "30be76ca8c0949b7b645b6c36a31be9d",
            "16128394261e4f3bbeecb4c560f351e3",
            "bdaade8c79284d8fb1a95edcb6ba4257",
            "44dc83f778e24858b8e233153c82e4d7"
          ]
        },
        "id": "pKMdz0cN6AAB",
        "outputId": "2aa3e792-51ec-4d91-9d46-f814a661bc8a"
      },
      "outputs": [
        {
          "name": "stdout",
          "output_type": "stream",
          "text": [
            "Size of data for language en (814, 4)\n"
          ]
        },
        {
          "data": {
            "application/vnd.jupyter.widget-view+json": {
              "model_id": "1529b17f7fe34c7b80cdfb2e12419a35",
              "version_major": 2,
              "version_minor": 0
            },
            "text/plain": [
              "  0%|          | 0/1 [00:00<?, ?ba/s]"
            ]
          },
          "metadata": {},
          "output_type": "display_data"
        },
        {
          "name": "stderr",
          "output_type": "stream",
          "text": [
            "/opt/homebrew/lib/python3.10/site-packages/transformers/tokenization_utils_base.py:2323: FutureWarning: The `pad_to_max_length` argument is deprecated and will be removed in a future version, use `padding=True` or `padding='longest'` to pad to the longest sequence in the batch, or use `padding='max_length'` to pad to a max length. In this case, you can give a specific length with `max_length` (e.g. `max_length=45`) or leave max_length to None to pad to the maximal input size of the model (e.g. 512 for Bert).\n",
            "  warnings.warn(\n"
          ]
        },
        {
          "name": "stdout",
          "output_type": "stream",
          "text": [
            "Size of data for language en (203, 4)\n"
          ]
        },
        {
          "data": {
            "application/vnd.jupyter.widget-view+json": {
              "model_id": "4b0b9f65ef5c443b8b4a80ae972642c3",
              "version_major": 2,
              "version_minor": 0
            },
            "text/plain": [
              "  0%|          | 0/1 [00:00<?, ?ba/s]"
            ]
          },
          "metadata": {},
          "output_type": "display_data"
        },
        {
          "name": "stderr",
          "output_type": "stream",
          "text": [
            "Attempting to load adapter from source 'ah'...\n"
          ]
        },
        {
          "name": "stdout",
          "output_type": "stream",
          "text": [
            "Loading language adapter for en\n"
          ]
        },
        {
          "name": "stderr",
          "output_type": "stream",
          "text": [
            "Found matching adapter at: adapters/ukp/xlm-roberta-base-en-wiki_pfeiffer.json\n",
            "Resolved adapter files at https://public.ukp.informatik.tu-darmstadt.de/AdapterHub/text_lang/en/xlm-roberta-base/pfeiffer/en_relu_2.zip.\n",
            "Loading module configuration from ~/.cache/torch/adapters/3e9c8c800af886cd1c684a3acf4929990b35f3ac75e050e942de2ff2ecf895fe-caabba7772816577124631d5b84810c4d32f49afcea4fca637162ec7f432174f-extracted/adapter_config.json\n",
            "Adding adapter 'en'.\n",
            "Loading module weights from ~/.cache/torch/adapters/3e9c8c800af886cd1c684a3acf4929990b35f3ac75e050e942de2ff2ecf895fe-caabba7772816577124631d5b84810c4d32f49afcea4fca637162ec7f432174f-extracted/pytorch_adapter.bin\n",
            "No matching prediction head found in '~/.cache/torch/adapters/3e9c8c800af886cd1c684a3acf4929990b35f3ac75e050e942de2ff2ecf895fe-caabba7772816577124631d5b84810c4d32f49afcea4fca637162ec7f432174f-extracted'\n",
            "PyTorch: setting up devices\n",
            "The default value for the training argument `--report_to` will change in v5 (from all installed integrations to none). In v5, you will need to use `--report_to all` to get the same behavior as now. You should start updating your code and make this info disappear :-).\n",
            "/opt/homebrew/lib/python3.10/site-packages/transformers/optimization.py:306: FutureWarning: This implementation of AdamW is deprecated and will be removed in a future version. Use the PyTorch implementation torch.optim.AdamW instead, or set `no_deprecation_warning=True` to disable this warning\n",
            "  warnings.warn(\n",
            "***** Running training *****\n",
            "  Num examples = 814\n",
            "  Num Epochs = 1\n",
            "  Instantaneous batch size per device = 64\n",
            "  Total train batch size (w. parallel, distributed & accumulation) = 64\n",
            "  Gradient Accumulation steps = 1\n",
            "  Total optimization steps = 13\n"
          ]
        },
        {
          "name": "stdout",
          "output_type": "stream",
          "text": [
            "Training on en\n"
          ]
        },
        {
          "data": {
            "application/vnd.jupyter.widget-view+json": {
              "model_id": "c0c05369fd2242e88b5db7d8fa7afe9d",
              "version_major": 2,
              "version_minor": 0
            },
            "text/plain": [
              "  0%|          | 0/13 [00:00<?, ?it/s]"
            ]
          },
          "metadata": {},
          "output_type": "display_data"
        },
        {
          "name": "stderr",
          "output_type": "stream",
          "text": [
            "***** Running Evaluation *****\n",
            "  Num examples = 203\n",
            "  Batch size = 64\n"
          ]
        },
        {
          "data": {
            "application/vnd.jupyter.widget-view+json": {
              "model_id": "00cb0949bf7242308bbd59360169e6cd",
              "version_major": 2,
              "version_minor": 0
            },
            "text/plain": [
              "  0%|          | 0/4 [00:00<?, ?it/s]"
            ]
          },
          "metadata": {},
          "output_type": "display_data"
        },
        {
          "name": "stderr",
          "output_type": "stream",
          "text": [
            "/opt/homebrew/lib/python3.10/site-packages/sklearn/metrics/_classification.py:1334: UndefinedMetricWarning: Precision is ill-defined and being set to 0.0 in labels with no predicted samples. Use `zero_division` parameter to control this behavior.\n",
            "  _warn_prf(average, modifier, msg_start, len(result))\n",
            "Saving model checkpoint to ./training_output/checkpoint-13\n",
            "Configuration saved in ./training_output/checkpoint-13/nli/adapter_config.json\n",
            "Module weights saved in ./training_output/checkpoint-13/nli/pytorch_adapter.bin\n",
            "Configuration saved in ./training_output/checkpoint-13/nli/head_config.json\n",
            "Module weights saved in ./training_output/checkpoint-13/nli/pytorch_model_head.bin\n",
            "Configuration saved in ./training_output/checkpoint-13/en/adapter_config.json\n",
            "Module weights saved in ./training_output/checkpoint-13/en/pytorch_adapter.bin\n",
            "Configuration saved in ./training_output/checkpoint-13/nli/head_config.json\n",
            "Module weights saved in ./training_output/checkpoint-13/nli/pytorch_model_head.bin\n",
            "\n",
            "\n",
            "Training completed. Do not forget to share your model on huggingface.co/models =)\n",
            "\n",
            "\n",
            "Loading best model from ./training_output/checkpoint-13 (score: 0.18125921398007985).\n",
            "Could not locate the best model at ./training_output/checkpoint-13/pytorch_model.bin, if you are running a distributed training on multiple nodes, you should activate `--save_on_each_node`.\n",
            "Loading best adapter(s) from ./training_output/checkpoint-13 (score: 0.18125921398007985).\n",
            "Loading module configuration from ./training_output/checkpoint-13/nli/adapter_config.json\n",
            "Overwriting existing adapter 'nli'.\n",
            "Loading module weights from ./training_output/checkpoint-13/nli/pytorch_adapter.bin\n",
            "Loading module configuration from ./training_output/checkpoint-13/nli/head_config.json\n",
            "Overwriting existing head 'nli'\n",
            "Adding head 'nli' with config {'head_type': 'classification', 'num_labels': 3, 'layers': 2, 'activation_function': 'tanh', 'label2id': {'LABEL_0': 0, 'LABEL_1': 1, 'LABEL_2': 2}, 'use_pooler': False, 'bias': True}.\n",
            "Loading module weights from ./training_output/checkpoint-13/nli/pytorch_model_head.bin\n",
            "Loading module configuration from ./training_output/checkpoint-13/en/adapter_config.json\n",
            "Overwriting existing adapter 'en'.\n",
            "Loading module weights from ./training_output/checkpoint-13/en/pytorch_adapter.bin\n",
            "No matching prediction head found in './training_output/checkpoint-13/en'\n",
            "Configuration saved in adapters_trained/adapter_config.json\n",
            "Module weights saved in adapters_trained/pytorch_adapter.bin\n",
            "Configuration saved in adapters_trained/head_config.json\n",
            "Module weights saved in adapters_trained/pytorch_model_head.bin\n"
          ]
        },
        {
          "name": "stdout",
          "output_type": "stream",
          "text": [
            "{'eval_loss': 1.0963269472122192, 'eval_accuracy': 0.3497536945812808, 'eval_precision': 0.12232764687325584, 'eval_recall': 0.3497536945812808, 'eval_f1': 0.18125921398007985, 'eval_runtime': 13.086, 'eval_samples_per_second': 15.513, 'eval_steps_per_second': 0.306, 'epoch': 1.0}\n",
            "{'train_runtime': 195.6008, 'train_samples_per_second': 4.162, 'train_steps_per_second': 0.066, 'train_loss': 1.1232525018545299, 'epoch': 1.0}\n"
          ]
        }
      ],
      "source": [
        "acc = {}\n",
        "\n",
        "for lang in languages:\n",
        "\n",
        "    en_data_train = make_dataset(train_data, lang)\n",
        "    en_data_test = make_dataset(test_data, lang)\n",
        "\n",
        "    print(\"Loading language adapter for {}\".format(lang))\n",
        "    try:\n",
        "        model.load_adapter(lang_adapters[lang], config=lang_adapter_config)\n",
        "        model.train_adapter([\"nli\"])\n",
        "        model.active_adapters = Stack(lang, \"nli\")\n",
        "    except:\n",
        "        model.add_adapter(lang_adapters[lang], config = lang_adapter_config)\n",
        "        model.train_adapter([lang_adapters[lang],\"nli\"])\n",
        "        model.save_adapter(\"adapters_trained/\", lang_adapters[lang])\n",
        "        model.train_adapter([\"nli\"])\n",
        "        model.active_adapters = Stack(lang_adapters[lang], \"nli\")\n",
        "\n",
        "    training_args = TrainingArguments(\n",
        "        learning_rate=3e-4,\n",
        "        num_train_epochs=1,\n",
        "        per_device_train_batch_size=64,\n",
        "        per_device_eval_batch_size=64,\n",
        "        logging_steps=100,\n",
        "        output_dir=\"./training_output\",\n",
        "        overwrite_output_dir=True,\n",
        "        # The next line is important to ensure the dataset labels are properly passed to the model\n",
        "        remove_unused_columns=False,\n",
        "        evaluation_strategy = \"epoch\", # \"steps\"\n",
        "        save_strategy = 'epoch',\n",
        "        # eval_steps = 50, # Evaluation and Save happens every 50 steps,\n",
        "        metric_for_best_model = 'f1',\n",
        "        load_best_model_at_end=True\n",
        "    )\n",
        "\n",
        "    trainer = AdapterTrainer(\n",
        "        model=model,\n",
        "        args=training_args,\n",
        "        train_dataset=en_data_train,\n",
        "        eval_dataset = en_data_test,\n",
        "        compute_metrics=compute_metrics,\n",
        "        callbacks = [EarlyStoppingCallback(early_stopping_patience=5)]\n",
        "    )\n",
        "\n",
        "    print(f\"Training on {lang}\")\n",
        "\n",
        "    trainer.train()    \n",
        "\n",
        "    # eval_trainer = AdapterTrainer(\n",
        "    # model=model,\n",
        "    # args=TrainingArguments(output_dir=\"./eval_output\", remove_unused_columns=False,),\n",
        "    # eval_dataset=en_data_test,\n",
        "    # compute_metrics=compute_accuracy,\n",
        "    # )\n",
        "\n",
        "    # acc[lang] = eval_trainer.evaluate()[\"eval_acc\"]\n",
        "    # print(acc)\n",
        "\n",
        "\n",
        "model.save_adapter(\"adapters_trained/\", \"nli\")"
      ]
    },
    {
      "cell_type": "code",
      "execution_count": 18,
      "metadata": {
        "id": "Gh35gYdq_IUA"
      },
      "outputs": [
        {
          "name": "stdout",
          "output_type": "stream",
          "text": [
            "Size of data for language th (8, 4)\n"
          ]
        },
        {
          "data": {
            "application/vnd.jupyter.widget-view+json": {
              "model_id": "625c388e24ba4b7a9ed0e35c913463e5",
              "version_major": 2,
              "version_minor": 0
            },
            "text/plain": [
              "  0%|          | 0/1 [00:00<?, ?ba/s]"
            ]
          },
          "metadata": {},
          "output_type": "display_data"
        },
        {
          "name": "stdout",
          "output_type": "stream",
          "text": [
            "Size of data for language th (2, 4)\n"
          ]
        },
        {
          "name": "stderr",
          "output_type": "stream",
          "text": [
            "/opt/homebrew/lib/python3.10/site-packages/transformers/tokenization_utils_base.py:2323: FutureWarning: The `pad_to_max_length` argument is deprecated and will be removed in a future version, use `padding=True` or `padding='longest'` to pad to the longest sequence in the batch, or use `padding='max_length'` to pad to a max length. In this case, you can give a specific length with `max_length` (e.g. `max_length=45`) or leave max_length to None to pad to the maximal input size of the model (e.g. 512 for Bert).\n",
            "  warnings.warn(\n"
          ]
        },
        {
          "data": {
            "application/vnd.jupyter.widget-view+json": {
              "model_id": "ab11ccb978d149359a84c16e390d3030",
              "version_major": 2,
              "version_minor": 0
            },
            "text/plain": [
              "  0%|          | 0/1 [00:00<?, ?ba/s]"
            ]
          },
          "metadata": {},
          "output_type": "display_data"
        },
        {
          "name": "stderr",
          "output_type": "stream",
          "text": [
            "Attempting to load adapter from source 'ah'...\n",
            "Found matching adapter at: adapters/ukp/xlm-roberta-base-th-wiki_pfeiffer.json\n"
          ]
        },
        {
          "name": "stdout",
          "output_type": "stream",
          "text": [
            "Loading language adapter for th\n"
          ]
        },
        {
          "name": "stderr",
          "output_type": "stream",
          "text": [
            "Resolved adapter files at https://public.ukp.informatik.tu-darmstadt.de/AdapterHub/text_lang/th/xlm-roberta-base/pfeiffer/th_relu_2.zip.\n",
            "Loading module configuration from ~/.cache/torch/adapters/3bdb198426613f6a77006f5a46da66ef1428b58b90dbfba42d6bf88df5196636-bd0ba143e452d761929436fabaab61cc2d37d5b8b834bb47c17032ff07f11989-extracted/adapter_config.json\n",
            "Adding adapter 'th'.\n",
            "Loading module weights from ~/.cache/torch/adapters/3bdb198426613f6a77006f5a46da66ef1428b58b90dbfba42d6bf88df5196636-bd0ba143e452d761929436fabaab61cc2d37d5b8b834bb47c17032ff07f11989-extracted/pytorch_adapter.bin\n",
            "No matching prediction head found in '~/.cache/torch/adapters/3bdb198426613f6a77006f5a46da66ef1428b58b90dbfba42d6bf88df5196636-bd0ba143e452d761929436fabaab61cc2d37d5b8b834bb47c17032ff07f11989-extracted'\n",
            "PyTorch: setting up devices\n",
            "The default value for the training argument `--report_to` will change in v5 (from all installed integrations to none). In v5, you will need to use `--report_to all` to get the same behavior as now. You should start updating your code and make this info disappear :-).\n",
            "***** Running Evaluation *****\n",
            "  Num examples = 2\n",
            "  Batch size = 8\n"
          ]
        },
        {
          "data": {
            "application/vnd.jupyter.widget-view+json": {
              "model_id": "6d1c30c100e2459d96dd58f2e46d8a75",
              "version_major": 2,
              "version_minor": 0
            },
            "text/plain": [
              "  0%|          | 0/1 [00:00<?, ?it/s]"
            ]
          },
          "metadata": {},
          "output_type": "display_data"
        },
        {
          "name": "stdout",
          "output_type": "stream",
          "text": [
            "{'th': 0.0}\n",
            "Size of data for language sw (8, 4)\n"
          ]
        },
        {
          "data": {
            "application/vnd.jupyter.widget-view+json": {
              "model_id": "695dccd5380847a4ab0e5602cf4ed244",
              "version_major": 2,
              "version_minor": 0
            },
            "text/plain": [
              "  0%|          | 0/1 [00:00<?, ?ba/s]"
            ]
          },
          "metadata": {},
          "output_type": "display_data"
        },
        {
          "name": "stdout",
          "output_type": "stream",
          "text": [
            "Size of data for language sw (2, 4)\n"
          ]
        },
        {
          "data": {
            "application/vnd.jupyter.widget-view+json": {
              "model_id": "fcb3d3092e9e437bb282ba4122ddf393",
              "version_major": 2,
              "version_minor": 0
            },
            "text/plain": [
              "  0%|          | 0/1 [00:00<?, ?ba/s]"
            ]
          },
          "metadata": {},
          "output_type": "display_data"
        },
        {
          "name": "stderr",
          "output_type": "stream",
          "text": [
            "Attempting to load adapter from source 'ah'...\n",
            "Found matching adapter at: adapters/ukp/xlm-roberta-base-sw-wiki_pfeiffer.json\n"
          ]
        },
        {
          "name": "stdout",
          "output_type": "stream",
          "text": [
            "Loading language adapter for sw\n"
          ]
        },
        {
          "name": "stderr",
          "output_type": "stream",
          "text": [
            "Resolved adapter files at https://public.ukp.informatik.tu-darmstadt.de/AdapterHub/text_lang/sw/xlm-roberta-base/pfeiffer/sw_relu_2.zip.\n",
            "Loading module configuration from ~/.cache/torch/adapters/981cf82973bee43c18c392a9e041e5d8e40e8775a4ba2bc3c34c26d09182369d-5816fdbe39d2fb00a5a4c32d152ab0f364c258e27b16578eb1e5dd666b5588cc-extracted/adapter_config.json\n",
            "Adding adapter 'sw'.\n",
            "Loading module weights from ~/.cache/torch/adapters/981cf82973bee43c18c392a9e041e5d8e40e8775a4ba2bc3c34c26d09182369d-5816fdbe39d2fb00a5a4c32d152ab0f364c258e27b16578eb1e5dd666b5588cc-extracted/pytorch_adapter.bin\n",
            "No matching prediction head found in '~/.cache/torch/adapters/981cf82973bee43c18c392a9e041e5d8e40e8775a4ba2bc3c34c26d09182369d-5816fdbe39d2fb00a5a4c32d152ab0f364c258e27b16578eb1e5dd666b5588cc-extracted'\n",
            "PyTorch: setting up devices\n",
            "The default value for the training argument `--report_to` will change in v5 (from all installed integrations to none). In v5, you will need to use `--report_to all` to get the same behavior as now. You should start updating your code and make this info disappear :-).\n",
            "***** Running Evaluation *****\n",
            "  Num examples = 2\n",
            "  Batch size = 8\n"
          ]
        },
        {
          "data": {
            "application/vnd.jupyter.widget-view+json": {
              "model_id": "6a255a8df66941e9a4ae0371dc779cab",
              "version_major": 2,
              "version_minor": 0
            },
            "text/plain": [
              "  0%|          | 0/1 [00:00<?, ?it/s]"
            ]
          },
          "metadata": {},
          "output_type": "display_data"
        },
        {
          "name": "stdout",
          "output_type": "stream",
          "text": [
            "{'th': 0.0, 'sw': 0.0}\n",
            "Size of data for language hi (11, 4)\n"
          ]
        },
        {
          "data": {
            "application/vnd.jupyter.widget-view+json": {
              "model_id": "1c427a4e26c9409fa40f9dbfc32e1b31",
              "version_major": 2,
              "version_minor": 0
            },
            "text/plain": [
              "  0%|          | 0/1 [00:00<?, ?ba/s]"
            ]
          },
          "metadata": {},
          "output_type": "display_data"
        },
        {
          "name": "stdout",
          "output_type": "stream",
          "text": [
            "Size of data for language hi (3, 4)\n"
          ]
        },
        {
          "data": {
            "application/vnd.jupyter.widget-view+json": {
              "model_id": "26576f5cf2fe4012bfaa0acc32a87e38",
              "version_major": 2,
              "version_minor": 0
            },
            "text/plain": [
              "  0%|          | 0/1 [00:00<?, ?ba/s]"
            ]
          },
          "metadata": {},
          "output_type": "display_data"
        },
        {
          "name": "stderr",
          "output_type": "stream",
          "text": [
            "Attempting to load adapter from source 'ah'...\n",
            "Found matching adapter at: adapters/ukp/xlm-roberta-base-hi-wiki_pfeiffer.json\n"
          ]
        },
        {
          "name": "stdout",
          "output_type": "stream",
          "text": [
            "Loading language adapter for hi\n"
          ]
        },
        {
          "name": "stderr",
          "output_type": "stream",
          "text": [
            "Resolved adapter files at https://public.ukp.informatik.tu-darmstadt.de/AdapterHub/text_lang/hi/xlm-roberta-base/pfeiffer/hi_relu_2.zip.\n",
            "Loading module configuration from ~/.cache/torch/adapters/f1064cdf8a49c7e1341aaaabb232e1ffe6b3d167622e9e221c5b9a6fd8898788-f8bfd9dc851f0e0faf8ffad1170c2beaeb4a28826f0a531e4cab8f10d4272501-extracted/adapter_config.json\n",
            "Adding adapter 'hi'.\n",
            "Loading module weights from ~/.cache/torch/adapters/f1064cdf8a49c7e1341aaaabb232e1ffe6b3d167622e9e221c5b9a6fd8898788-f8bfd9dc851f0e0faf8ffad1170c2beaeb4a28826f0a531e4cab8f10d4272501-extracted/pytorch_adapter.bin\n",
            "No matching prediction head found in '~/.cache/torch/adapters/f1064cdf8a49c7e1341aaaabb232e1ffe6b3d167622e9e221c5b9a6fd8898788-f8bfd9dc851f0e0faf8ffad1170c2beaeb4a28826f0a531e4cab8f10d4272501-extracted'\n",
            "PyTorch: setting up devices\n",
            "The default value for the training argument `--report_to` will change in v5 (from all installed integrations to none). In v5, you will need to use `--report_to all` to get the same behavior as now. You should start updating your code and make this info disappear :-).\n",
            "***** Running Evaluation *****\n",
            "  Num examples = 3\n",
            "  Batch size = 8\n"
          ]
        },
        {
          "data": {
            "application/vnd.jupyter.widget-view+json": {
              "model_id": "1a86163dbf584bd7aa6f10dc4312775b",
              "version_major": 2,
              "version_minor": 0
            },
            "text/plain": [
              "  0%|          | 0/1 [00:00<?, ?it/s]"
            ]
          },
          "metadata": {},
          "output_type": "display_data"
        },
        {
          "name": "stdout",
          "output_type": "stream",
          "text": [
            "{'th': 0.0, 'sw': 0.0, 'hi': 0.3333333333333333}\n",
            "Size of data for language fr (8, 4)\n"
          ]
        },
        {
          "data": {
            "application/vnd.jupyter.widget-view+json": {
              "model_id": "27811b8143264cb0babcd00fd6587c3a",
              "version_major": 2,
              "version_minor": 0
            },
            "text/plain": [
              "  0%|          | 0/1 [00:00<?, ?ba/s]"
            ]
          },
          "metadata": {},
          "output_type": "display_data"
        },
        {
          "name": "stdout",
          "output_type": "stream",
          "text": [
            "Size of data for language fr (2, 4)\n"
          ]
        },
        {
          "data": {
            "application/vnd.jupyter.widget-view+json": {
              "model_id": "4709a99e708c48c6ba83bfc2d49ec349",
              "version_major": 2,
              "version_minor": 0
            },
            "text/plain": [
              "  0%|          | 0/1 [00:00<?, ?ba/s]"
            ]
          },
          "metadata": {},
          "output_type": "display_data"
        },
        {
          "name": "stderr",
          "output_type": "stream",
          "text": [
            "Attempting to load adapter from source 'ah'...\n",
            "No adapter with name 'fr/wiki@ukp' was found in the adapter index.\n",
            "Attempting to load adapter from source 'hf'...\n",
            "Repo id must use alphanumeric chars or '-', '_', '.', '--' and '..' are forbidden, '-' and '.' cannot start or end the name, max length is 96: 'fr/wiki@ukp'.\n",
            "Attempting to load adapter from source 'ah'...\n",
            "No adapter with name 'fr/wiki@ukp' was found in the adapter index.\n",
            "Attempting to load adapter from source 'hf'...\n",
            "Repo id must use alphanumeric chars or '-', '_', '.', '--' and '..' are forbidden, '-' and '.' cannot start or end the name, max length is 96: 'fr/wiki@ukp'.\n"
          ]
        },
        {
          "name": "stdout",
          "output_type": "stream",
          "text": [
            "Loading language adapter for fr\n",
            "couldn't do it fr\n",
            "Size of data for language ar (9, 4)\n"
          ]
        },
        {
          "data": {
            "application/vnd.jupyter.widget-view+json": {
              "model_id": "4082849b8e504fe992450f379a45bbb5",
              "version_major": 2,
              "version_minor": 0
            },
            "text/plain": [
              "  0%|          | 0/1 [00:00<?, ?ba/s]"
            ]
          },
          "metadata": {},
          "output_type": "display_data"
        },
        {
          "name": "stdout",
          "output_type": "stream",
          "text": [
            "Size of data for language ar (2, 4)\n"
          ]
        },
        {
          "data": {
            "application/vnd.jupyter.widget-view+json": {
              "model_id": "35246d1ae109437396b9b64278a12b70",
              "version_major": 2,
              "version_minor": 0
            },
            "text/plain": [
              "  0%|          | 0/1 [00:00<?, ?ba/s]"
            ]
          },
          "metadata": {},
          "output_type": "display_data"
        },
        {
          "name": "stderr",
          "output_type": "stream",
          "text": [
            "Attempting to load adapter from source 'ah'...\n"
          ]
        },
        {
          "name": "stdout",
          "output_type": "stream",
          "text": [
            "Loading language adapter for ar\n"
          ]
        },
        {
          "name": "stderr",
          "output_type": "stream",
          "text": [
            "Found matching adapter at: adapters/ukp/xlm-roberta-base-ar-wiki_pfeiffer.json\n",
            "Resolved adapter files at https://public.ukp.informatik.tu-darmstadt.de/AdapterHub/text_lang/ar/xlm-roberta-base/pfeiffer/ar_relu_2.zip.\n",
            "Loading module configuration from ~/.cache/torch/adapters/1f4018c6b187912fb6b47e664a34880506aef8c7320e0135939626a97e0bb137-4b1153cd3ebfdce09e1023c01e3ee723c32a0a57bea16e5ff13609f97eb2af0b-extracted/adapter_config.json\n",
            "Adding adapter 'ar'.\n",
            "Loading module weights from ~/.cache/torch/adapters/1f4018c6b187912fb6b47e664a34880506aef8c7320e0135939626a97e0bb137-4b1153cd3ebfdce09e1023c01e3ee723c32a0a57bea16e5ff13609f97eb2af0b-extracted/pytorch_adapter.bin\n",
            "No matching prediction head found in '~/.cache/torch/adapters/1f4018c6b187912fb6b47e664a34880506aef8c7320e0135939626a97e0bb137-4b1153cd3ebfdce09e1023c01e3ee723c32a0a57bea16e5ff13609f97eb2af0b-extracted'\n",
            "PyTorch: setting up devices\n",
            "The default value for the training argument `--report_to` will change in v5 (from all installed integrations to none). In v5, you will need to use `--report_to all` to get the same behavior as now. You should start updating your code and make this info disappear :-).\n",
            "***** Running Evaluation *****\n",
            "  Num examples = 2\n",
            "  Batch size = 8\n"
          ]
        },
        {
          "data": {
            "application/vnd.jupyter.widget-view+json": {
              "model_id": "e73d6c57537d41fdb096bf934079a1f0",
              "version_major": 2,
              "version_minor": 0
            },
            "text/plain": [
              "  0%|          | 0/1 [00:00<?, ?it/s]"
            ]
          },
          "metadata": {},
          "output_type": "display_data"
        },
        {
          "name": "stdout",
          "output_type": "stream",
          "text": [
            "{'th': 0.0, 'sw': 0.0, 'hi': 0.3333333333333333, 'ar': 0.0}\n",
            "Size of data for language de (10, 4)\n"
          ]
        },
        {
          "data": {
            "application/vnd.jupyter.widget-view+json": {
              "model_id": "a0a69773bb104280bf86cad9c361ef8d",
              "version_major": 2,
              "version_minor": 0
            },
            "text/plain": [
              "  0%|          | 0/1 [00:00<?, ?ba/s]"
            ]
          },
          "metadata": {},
          "output_type": "display_data"
        },
        {
          "name": "stdout",
          "output_type": "stream",
          "text": [
            "Size of data for language de (2, 4)\n"
          ]
        },
        {
          "data": {
            "application/vnd.jupyter.widget-view+json": {
              "model_id": "5b1e462ec08245d4bb4704d3ed42e65c",
              "version_major": 2,
              "version_minor": 0
            },
            "text/plain": [
              "  0%|          | 0/1 [00:00<?, ?ba/s]"
            ]
          },
          "metadata": {},
          "output_type": "display_data"
        },
        {
          "name": "stderr",
          "output_type": "stream",
          "text": [
            "Attempting to load adapter from source 'ah'...\n",
            "Found matching adapter at: adapters/ukp/xlm-roberta-base-de-wiki_pfeiffer.json\n"
          ]
        },
        {
          "name": "stdout",
          "output_type": "stream",
          "text": [
            "Loading language adapter for de\n"
          ]
        },
        {
          "name": "stderr",
          "output_type": "stream",
          "text": [
            "Resolved adapter files at https://public.ukp.informatik.tu-darmstadt.de/AdapterHub/text_lang/de/xlm-roberta-base/pfeiffer/de_relu_2.zip.\n",
            "Loading module configuration from ~/.cache/torch/adapters/c0ef737b56498e44b5af1514ef430254e94dbe2b536513268a3e7ec4b87ea573-534c86150c5d2134893d9139d93a65ec2b60d9123fb53e0a26da2d1f785f0ffd-extracted/adapter_config.json\n",
            "Adding adapter 'de'.\n",
            "Loading module weights from ~/.cache/torch/adapters/c0ef737b56498e44b5af1514ef430254e94dbe2b536513268a3e7ec4b87ea573-534c86150c5d2134893d9139d93a65ec2b60d9123fb53e0a26da2d1f785f0ffd-extracted/pytorch_adapter.bin\n",
            "No matching prediction head found in '~/.cache/torch/adapters/c0ef737b56498e44b5af1514ef430254e94dbe2b536513268a3e7ec4b87ea573-534c86150c5d2134893d9139d93a65ec2b60d9123fb53e0a26da2d1f785f0ffd-extracted'\n",
            "PyTorch: setting up devices\n",
            "The default value for the training argument `--report_to` will change in v5 (from all installed integrations to none). In v5, you will need to use `--report_to all` to get the same behavior as now. You should start updating your code and make this info disappear :-).\n",
            "***** Running Evaluation *****\n",
            "  Num examples = 2\n",
            "  Batch size = 8\n"
          ]
        },
        {
          "data": {
            "application/vnd.jupyter.widget-view+json": {
              "model_id": "f56cfbadf39143a7becc1ca68cc674a9",
              "version_major": 2,
              "version_minor": 0
            },
            "text/plain": [
              "  0%|          | 0/1 [00:00<?, ?it/s]"
            ]
          },
          "metadata": {},
          "output_type": "display_data"
        },
        {
          "name": "stdout",
          "output_type": "stream",
          "text": [
            "{'th': 0.0, 'sw': 0.0, 'hi': 0.3333333333333333, 'ar': 0.0, 'de': 0.0}\n",
            "Size of data for language es (12, 4)\n"
          ]
        },
        {
          "data": {
            "application/vnd.jupyter.widget-view+json": {
              "model_id": "7569e5afd3e346a88833b657f16ce732",
              "version_major": 2,
              "version_minor": 0
            },
            "text/plain": [
              "  0%|          | 0/1 [00:00<?, ?ba/s]"
            ]
          },
          "metadata": {},
          "output_type": "display_data"
        },
        {
          "name": "stdout",
          "output_type": "stream",
          "text": [
            "Size of data for language es (3, 4)\n"
          ]
        },
        {
          "data": {
            "application/vnd.jupyter.widget-view+json": {
              "model_id": "7a423962ada045fbaaa25760ae1005ca",
              "version_major": 2,
              "version_minor": 0
            },
            "text/plain": [
              "  0%|          | 0/1 [00:00<?, ?ba/s]"
            ]
          },
          "metadata": {},
          "output_type": "display_data"
        },
        {
          "name": "stderr",
          "output_type": "stream",
          "text": [
            "Attempting to load adapter from source 'ah'...\n",
            "Found matching adapter at: adapters/ukp/xlm-roberta-base-es-wiki_pfeiffer.json\n"
          ]
        },
        {
          "name": "stdout",
          "output_type": "stream",
          "text": [
            "Loading language adapter for es\n"
          ]
        },
        {
          "name": "stderr",
          "output_type": "stream",
          "text": [
            "Resolved adapter files at https://public.ukp.informatik.tu-darmstadt.de/AdapterHub/text_lang/es/xlm-roberta-base/pfeiffer/es_relu_2.zip.\n",
            "Loading module configuration from ~/.cache/torch/adapters/e5418630985d3a769af1695c42b68c90e03fb50d4a44ef6d2259ce5cc75b5c86-8d9e1bcab8f069e4418c4d02b86ebde888d988a9604bb17f2938ededc9ddacfa-extracted/adapter_config.json\n",
            "Adding adapter 'es'.\n",
            "Loading module weights from ~/.cache/torch/adapters/e5418630985d3a769af1695c42b68c90e03fb50d4a44ef6d2259ce5cc75b5c86-8d9e1bcab8f069e4418c4d02b86ebde888d988a9604bb17f2938ededc9ddacfa-extracted/pytorch_adapter.bin\n",
            "No matching prediction head found in '~/.cache/torch/adapters/e5418630985d3a769af1695c42b68c90e03fb50d4a44ef6d2259ce5cc75b5c86-8d9e1bcab8f069e4418c4d02b86ebde888d988a9604bb17f2938ededc9ddacfa-extracted'\n",
            "PyTorch: setting up devices\n",
            "The default value for the training argument `--report_to` will change in v5 (from all installed integrations to none). In v5, you will need to use `--report_to all` to get the same behavior as now. You should start updating your code and make this info disappear :-).\n",
            "***** Running Evaluation *****\n",
            "  Num examples = 3\n",
            "  Batch size = 8\n"
          ]
        },
        {
          "data": {
            "application/vnd.jupyter.widget-view+json": {
              "model_id": "446d5646615a417fa775fd750076a44b",
              "version_major": 2,
              "version_minor": 0
            },
            "text/plain": [
              "  0%|          | 0/1 [00:00<?, ?it/s]"
            ]
          },
          "metadata": {},
          "output_type": "display_data"
        },
        {
          "name": "stdout",
          "output_type": "stream",
          "text": [
            "{'th': 0.0, 'sw': 0.0, 'hi': 0.3333333333333333, 'ar': 0.0, 'de': 0.0, 'es': 0.3333333333333333}\n",
            "Size of data for language ur (8, 4)\n"
          ]
        },
        {
          "data": {
            "application/vnd.jupyter.widget-view+json": {
              "model_id": "f5f63f7dc2424a919105d2328fc73da7",
              "version_major": 2,
              "version_minor": 0
            },
            "text/plain": [
              "  0%|          | 0/1 [00:00<?, ?ba/s]"
            ]
          },
          "metadata": {},
          "output_type": "display_data"
        },
        {
          "name": "stdout",
          "output_type": "stream",
          "text": [
            "Size of data for language ur (2, 4)\n"
          ]
        },
        {
          "data": {
            "application/vnd.jupyter.widget-view+json": {
              "model_id": "5027a752d41444b6a921cf670ebcb854",
              "version_major": 2,
              "version_minor": 0
            },
            "text/plain": [
              "  0%|          | 0/1 [00:00<?, ?ba/s]"
            ]
          },
          "metadata": {},
          "output_type": "display_data"
        },
        {
          "name": "stderr",
          "output_type": "stream",
          "text": [
            "Attempting to load adapter from source 'ah'...\n",
            "No adapter with name 'ur/wiki@ukp' was found in the adapter index.\n",
            "Attempting to load adapter from source 'hf'...\n",
            "Repo id must use alphanumeric chars or '-', '_', '.', '--' and '..' are forbidden, '-' and '.' cannot start or end the name, max length is 96: 'ur/wiki@ukp'.\n",
            "Attempting to load adapter from source 'ah'...\n",
            "No adapter with name 'ur/wiki@ukp' was found in the adapter index.\n",
            "Attempting to load adapter from source 'hf'...\n",
            "Repo id must use alphanumeric chars or '-', '_', '.', '--' and '..' are forbidden, '-' and '.' cannot start or end the name, max length is 96: 'ur/wiki@ukp'.\n"
          ]
        },
        {
          "name": "stdout",
          "output_type": "stream",
          "text": [
            "Loading language adapter for ur\n",
            "couldn't do it ur\n",
            "Size of data for language ru (8, 4)\n"
          ]
        },
        {
          "data": {
            "application/vnd.jupyter.widget-view+json": {
              "model_id": "1d443763ee3e4835b277459033db5ebb",
              "version_major": 2,
              "version_minor": 0
            },
            "text/plain": [
              "  0%|          | 0/1 [00:00<?, ?ba/s]"
            ]
          },
          "metadata": {},
          "output_type": "display_data"
        },
        {
          "name": "stdout",
          "output_type": "stream",
          "text": [
            "Size of data for language ru (2, 4)\n"
          ]
        },
        {
          "data": {
            "application/vnd.jupyter.widget-view+json": {
              "model_id": "60aeeef27af9451f8fa687400dd7a1fb",
              "version_major": 2,
              "version_minor": 0
            },
            "text/plain": [
              "  0%|          | 0/1 [00:00<?, ?ba/s]"
            ]
          },
          "metadata": {},
          "output_type": "display_data"
        },
        {
          "name": "stderr",
          "output_type": "stream",
          "text": [
            "Attempting to load adapter from source 'ah'...\n"
          ]
        },
        {
          "name": "stdout",
          "output_type": "stream",
          "text": [
            "Loading language adapter for ru\n"
          ]
        },
        {
          "name": "stderr",
          "output_type": "stream",
          "text": [
            "Found matching adapter at: adapters/ukp/xlm-roberta-base-ru-wiki_pfeiffer.json\n",
            "Resolved adapter files at https://public.ukp.informatik.tu-darmstadt.de/AdapterHub/text_lang/ru/xlm-roberta-base/pfeiffer/ru_relu_2.zip.\n",
            "Loading module configuration from ~/.cache/torch/adapters/b04768591b9edb615dc8316005c235722309c8ef6df4daff35bbabd15381e456-fc20f6792a2a91b793b4670f3c5fc99d7cff93ac49ca38e1a0a0e3a0528dbf9f-extracted/adapter_config.json\n",
            "Adding adapter 'ru'.\n",
            "Loading module weights from ~/.cache/torch/adapters/b04768591b9edb615dc8316005c235722309c8ef6df4daff35bbabd15381e456-fc20f6792a2a91b793b4670f3c5fc99d7cff93ac49ca38e1a0a0e3a0528dbf9f-extracted/pytorch_adapter.bin\n",
            "No matching prediction head found in '~/.cache/torch/adapters/b04768591b9edb615dc8316005c235722309c8ef6df4daff35bbabd15381e456-fc20f6792a2a91b793b4670f3c5fc99d7cff93ac49ca38e1a0a0e3a0528dbf9f-extracted'\n",
            "PyTorch: setting up devices\n",
            "The default value for the training argument `--report_to` will change in v5 (from all installed integrations to none). In v5, you will need to use `--report_to all` to get the same behavior as now. You should start updating your code and make this info disappear :-).\n",
            "***** Running Evaluation *****\n",
            "  Num examples = 2\n",
            "  Batch size = 8\n"
          ]
        },
        {
          "data": {
            "application/vnd.jupyter.widget-view+json": {
              "model_id": "72a364309ad24e3580e382649dad4b41",
              "version_major": 2,
              "version_minor": 0
            },
            "text/plain": [
              "  0%|          | 0/1 [00:00<?, ?it/s]"
            ]
          },
          "metadata": {},
          "output_type": "display_data"
        },
        {
          "name": "stdout",
          "output_type": "stream",
          "text": [
            "{'th': 0.0, 'sw': 0.0, 'hi': 0.3333333333333333, 'ar': 0.0, 'de': 0.0, 'es': 0.3333333333333333, 'ru': 0.0}\n",
            "Size of data for language el (6, 4)\n"
          ]
        },
        {
          "data": {
            "application/vnd.jupyter.widget-view+json": {
              "model_id": "61983b0ec44344e4aba4f6db67c6cb8c",
              "version_major": 2,
              "version_minor": 0
            },
            "text/plain": [
              "  0%|          | 0/1 [00:00<?, ?ba/s]"
            ]
          },
          "metadata": {},
          "output_type": "display_data"
        },
        {
          "name": "stdout",
          "output_type": "stream",
          "text": [
            "Size of data for language el (2, 4)\n"
          ]
        },
        {
          "data": {
            "application/vnd.jupyter.widget-view+json": {
              "model_id": "007a6886f1104e01a4dcbb37a5b4ae1b",
              "version_major": 2,
              "version_minor": 0
            },
            "text/plain": [
              "  0%|          | 0/1 [00:00<?, ?ba/s]"
            ]
          },
          "metadata": {},
          "output_type": "display_data"
        },
        {
          "name": "stderr",
          "output_type": "stream",
          "text": [
            "Attempting to load adapter from source 'ah'...\n",
            "Found matching adapter at: adapters/ukp/xlm-roberta-base-el-wiki_pfeiffer.json\n"
          ]
        },
        {
          "name": "stdout",
          "output_type": "stream",
          "text": [
            "Loading language adapter for el\n"
          ]
        },
        {
          "name": "stderr",
          "output_type": "stream",
          "text": [
            "Resolved adapter files at https://public.ukp.informatik.tu-darmstadt.de/AdapterHub/text_lang/el/xlm-roberta-base/pfeiffer/el_relu_2.zip.\n",
            "https://public.ukp.informatik.tu-darmstadt.de/AdapterHub/text_lang/el/xlm-roberta-base/pfeiffer/el_relu_2.zip not found in cache or force_download set to True, downloading to /Users/kshitijalwadhi/Documents/Github/FewShot-CrossLingual-TransferLearning/~/.cache/torch/adapters/tmp_ry_u23c\n"
          ]
        },
        {
          "data": {
            "application/vnd.jupyter.widget-view+json": {
              "model_id": "d43d051d8f214ea99784cbeb9fa6abf3",
              "version_major": 2,
              "version_minor": 0
            },
            "text/plain": [
              "Downloading el_relu_2.zip:   0%|          | 0.00/28.2M [00:00<?, ?B/s]"
            ]
          },
          "metadata": {},
          "output_type": "display_data"
        },
        {
          "name": "stderr",
          "output_type": "stream",
          "text": [
            "storing https://public.ukp.informatik.tu-darmstadt.de/AdapterHub/text_lang/el/xlm-roberta-base/pfeiffer/el_relu_2.zip in cache at ~/.cache/torch/adapters/adc7c8e4f5d916c8c826a160ee8c0718b423782b1debd102558e0745c655d848.e78556fdaec9a644ab14a5c6008d46f54a74e2f9a1144802f6216997a8d0bbd6\n",
            "creating metadata file for ~/.cache/torch/adapters/adc7c8e4f5d916c8c826a160ee8c0718b423782b1debd102558e0745c655d848.e78556fdaec9a644ab14a5c6008d46f54a74e2f9a1144802f6216997a8d0bbd6\n",
            "Loading module configuration from ~/.cache/torch/adapters/adc7c8e4f5d916c8c826a160ee8c0718b423782b1debd102558e0745c655d848-e78556fdaec9a644ab14a5c6008d46f54a74e2f9a1144802f6216997a8d0bbd6-extracted/adapter_config.json\n",
            "Adding adapter 'el'.\n",
            "Loading module weights from ~/.cache/torch/adapters/adc7c8e4f5d916c8c826a160ee8c0718b423782b1debd102558e0745c655d848-e78556fdaec9a644ab14a5c6008d46f54a74e2f9a1144802f6216997a8d0bbd6-extracted/pytorch_adapter.bin\n",
            "No matching prediction head found in '~/.cache/torch/adapters/adc7c8e4f5d916c8c826a160ee8c0718b423782b1debd102558e0745c655d848-e78556fdaec9a644ab14a5c6008d46f54a74e2f9a1144802f6216997a8d0bbd6-extracted'\n",
            "PyTorch: setting up devices\n",
            "The default value for the training argument `--report_to` will change in v5 (from all installed integrations to none). In v5, you will need to use `--report_to all` to get the same behavior as now. You should start updating your code and make this info disappear :-).\n",
            "***** Running Evaluation *****\n",
            "  Num examples = 2\n",
            "  Batch size = 8\n"
          ]
        },
        {
          "data": {
            "application/vnd.jupyter.widget-view+json": {
              "model_id": "43fdb730c7544b7ca7fc1d80de5eda60",
              "version_major": 2,
              "version_minor": 0
            },
            "text/plain": [
              "  0%|          | 0/1 [00:00<?, ?it/s]"
            ]
          },
          "metadata": {},
          "output_type": "display_data"
        },
        {
          "name": "stdout",
          "output_type": "stream",
          "text": [
            "{'th': 0.0, 'sw': 0.0, 'hi': 0.3333333333333333, 'ar': 0.0, 'de': 0.0, 'es': 0.3333333333333333, 'ru': 0.0, 'el': 0.5}\n",
            "Size of data for language zh (5, 4)\n"
          ]
        },
        {
          "data": {
            "application/vnd.jupyter.widget-view+json": {
              "model_id": "13983c5fcfee4a3fb9921df10e736a76",
              "version_major": 2,
              "version_minor": 0
            },
            "text/plain": [
              "  0%|          | 0/1 [00:00<?, ?ba/s]"
            ]
          },
          "metadata": {},
          "output_type": "display_data"
        },
        {
          "name": "stdout",
          "output_type": "stream",
          "text": [
            "Size of data for language zh (1, 4)\n"
          ]
        },
        {
          "data": {
            "application/vnd.jupyter.widget-view+json": {
              "model_id": "a2c10471447a44498ee99fcdcc479282",
              "version_major": 2,
              "version_minor": 0
            },
            "text/plain": [
              "  0%|          | 0/1 [00:00<?, ?ba/s]"
            ]
          },
          "metadata": {},
          "output_type": "display_data"
        },
        {
          "name": "stderr",
          "output_type": "stream",
          "text": [
            "Attempting to load adapter from source 'ah'...\n",
            "Found matching adapter at: adapters/ukp/xlm-roberta-base-zh-wiki_pfeiffer.json\n"
          ]
        },
        {
          "name": "stdout",
          "output_type": "stream",
          "text": [
            "Loading language adapter for zh\n"
          ]
        },
        {
          "name": "stderr",
          "output_type": "stream",
          "text": [
            "Resolved adapter files at https://public.ukp.informatik.tu-darmstadt.de/AdapterHub/text_lang/zh/xlm-roberta-base/pfeiffer/zh_relu_2.zip.\n",
            "https://public.ukp.informatik.tu-darmstadt.de/AdapterHub/text_lang/zh/xlm-roberta-base/pfeiffer/zh_relu_2.zip not found in cache or force_download set to True, downloading to /Users/kshitijalwadhi/Documents/Github/FewShot-CrossLingual-TransferLearning/~/.cache/torch/adapters/tmpfqgyypkg\n"
          ]
        },
        {
          "data": {
            "application/vnd.jupyter.widget-view+json": {
              "model_id": "20d425a20598429e9464f3a45cb1f457",
              "version_major": 2,
              "version_minor": 0
            },
            "text/plain": [
              "Downloading zh_relu_2.zip:   0%|          | 0.00/28.2M [00:00<?, ?B/s]"
            ]
          },
          "metadata": {},
          "output_type": "display_data"
        },
        {
          "name": "stderr",
          "output_type": "stream",
          "text": [
            "storing https://public.ukp.informatik.tu-darmstadt.de/AdapterHub/text_lang/zh/xlm-roberta-base/pfeiffer/zh_relu_2.zip in cache at ~/.cache/torch/adapters/a0062ff69a60af7afaa36710258ebf0e2130259cc999502dce01e7ba44d087f3.28db881b757224796458960a5600431c0298d74f61061f69d4be5b5d72c9da7e\n",
            "creating metadata file for ~/.cache/torch/adapters/a0062ff69a60af7afaa36710258ebf0e2130259cc999502dce01e7ba44d087f3.28db881b757224796458960a5600431c0298d74f61061f69d4be5b5d72c9da7e\n",
            "Loading module configuration from ~/.cache/torch/adapters/a0062ff69a60af7afaa36710258ebf0e2130259cc999502dce01e7ba44d087f3-28db881b757224796458960a5600431c0298d74f61061f69d4be5b5d72c9da7e-extracted/adapter_config.json\n",
            "Adding adapter 'zh'.\n",
            "Loading module weights from ~/.cache/torch/adapters/a0062ff69a60af7afaa36710258ebf0e2130259cc999502dce01e7ba44d087f3-28db881b757224796458960a5600431c0298d74f61061f69d4be5b5d72c9da7e-extracted/pytorch_adapter.bin\n",
            "No matching prediction head found in '~/.cache/torch/adapters/a0062ff69a60af7afaa36710258ebf0e2130259cc999502dce01e7ba44d087f3-28db881b757224796458960a5600431c0298d74f61061f69d4be5b5d72c9da7e-extracted'\n",
            "PyTorch: setting up devices\n",
            "The default value for the training argument `--report_to` will change in v5 (from all installed integrations to none). In v5, you will need to use `--report_to all` to get the same behavior as now. You should start updating your code and make this info disappear :-).\n",
            "***** Running Evaluation *****\n",
            "  Num examples = 1\n",
            "  Batch size = 8\n"
          ]
        },
        {
          "data": {
            "application/vnd.jupyter.widget-view+json": {
              "model_id": "3c903da1c76a44f28e3744564da62f5f",
              "version_major": 2,
              "version_minor": 0
            },
            "text/plain": [
              "  0%|          | 0/1 [00:00<?, ?it/s]"
            ]
          },
          "metadata": {},
          "output_type": "display_data"
        },
        {
          "name": "stdout",
          "output_type": "stream",
          "text": [
            "{'th': 0.0, 'sw': 0.0, 'hi': 0.3333333333333333, 'ar': 0.0, 'de': 0.0, 'es': 0.3333333333333333, 'ru': 0.0, 'el': 0.5, 'zh': 0.0}\n",
            "Size of data for language bg (6, 4)\n"
          ]
        },
        {
          "data": {
            "application/vnd.jupyter.widget-view+json": {
              "model_id": "e298b3d127124c7f86298c0886c0a5f7",
              "version_major": 2,
              "version_minor": 0
            },
            "text/plain": [
              "  0%|          | 0/1 [00:00<?, ?ba/s]"
            ]
          },
          "metadata": {},
          "output_type": "display_data"
        },
        {
          "name": "stdout",
          "output_type": "stream",
          "text": [
            "Size of data for language bg (2, 4)\n"
          ]
        },
        {
          "data": {
            "application/vnd.jupyter.widget-view+json": {
              "model_id": "f1e8dd4006794567be3e3c5a4e13840f",
              "version_major": 2,
              "version_minor": 0
            },
            "text/plain": [
              "  0%|          | 0/1 [00:00<?, ?ba/s]"
            ]
          },
          "metadata": {},
          "output_type": "display_data"
        },
        {
          "name": "stderr",
          "output_type": "stream",
          "text": [
            "Attempting to load adapter from source 'ah'...\n",
            "No adapter with name 'bg/wiki@ukp' was found in the adapter index.\n",
            "Attempting to load adapter from source 'hf'...\n",
            "Repo id must use alphanumeric chars or '-', '_', '.', '--' and '..' are forbidden, '-' and '.' cannot start or end the name, max length is 96: 'bg/wiki@ukp'.\n",
            "Attempting to load adapter from source 'ah'...\n",
            "No adapter with name 'bg/wiki@ukp' was found in the adapter index.\n",
            "Attempting to load adapter from source 'hf'...\n",
            "Repo id must use alphanumeric chars or '-', '_', '.', '--' and '..' are forbidden, '-' and '.' cannot start or end the name, max length is 96: 'bg/wiki@ukp'.\n"
          ]
        },
        {
          "name": "stdout",
          "output_type": "stream",
          "text": [
            "Loading language adapter for bg\n",
            "couldn't do it bg\n",
            "Size of data for language tr (4, 4)\n"
          ]
        },
        {
          "data": {
            "application/vnd.jupyter.widget-view+json": {
              "model_id": "5dcdb4d1c3de41219542d54e4a13adba",
              "version_major": 2,
              "version_minor": 0
            },
            "text/plain": [
              "  0%|          | 0/1 [00:00<?, ?ba/s]"
            ]
          },
          "metadata": {},
          "output_type": "display_data"
        },
        {
          "name": "stdout",
          "output_type": "stream",
          "text": [
            "Size of data for language tr (1, 4)\n"
          ]
        },
        {
          "data": {
            "application/vnd.jupyter.widget-view+json": {
              "model_id": "26107303350d48b0a0ba843544fca6d0",
              "version_major": 2,
              "version_minor": 0
            },
            "text/plain": [
              "  0%|          | 0/1 [00:00<?, ?ba/s]"
            ]
          },
          "metadata": {},
          "output_type": "display_data"
        },
        {
          "name": "stderr",
          "output_type": "stream",
          "text": [
            "Attempting to load adapter from source 'ah'...\n"
          ]
        },
        {
          "name": "stdout",
          "output_type": "stream",
          "text": [
            "Loading language adapter for tr\n"
          ]
        },
        {
          "name": "stderr",
          "output_type": "stream",
          "text": [
            "Found matching adapter at: adapters/ukp/xlm-roberta-base-tr-wiki_pfeiffer.json\n",
            "Resolved adapter files at https://public.ukp.informatik.tu-darmstadt.de/AdapterHub/text_lang/tr/xlm-roberta-base/pfeiffer/tr_relu_2.zip.\n",
            "https://public.ukp.informatik.tu-darmstadt.de/AdapterHub/text_lang/tr/xlm-roberta-base/pfeiffer/tr_relu_2.zip not found in cache or force_download set to True, downloading to /Users/kshitijalwadhi/Documents/Github/FewShot-CrossLingual-TransferLearning/~/.cache/torch/adapters/tmptarbu3tr\n"
          ]
        },
        {
          "data": {
            "application/vnd.jupyter.widget-view+json": {
              "model_id": "d0a0a6a0ae1545869eb44373eaab0554",
              "version_major": 2,
              "version_minor": 0
            },
            "text/plain": [
              "Downloading tr_relu_2.zip:   0%|          | 0.00/28.2M [00:00<?, ?B/s]"
            ]
          },
          "metadata": {},
          "output_type": "display_data"
        },
        {
          "name": "stderr",
          "output_type": "stream",
          "text": [
            "storing https://public.ukp.informatik.tu-darmstadt.de/AdapterHub/text_lang/tr/xlm-roberta-base/pfeiffer/tr_relu_2.zip in cache at ~/.cache/torch/adapters/f55f186b328f0ae5162376f538cf4ea72dc1fa666f008b74ef34abc2130d2a2e.0c269ff438511c1e60f2b0df96026ffb2f77061b1ec3dcc53913f1f3770e5d24\n",
            "creating metadata file for ~/.cache/torch/adapters/f55f186b328f0ae5162376f538cf4ea72dc1fa666f008b74ef34abc2130d2a2e.0c269ff438511c1e60f2b0df96026ffb2f77061b1ec3dcc53913f1f3770e5d24\n",
            "Loading module configuration from ~/.cache/torch/adapters/f55f186b328f0ae5162376f538cf4ea72dc1fa666f008b74ef34abc2130d2a2e-0c269ff438511c1e60f2b0df96026ffb2f77061b1ec3dcc53913f1f3770e5d24-extracted/adapter_config.json\n",
            "Adding adapter 'tr'.\n",
            "Loading module weights from ~/.cache/torch/adapters/f55f186b328f0ae5162376f538cf4ea72dc1fa666f008b74ef34abc2130d2a2e-0c269ff438511c1e60f2b0df96026ffb2f77061b1ec3dcc53913f1f3770e5d24-extracted/pytorch_adapter.bin\n",
            "No matching prediction head found in '~/.cache/torch/adapters/f55f186b328f0ae5162376f538cf4ea72dc1fa666f008b74ef34abc2130d2a2e-0c269ff438511c1e60f2b0df96026ffb2f77061b1ec3dcc53913f1f3770e5d24-extracted'\n",
            "PyTorch: setting up devices\n",
            "The default value for the training argument `--report_to` will change in v5 (from all installed integrations to none). In v5, you will need to use `--report_to all` to get the same behavior as now. You should start updating your code and make this info disappear :-).\n",
            "***** Running Evaluation *****\n",
            "  Num examples = 1\n",
            "  Batch size = 8\n"
          ]
        },
        {
          "data": {
            "application/vnd.jupyter.widget-view+json": {
              "model_id": "a3b64c4be89f4e2b9f70885771395d43",
              "version_major": 2,
              "version_minor": 0
            },
            "text/plain": [
              "  0%|          | 0/1 [00:00<?, ?it/s]"
            ]
          },
          "metadata": {},
          "output_type": "display_data"
        },
        {
          "name": "stdout",
          "output_type": "stream",
          "text": [
            "{'th': 0.0, 'sw': 0.0, 'hi': 0.3333333333333333, 'ar': 0.0, 'de': 0.0, 'es': 0.3333333333333333, 'ru': 0.0, 'el': 0.5, 'zh': 0.0, 'tr': 0.0}\n",
            "Size of data for language vi (3, 4)\n"
          ]
        },
        {
          "data": {
            "application/vnd.jupyter.widget-view+json": {
              "model_id": "10e74e388a8347cfba280db7afff7955",
              "version_major": 2,
              "version_minor": 0
            },
            "text/plain": [
              "  0%|          | 0/1 [00:00<?, ?ba/s]"
            ]
          },
          "metadata": {},
          "output_type": "display_data"
        },
        {
          "name": "stdout",
          "output_type": "stream",
          "text": [
            "Size of data for language vi (1, 4)\n"
          ]
        },
        {
          "data": {
            "application/vnd.jupyter.widget-view+json": {
              "model_id": "f66fe4512534434f9d9b58c65c1dc4bf",
              "version_major": 2,
              "version_minor": 0
            },
            "text/plain": [
              "  0%|          | 0/1 [00:00<?, ?ba/s]"
            ]
          },
          "metadata": {},
          "output_type": "display_data"
        },
        {
          "name": "stderr",
          "output_type": "stream",
          "text": [
            "Attempting to load adapter from source 'ah'...\n",
            "Found matching adapter at: adapters/ukp/xlm-roberta-base-vi-wiki_pfeiffer.json\n"
          ]
        },
        {
          "name": "stdout",
          "output_type": "stream",
          "text": [
            "Loading language adapter for vi\n"
          ]
        },
        {
          "name": "stderr",
          "output_type": "stream",
          "text": [
            "Resolved adapter files at https://public.ukp.informatik.tu-darmstadt.de/AdapterHub/text_lang/vi/xlm-roberta-base/pfeiffer/vi_relu_2.zip.\n",
            "https://public.ukp.informatik.tu-darmstadt.de/AdapterHub/text_lang/vi/xlm-roberta-base/pfeiffer/vi_relu_2.zip not found in cache or force_download set to True, downloading to /Users/kshitijalwadhi/Documents/Github/FewShot-CrossLingual-TransferLearning/~/.cache/torch/adapters/tmpufc5whb3\n"
          ]
        },
        {
          "data": {
            "application/vnd.jupyter.widget-view+json": {
              "model_id": "e24c6a3eb4384976bcd15d499dcc0579",
              "version_major": 2,
              "version_minor": 0
            },
            "text/plain": [
              "Downloading vi_relu_2.zip:   0%|          | 0.00/28.2M [00:00<?, ?B/s]"
            ]
          },
          "metadata": {},
          "output_type": "display_data"
        },
        {
          "name": "stderr",
          "output_type": "stream",
          "text": [
            "storing https://public.ukp.informatik.tu-darmstadt.de/AdapterHub/text_lang/vi/xlm-roberta-base/pfeiffer/vi_relu_2.zip in cache at ~/.cache/torch/adapters/dc145cc33cddd26f442238ba80f71eb4e510ce84ee464579f2311e24f36fb792.9c56b7f5ae57339c2dce0d880efd56b4ad9019ffa2775dc19a36bc6de4bede0c\n",
            "creating metadata file for ~/.cache/torch/adapters/dc145cc33cddd26f442238ba80f71eb4e510ce84ee464579f2311e24f36fb792.9c56b7f5ae57339c2dce0d880efd56b4ad9019ffa2775dc19a36bc6de4bede0c\n",
            "Loading module configuration from ~/.cache/torch/adapters/dc145cc33cddd26f442238ba80f71eb4e510ce84ee464579f2311e24f36fb792-9c56b7f5ae57339c2dce0d880efd56b4ad9019ffa2775dc19a36bc6de4bede0c-extracted/adapter_config.json\n",
            "Adding adapter 'vi'.\n",
            "Loading module weights from ~/.cache/torch/adapters/dc145cc33cddd26f442238ba80f71eb4e510ce84ee464579f2311e24f36fb792-9c56b7f5ae57339c2dce0d880efd56b4ad9019ffa2775dc19a36bc6de4bede0c-extracted/pytorch_adapter.bin\n",
            "No matching prediction head found in '~/.cache/torch/adapters/dc145cc33cddd26f442238ba80f71eb4e510ce84ee464579f2311e24f36fb792-9c56b7f5ae57339c2dce0d880efd56b4ad9019ffa2775dc19a36bc6de4bede0c-extracted'\n",
            "PyTorch: setting up devices\n",
            "The default value for the training argument `--report_to` will change in v5 (from all installed integrations to none). In v5, you will need to use `--report_to all` to get the same behavior as now. You should start updating your code and make this info disappear :-).\n",
            "***** Running Evaluation *****\n",
            "  Num examples = 1\n",
            "  Batch size = 8\n"
          ]
        },
        {
          "data": {
            "application/vnd.jupyter.widget-view+json": {
              "model_id": "0fe208594bee494cbf2c08b44f1d5ec1",
              "version_major": 2,
              "version_minor": 0
            },
            "text/plain": [
              "  0%|          | 0/1 [00:00<?, ?it/s]"
            ]
          },
          "metadata": {},
          "output_type": "display_data"
        },
        {
          "name": "stdout",
          "output_type": "stream",
          "text": [
            "{'th': 0.0, 'sw': 0.0, 'hi': 0.3333333333333333, 'ar': 0.0, 'de': 0.0, 'es': 0.3333333333333333, 'ru': 0.0, 'el': 0.5, 'zh': 0.0, 'tr': 0.0, 'vi': 0.0}\n"
          ]
        }
      ],
      "source": [
        "acc = {}\n",
        "languages = [ 'th', 'sw', 'hi', 'fr', 'ar', 'de', 'es', 'ur', 'ru', 'el',\n",
        "       'zh', 'bg', 'tr', 'vi']\n",
        "\n",
        "for lang in languages:\n",
        "    try:\n",
        "      en_data_train = make_dataset(train_data, lang)\n",
        "      en_data_test = make_dataset(test_data, lang)\n",
        "\n",
        "      print(\"Loading language adapter for {}\".format(lang))\n",
        "      try:\n",
        "          model.load_adapter(lang_adapters[lang], config=lang_adapter_config)\n",
        "          model.active_adapters = Stack(lang, \"nli\")\n",
        "      except:\n",
        "          model.load_adapter(lang_adapters[lang], config = lang_adapter_config)\n",
        "          model.active_adapters = Stack(lang_adapters[lang], \"nli\")\n",
        "\n",
        "      eval_trainer = AdapterTrainer(\n",
        "      model=model,\n",
        "      args=TrainingArguments(output_dir=\"./eval_output\", remove_unused_columns=False,),\n",
        "      eval_dataset=en_data_test,\n",
        "      compute_metrics=compute_accuracy,\n",
        "      )\n",
        "\n",
        "      acc[lang] = eval_trainer.evaluate()[\"eval_acc\"]\n",
        "      print(acc)\n",
        "    except:\n",
        "      print(f\"couldn't do it {lang}\")"
      ]
    },
    {
      "cell_type": "code",
      "execution_count": null,
      "metadata": {
        "id": "vWEl7q147SQn"
      },
      "outputs": [],
      "source": []
    },
    {
      "cell_type": "code",
      "execution_count": 19,
      "metadata": {
        "id": "YBHMs_SE3B1A"
      },
      "outputs": [
        {
          "data": {
            "text/plain": [
              "{'th': 0.0,\n",
              " 'sw': 0.0,\n",
              " 'hi': 0.3333333333333333,\n",
              " 'ar': 0.0,\n",
              " 'de': 0.0,\n",
              " 'es': 0.3333333333333333,\n",
              " 'ru': 0.0,\n",
              " 'el': 0.5,\n",
              " 'zh': 0.0,\n",
              " 'tr': 0.0,\n",
              " 'vi': 0.0}"
            ]
          },
          "execution_count": 19,
          "metadata": {},
          "output_type": "execute_result"
        }
      ],
      "source": [
        "acc"
      ]
    },
    {
      "cell_type": "code",
      "execution_count": 20,
      "metadata": {},
      "outputs": [
        {
          "name": "stdout",
          "output_type": "stream",
          "text": [
            "huggingface/tokenizers: The current process just got forked, after parallelism has already been used. Disabling parallelism to avoid deadlocks...\n",
            "To disable this warning, you can either:\n",
            "\t- Avoid using `tokenizers` before the fork if possible\n",
            "\t- Explicitly set the environment variable TOKENIZERS_PARALLELISM=(true | false)\n"
          ]
        }
      ],
      "source": [
        "!mkdir saved_model"
      ]
    },
    {
      "cell_type": "code",
      "execution_count": 21,
      "metadata": {},
      "outputs": [
        {
          "name": "stderr",
          "output_type": "stream",
          "text": [
            "Configuration saved in saved_model/config.json\n",
            "Model weights saved in saved_model/pytorch_model.bin\n"
          ]
        }
      ],
      "source": [
        "model.save_pretrained(\"saved_model\")"
      ]
    },
    {
      "cell_type": "code",
      "execution_count": 22,
      "metadata": {},
      "outputs": [
        {
          "name": "stdout",
          "output_type": "stream",
          "text": [
            "huggingface/tokenizers: The current process just got forked, after parallelism has already been used. Disabling parallelism to avoid deadlocks...\n",
            "To disable this warning, you can either:\n",
            "\t- Avoid using `tokenizers` before the fork if possible\n",
            "\t- Explicitly set the environment variable TOKENIZERS_PARALLELISM=(true | false)\n"
          ]
        }
      ],
      "source": [
        "!mkdir saved_adapters"
      ]
    },
    {
      "cell_type": "code",
      "execution_count": 23,
      "metadata": {},
      "outputs": [
        {
          "name": "stderr",
          "output_type": "stream",
          "text": [
            "Configuration saved in saved_adapters/adapter_config.json\n",
            "Module weights saved in saved_adapters/pytorch_adapter.bin\n",
            "Configuration saved in saved_adapters/head_config.json\n",
            "Module weights saved in saved_adapters/pytorch_model_head.bin\n"
          ]
        }
      ],
      "source": [
        "model.save_adapter(\"saved_adapters/\", \"nli\")"
      ]
    },
    {
      "cell_type": "code",
      "execution_count": 24,
      "metadata": {},
      "outputs": [],
      "source": [
        "del model"
      ]
    },
    {
      "cell_type": "code",
      "execution_count": 25,
      "metadata": {},
      "outputs": [
        {
          "name": "stderr",
          "output_type": "stream",
          "text": [
            "loading configuration file https://huggingface.co/xlm-roberta-base/resolve/main/config.json from cache at /Users/kshitijalwadhi/.cache/huggingface/transformers/87683eb92ea383b0475fecf99970e950a03c9ff5e51648d6eee56fb754612465.dfaaaedc7c1c475302398f09706cbb21e23951b73c6e2b3162c1c8a99bb3b62a\n",
            "Model config XLMRobertaConfig {\n",
            "  \"_name_or_path\": \"xlm-roberta-base\",\n",
            "  \"architectures\": [\n",
            "    \"XLMRobertaForMaskedLM\"\n",
            "  ],\n",
            "  \"attention_probs_dropout_prob\": 0.1,\n",
            "  \"bos_token_id\": 0,\n",
            "  \"classifier_dropout\": null,\n",
            "  \"eos_token_id\": 2,\n",
            "  \"hidden_act\": \"gelu\",\n",
            "  \"hidden_dropout_prob\": 0.1,\n",
            "  \"hidden_size\": 768,\n",
            "  \"initializer_range\": 0.02,\n",
            "  \"intermediate_size\": 3072,\n",
            "  \"layer_norm_eps\": 1e-05,\n",
            "  \"max_position_embeddings\": 514,\n",
            "  \"model_type\": \"xlm-roberta\",\n",
            "  \"num_attention_heads\": 12,\n",
            "  \"num_hidden_layers\": 12,\n",
            "  \"output_past\": true,\n",
            "  \"pad_token_id\": 1,\n",
            "  \"position_embedding_type\": \"absolute\",\n",
            "  \"transformers_version\": \"4.21.3\",\n",
            "  \"type_vocab_size\": 1,\n",
            "  \"use_cache\": true,\n",
            "  \"vocab_size\": 250002\n",
            "}\n",
            "\n",
            "loading weights file saved_model/pytorch_model.bin\n",
            "Some weights of the model checkpoint at saved_model were not used when initializing XLMRobertaAdapterModel: ['roberta.encoder.layer.11.output.adapters.es.adapter_down.0.weight', 'roberta.invertible_adapters.en.F.2.weight', 'roberta.encoder.layer.8.output.adapters.ru.adapter_down.0.weight', 'roberta.encoder.layer.8.output.adapters.nli.adapter_down.0.bias', 'roberta.encoder.layer.6.output.adapters.tr.adapter_up.weight', 'roberta.invertible_adapters.zh.G.2.weight', 'roberta.encoder.layer.9.output.adapters.nli.adapter_down.0.bias', 'roberta.encoder.layer.8.output.adapters.th.adapter_up.weight', 'roberta.encoder.layer.5.output.adapters.ar.adapter_up.weight', 'roberta.encoder.layer.0.output.adapters.vi.adapter_up.bias', 'roberta.encoder.layer.2.output.adapters.vi.adapter_down.0.weight', 'roberta.encoder.layer.11.output.adapters.en.adapter_down.0.weight', 'roberta.encoder.layer.1.output.adapters.zh.adapter_down.0.weight', 'roberta.encoder.layer.7.output.adapters.hi.adapter_down.0.bias', 'roberta.invertible_adapters.de.G.0.bias', 'roberta.invertible_adapters.en.F.0.bias', 'roberta.encoder.layer.8.output.adapters.sw.adapter_down.0.weight', 'roberta.encoder.layer.1.output.adapters.vi.adapter_up.bias', 'roberta.encoder.layer.1.output.adapters.ru.adapter_up.bias', 'roberta.encoder.layer.4.output.adapters.nli.adapter_up.weight', 'roberta.encoder.layer.7.output.adapters.tr.adapter_down.0.bias', 'roberta.encoder.layer.8.output.adapters.es.adapter_down.0.weight', 'roberta.encoder.layer.10.output.adapters.ru.adapter_down.0.weight', 'roberta.encoder.layer.3.output.adapters.sw.adapter_down.0.bias', 'roberta.encoder.layer.0.output.adapters.zh.adapter_up.bias', 'roberta.encoder.layer.6.output.adapters.nli.adapter_up.weight', 'roberta.encoder.layer.6.output.adapters.zh.adapter_down.0.bias', 'roberta.encoder.layer.0.output.adapters.es.adapter_up.weight', 'roberta.encoder.layer.3.output.adapters.es.adapter_down.0.bias', 'roberta.encoder.layer.6.output.adapters.hi.adapter_up.weight', 'roberta.encoder.layer.10.output.adapters.de.adapter_down.0.weight', 'roberta.encoder.layer.2.output.adapters.sw.adapter_down.0.weight', 'roberta.encoder.layer.11.output.adapters.th.adapter_up.bias', 'roberta.encoder.layer.1.output.adapters.ru.adapter_down.0.bias', 'roberta.encoder.layer.6.output.adapters.el.adapter_down.0.weight', 'roberta.encoder.layer.4.output.adapters.zh.adapter_down.0.weight', 'roberta.encoder.layer.9.output.adapters.vi.adapter_down.0.weight', 'roberta.encoder.layer.3.output.adapters.de.adapter_up.bias', 'roberta.encoder.layer.11.output.adapters.vi.adapter_up.weight', 'roberta.encoder.layer.0.output.adapters.en.adapter_down.0.weight', 'roberta.encoder.layer.1.output.adapters.zh.adapter_up.bias', 'roberta.encoder.layer.4.output.adapters.hi.adapter_down.0.weight', 'roberta.encoder.layer.6.output.adapters.vi.adapter_down.0.weight', 'roberta.encoder.layer.4.output.adapters.ar.adapter_up.bias', 'roberta.encoder.layer.6.output.adapters.el.adapter_up.weight', 'roberta.encoder.layer.11.output.adapters.nli.adapter_down.0.bias', 'roberta.encoder.layer.10.output.adapters.th.adapter_up.weight', 'roberta.encoder.layer.0.output.adapters.nli.adapter_down.0.bias', 'roberta.encoder.layer.7.output.adapters.tr.adapter_up.bias', 'roberta.invertible_adapters.th.G.0.weight', 'roberta.encoder.layer.2.output.adapters.ar.adapter_up.bias', 'roberta.encoder.layer.7.output.adapters.vi.adapter_up.weight', 'roberta.encoder.layer.0.output.adapters.de.adapter_down.0.weight', 'roberta.encoder.layer.1.output.adapters.nli.adapter_up.bias', 'roberta.encoder.layer.9.output.adapters.sw.adapter_down.0.bias', 'roberta.encoder.layer.4.output.adapters.vi.adapter_up.weight', 'roberta.encoder.layer.1.output.adapters.ar.adapter_up.weight', 'roberta.encoder.layer.9.output.adapters.hi.adapter_up.bias', 'roberta.encoder.layer.11.output.adapters.th.adapter_up.weight', 'roberta.encoder.layer.10.output.adapters.en.adapter_up.weight', 'roberta.encoder.layer.3.output.adapters.vi.adapter_up.weight', 'roberta.encoder.layer.7.output.adapters.ar.adapter_down.0.bias', 'roberta.encoder.layer.7.output.adapters.th.adapter_down.0.bias', 'roberta.encoder.layer.5.output.adapters.th.adapter_up.weight', 'roberta.encoder.layer.9.output.adapters.vi.adapter_down.0.bias', 'roberta.encoder.layer.10.output.adapters.ar.adapter_down.0.bias', 'roberta.invertible_adapters.hi.G.0.weight', 'roberta.encoder.layer.0.output.adapters.en.adapter_down.0.bias', 'roberta.encoder.layer.1.output.adapters.es.adapter_up.weight', 'roberta.encoder.layer.4.output.adapters.el.adapter_up.bias', 'roberta.encoder.layer.8.output.adapters.tr.adapter_up.weight', 'roberta.encoder.layer.1.output.adapters.en.adapter_up.bias', 'roberta.encoder.layer.4.output.adapters.sw.adapter_up.weight', 'roberta.encoder.layer.5.output.adapters.tr.adapter_up.bias', 'roberta.encoder.layer.1.output.adapters.th.adapter_up.weight', 'roberta.encoder.layer.0.output.adapters.es.adapter_up.bias', 'roberta.encoder.layer.3.output.adapters.th.adapter_up.weight', 'roberta.encoder.layer.11.output.adapters.de.adapter_up.bias', 'roberta.invertible_adapters.tr.G.2.weight', 'roberta.encoder.layer.6.output.adapters.hi.adapter_up.bias', 'roberta.encoder.layer.5.output.adapters.ar.adapter_down.0.weight', 'roberta.encoder.layer.8.output.adapters.en.adapter_up.bias', 'roberta.encoder.layer.10.output.adapters.tr.adapter_down.0.bias', 'roberta.encoder.layer.1.output.adapters.ru.adapter_down.0.weight', 'roberta.encoder.layer.4.output.adapters.th.adapter_up.bias', 'roberta.encoder.layer.4.output.adapters.ar.adapter_down.0.bias', 'roberta.encoder.layer.4.output.adapters.zh.adapter_up.weight', 'roberta.encoder.layer.11.output.adapters.vi.adapter_up.bias', 'roberta.encoder.layer.1.output.adapters.el.adapter_up.bias', 'roberta.encoder.layer.0.output.adapters.vi.adapter_down.0.weight', 'roberta.encoder.layer.1.output.adapters.hi.adapter_down.0.bias', 'roberta.encoder.layer.2.output.adapters.ar.adapter_down.0.bias', 'roberta.encoder.layer.10.output.adapters.ru.adapter_down.0.bias', 'roberta.invertible_adapters.vi.G.0.bias', 'roberta.encoder.layer.10.output.adapters.tr.adapter_up.weight', 'roberta.invertible_adapters.zh.G.0.bias', 'roberta.invertible_adapters.ar.G.2.weight', 'roberta.encoder.layer.5.output.adapters.sw.adapter_down.0.bias', 'roberta.encoder.layer.2.output.adapters.th.adapter_up.bias', 'roberta.invertible_adapters.th.F.2.bias', 'roberta.invertible_adapters.tr.F.0.bias', 'roberta.encoder.layer.0.output.adapters.ar.adapter_down.0.bias', 'roberta.encoder.layer.4.output.adapters.en.adapter_up.weight', 'roberta.encoder.layer.4.output.adapters.tr.adapter_up.bias', 'roberta.encoder.layer.6.output.adapters.el.adapter_down.0.bias', 'roberta.encoder.layer.5.output.adapters.de.adapter_down.0.bias', 'roberta.encoder.layer.8.output.adapters.es.adapter_up.bias', 'roberta.encoder.layer.11.output.adapters.zh.adapter_up.weight', 'roberta.encoder.layer.10.output.adapters.nli.adapter_down.0.weight', 'roberta.invertible_adapters.en.G.2.weight', 'roberta.encoder.layer.3.output.adapters.de.adapter_down.0.bias', 'roberta.encoder.layer.7.output.adapters.en.adapter_up.weight', 'roberta.encoder.layer.3.output.adapters.hi.adapter_down.0.weight', 'roberta.encoder.layer.7.output.adapters.sw.adapter_up.bias', 'roberta.encoder.layer.0.output.adapters.el.adapter_up.bias', 'roberta.encoder.layer.9.output.adapters.zh.adapter_up.weight', 'roberta.invertible_adapters.el.F.0.weight', 'roberta.invertible_adapters.zh.G.0.weight', 'roberta.encoder.layer.11.output.adapters.en.adapter_down.0.bias', 'roberta.encoder.layer.0.output.adapters.tr.adapter_down.0.weight', 'roberta.encoder.layer.8.output.adapters.de.adapter_down.0.bias', 'roberta.encoder.layer.3.output.adapters.th.adapter_down.0.weight', 'roberta.encoder.layer.3.output.adapters.vi.adapter_up.bias', 'roberta.encoder.layer.8.output.adapters.tr.adapter_down.0.bias', 'roberta.invertible_adapters.de.F.2.weight', 'roberta.encoder.layer.7.output.adapters.nli.adapter_down.0.bias', 'roberta.encoder.layer.0.output.adapters.de.adapter_up.bias', 'roberta.encoder.layer.2.output.adapters.el.adapter_up.bias', 'roberta.encoder.layer.10.output.adapters.nli.adapter_down.0.bias', 'roberta.encoder.layer.3.output.adapters.tr.adapter_up.bias', 'roberta.encoder.layer.9.output.adapters.ru.adapter_down.0.weight', 'roberta.encoder.layer.0.output.adapters.ru.adapter_up.bias', 'roberta.encoder.layer.8.output.adapters.en.adapter_down.0.weight', 'roberta.encoder.layer.3.output.adapters.tr.adapter_up.weight', 'roberta.invertible_adapters.vi.F.2.bias', 'roberta.encoder.layer.8.output.adapters.zh.adapter_down.0.weight', 'roberta.encoder.layer.2.output.adapters.ru.adapter_up.weight', 'roberta.encoder.layer.4.output.adapters.tr.adapter_down.0.bias', 'roberta.encoder.layer.0.output.adapters.th.adapter_down.0.weight', 'roberta.encoder.layer.10.output.adapters.ar.adapter_down.0.weight', 'roberta.invertible_adapters.ru.F.2.weight', 'roberta.encoder.layer.0.output.adapters.ru.adapter_up.weight', 'roberta.invertible_adapters.tr.F.2.weight', 'roberta.encoder.layer.0.output.adapters.es.adapter_down.0.bias', 'roberta.encoder.layer.7.output.adapters.tr.adapter_up.weight', 'roberta.encoder.layer.10.output.adapters.sw.adapter_down.0.bias', 'roberta.encoder.layer.9.output.adapters.ar.adapter_down.0.bias', 'roberta.encoder.layer.7.output.adapters.hi.adapter_up.bias', 'roberta.invertible_adapters.el.F.2.weight', 'roberta.encoder.layer.10.output.adapters.vi.adapter_down.0.bias', 'roberta.encoder.layer.8.output.adapters.vi.adapter_down.0.bias', 'roberta.encoder.layer.6.output.adapters.th.adapter_up.weight', 'roberta.encoder.layer.8.output.adapters.en.adapter_up.weight', 'roberta.invertible_adapters.de.F.2.bias', 'roberta.encoder.layer.6.output.adapters.nli.adapter_down.0.bias', 'roberta.encoder.layer.6.output.adapters.en.adapter_down.0.bias', 'roberta.invertible_adapters.en.G.0.bias', 'roberta.encoder.layer.6.output.adapters.en.adapter_up.bias', 'roberta.invertible_adapters.sw.F.0.weight', 'roberta.encoder.layer.5.output.adapters.es.adapter_down.0.bias', 'roberta.encoder.layer.3.output.adapters.nli.adapter_up.bias', 'roberta.encoder.layer.6.output.adapters.tr.adapter_up.bias', 'roberta.encoder.layer.2.output.adapters.zh.adapter_down.0.weight', 'roberta.encoder.layer.3.output.adapters.tr.adapter_down.0.weight', 'roberta.encoder.layer.4.output.adapters.vi.adapter_up.bias', 'roberta.encoder.layer.10.output.adapters.zh.adapter_up.weight', 'roberta.encoder.layer.6.output.adapters.th.adapter_down.0.bias', 'roberta.encoder.layer.8.output.adapters.th.adapter_down.0.bias', 'roberta.encoder.layer.4.output.adapters.th.adapter_down.0.weight', 'roberta.encoder.layer.8.output.adapters.ar.adapter_down.0.weight', 'roberta.encoder.layer.4.output.adapters.tr.adapter_up.weight', 'roberta.invertible_adapters.en.G.2.bias', 'roberta.encoder.layer.11.output.adapters.de.adapter_down.0.weight', 'roberta.encoder.layer.5.output.adapters.vi.adapter_down.0.bias', 'roberta.encoder.layer.6.output.adapters.de.adapter_up.weight', 'roberta.invertible_adapters.sw.F.0.bias', 'roberta.encoder.layer.3.output.adapters.ar.adapter_down.0.bias', 'roberta.encoder.layer.9.output.adapters.hi.adapter_down.0.bias', 'roberta.encoder.layer.11.output.adapters.nli.adapter_down.0.weight', 'roberta.encoder.layer.1.output.adapters.zh.adapter_up.weight', 'roberta.encoder.layer.11.output.adapters.ru.adapter_up.weight', 'roberta.encoder.layer.5.output.adapters.en.adapter_up.weight', 'roberta.encoder.layer.8.output.adapters.ar.adapter_up.weight', 'roberta.encoder.layer.6.output.adapters.es.adapter_up.bias', 'roberta.encoder.layer.5.output.adapters.ru.adapter_down.0.weight', 'roberta.encoder.layer.1.output.adapters.vi.adapter_down.0.weight', 'roberta.encoder.layer.8.output.adapters.el.adapter_up.weight', 'roberta.encoder.layer.2.output.adapters.hi.adapter_down.0.bias', 'roberta.encoder.layer.1.output.adapters.sw.adapter_down.0.bias', 'roberta.encoder.layer.4.output.adapters.en.adapter_up.bias', 'roberta.encoder.layer.11.output.adapters.de.adapter_up.weight', 'roberta.invertible_adapters.sw.F.2.weight', 'roberta.encoder.layer.6.output.adapters.hi.adapter_down.0.bias', 'roberta.encoder.layer.4.output.adapters.sw.adapter_up.bias', 'roberta.invertible_adapters.ar.F.2.weight', 'roberta.encoder.layer.2.output.adapters.tr.adapter_down.0.weight', 'roberta.encoder.layer.0.output.adapters.hi.adapter_down.0.bias', 'roberta.encoder.layer.10.output.adapters.hi.adapter_up.bias', 'roberta.encoder.layer.10.output.adapters.en.adapter_down.0.weight', 'roberta.encoder.layer.7.output.adapters.es.adapter_up.weight', 'roberta.encoder.layer.7.output.adapters.el.adapter_up.bias', 'roberta.encoder.layer.1.output.adapters.sw.adapter_up.bias', 'roberta.encoder.layer.7.output.adapters.es.adapter_down.0.weight', 'roberta.invertible_adapters.el.G.2.weight', 'roberta.invertible_adapters.vi.F.2.weight', 'roberta.encoder.layer.3.output.adapters.ru.adapter_down.0.weight', 'roberta.invertible_adapters.ar.F.2.bias', 'roberta.encoder.layer.2.output.adapters.el.adapter_up.weight', 'roberta.invertible_adapters.zh.F.0.weight', 'roberta.encoder.layer.3.output.adapters.nli.adapter_down.0.bias', 'roberta.encoder.layer.2.output.adapters.de.adapter_up.bias', 'roberta.encoder.layer.3.output.adapters.es.adapter_up.weight', 'roberta.encoder.layer.9.output.adapters.sw.adapter_up.bias', 'roberta.encoder.layer.10.output.adapters.el.adapter_up.weight', 'roberta.encoder.layer.4.output.adapters.de.adapter_down.0.weight', 'roberta.invertible_adapters.sw.G.0.bias', 'roberta.encoder.layer.7.output.adapters.vi.adapter_down.0.weight', 'roberta.encoder.layer.8.output.adapters.en.adapter_down.0.bias', 'roberta.encoder.layer.10.output.adapters.el.adapter_up.bias', 'roberta.encoder.layer.7.output.adapters.ru.adapter_down.0.bias', 'roberta.encoder.layer.2.output.adapters.nli.adapter_down.0.weight', 'roberta.encoder.layer.6.output.adapters.es.adapter_up.weight', 'roberta.encoder.layer.1.output.adapters.tr.adapter_down.0.weight', 'roberta.invertible_adapters.tr.G.0.bias', 'roberta.invertible_adapters.el.F.0.bias', 'roberta.encoder.layer.7.output.adapters.zh.adapter_down.0.bias', 'roberta.encoder.layer.3.output.adapters.vi.adapter_down.0.bias', 'roberta.encoder.layer.4.output.adapters.el.adapter_down.0.weight', 'roberta.encoder.layer.9.output.adapters.de.adapter_up.bias', 'roberta.invertible_adapters.es.G.2.bias', 'roberta.encoder.layer.0.output.adapters.nli.adapter_up.bias', 'roberta.encoder.layer.11.output.adapters.ru.adapter_down.0.bias', 'roberta.encoder.layer.7.output.adapters.zh.adapter_up.bias', 'roberta.encoder.layer.5.output.adapters.nli.adapter_down.0.weight', 'roberta.encoder.layer.11.output.adapters.ar.adapter_up.weight', 'roberta.encoder.layer.1.output.adapters.ru.adapter_up.weight', 'roberta.encoder.layer.1.output.adapters.zh.adapter_down.0.bias', 'roberta.encoder.layer.4.output.adapters.de.adapter_down.0.bias', 'roberta.encoder.layer.1.output.adapters.de.adapter_up.weight', 'roberta.encoder.layer.7.output.adapters.el.adapter_down.0.bias', 'roberta.encoder.layer.6.output.adapters.ru.adapter_up.weight', 'roberta.encoder.layer.4.output.adapters.es.adapter_down.0.weight', 'roberta.encoder.layer.9.output.adapters.tr.adapter_up.bias', 'roberta.encoder.layer.8.output.adapters.nli.adapter_down.0.weight', 'roberta.encoder.layer.0.output.adapters.en.adapter_up.weight', 'roberta.encoder.layer.6.output.adapters.de.adapter_down.0.weight', 'roberta.invertible_adapters.es.G.2.weight', 'roberta.encoder.layer.10.output.adapters.de.adapter_up.bias', 'roberta.encoder.layer.10.output.adapters.th.adapter_down.0.bias', 'roberta.encoder.layer.7.output.adapters.sw.adapter_down.0.weight', 'roberta.encoder.layer.3.output.adapters.es.adapter_up.bias', 'roberta.encoder.layer.6.output.adapters.de.adapter_down.0.bias', 'roberta.invertible_adapters.tr.G.2.bias', 'roberta.encoder.layer.2.output.adapters.nli.adapter_up.bias', 'roberta.encoder.layer.4.output.adapters.es.adapter_up.bias', 'roberta.encoder.layer.3.output.adapters.hi.adapter_down.0.bias', 'roberta.encoder.layer.0.output.adapters.sw.adapter_up.weight', 'roberta.invertible_adapters.ar.G.0.weight', 'roberta.encoder.layer.3.output.adapters.en.adapter_down.0.weight', 'roberta.encoder.layer.2.output.adapters.ru.adapter_down.0.bias', 'roberta.encoder.layer.6.output.adapters.en.adapter_down.0.weight', 'roberta.encoder.layer.5.output.adapters.en.adapter_down.0.bias', 'roberta.invertible_adapters.sw.G.2.weight', 'roberta.encoder.layer.2.output.adapters.hi.adapter_up.bias', 'roberta.encoder.layer.6.output.adapters.vi.adapter_up.bias', 'roberta.encoder.layer.9.output.adapters.hi.adapter_up.weight', 'roberta.invertible_adapters.hi.G.0.bias', 'roberta.encoder.layer.7.output.adapters.vi.adapter_up.bias', 'roberta.invertible_adapters.th.F.0.weight', 'roberta.invertible_adapters.ru.G.0.weight', 'roberta.invertible_adapters.es.G.0.weight', 'roberta.encoder.layer.6.output.adapters.vi.adapter_down.0.bias', 'roberta.encoder.layer.8.output.adapters.tr.adapter_down.0.weight', 'roberta.encoder.layer.8.output.adapters.zh.adapter_up.bias', 'roberta.encoder.layer.3.output.adapters.th.adapter_down.0.bias', 'roberta.encoder.layer.4.output.adapters.de.adapter_up.bias', 'roberta.invertible_adapters.es.F.0.weight', 'roberta.encoder.layer.6.output.adapters.ar.adapter_up.weight', 'heads.nli.1.weight', 'roberta.encoder.layer.7.output.adapters.ar.adapter_up.bias', 'roberta.invertible_adapters.en.F.2.bias', 'roberta.encoder.layer.8.output.adapters.hi.adapter_up.bias', 'roberta.encoder.layer.4.output.adapters.el.adapter_up.weight', 'roberta.encoder.layer.6.output.adapters.zh.adapter_up.weight', 'roberta.encoder.layer.3.output.adapters.sw.adapter_down.0.weight', 'roberta.encoder.layer.11.output.adapters.es.adapter_down.0.bias', 'roberta.encoder.layer.4.output.adapters.ru.adapter_down.0.weight', 'heads.nli.1.bias', 'roberta.encoder.layer.10.output.adapters.tr.adapter_down.0.weight', 'roberta.invertible_adapters.en.F.0.weight', 'roberta.encoder.layer.1.output.adapters.ar.adapter_up.bias', 'roberta.encoder.layer.2.output.adapters.th.adapter_down.0.weight', 'roberta.encoder.layer.9.output.adapters.nli.adapter_down.0.weight', 'roberta.encoder.layer.11.output.adapters.sw.adapter_down.0.weight', 'roberta.encoder.layer.3.output.adapters.hi.adapter_up.bias', 'roberta.encoder.layer.8.output.adapters.el.adapter_down.0.weight', 'roberta.invertible_adapters.th.G.0.bias', 'roberta.encoder.layer.6.output.adapters.zh.adapter_down.0.weight', 'roberta.encoder.layer.8.output.adapters.sw.adapter_up.weight', 'roberta.invertible_adapters.de.F.0.bias', 'roberta.encoder.layer.1.output.adapters.en.adapter_up.weight', 'roberta.encoder.layer.0.output.adapters.el.adapter_down.0.bias', 'roberta.encoder.layer.10.output.adapters.vi.adapter_up.weight', 'roberta.encoder.layer.5.output.adapters.zh.adapter_down.0.weight', 'roberta.encoder.layer.3.output.adapters.sw.adapter_up.bias', 'roberta.encoder.layer.2.output.adapters.es.adapter_up.weight', 'roberta.encoder.layer.0.output.adapters.sw.adapter_down.0.bias', 'roberta.encoder.layer.3.output.adapters.ar.adapter_up.weight', 'roberta.invertible_adapters.hi.F.2.weight', 'roberta.encoder.layer.11.output.adapters.tr.adapter_up.bias', 'roberta.encoder.layer.7.output.adapters.ar.adapter_up.weight', 'roberta.encoder.layer.2.output.adapters.zh.adapter_up.bias', 'roberta.invertible_adapters.de.G.2.bias', 'roberta.encoder.layer.5.output.adapters.tr.adapter_down.0.bias', 'roberta.encoder.layer.0.output.adapters.nli.adapter_down.0.weight', 'roberta.encoder.layer.10.output.adapters.th.adapter_up.bias', 'roberta.invertible_adapters.sw.G.2.bias', 'roberta.encoder.layer.9.output.adapters.el.adapter_up.bias', 'roberta.encoder.layer.5.output.adapters.ru.adapter_down.0.bias', 'roberta.encoder.layer.6.output.adapters.ar.adapter_up.bias', 'roberta.encoder.layer.6.output.adapters.ru.adapter_down.0.bias', 'roberta.invertible_adapters.el.G.2.bias', 'roberta.encoder.layer.5.output.adapters.hi.adapter_down.0.weight', 'roberta.encoder.layer.8.output.adapters.vi.adapter_up.bias', 'roberta.encoder.layer.10.output.adapters.tr.adapter_up.bias', 'roberta.encoder.layer.1.output.adapters.es.adapter_up.bias', 'roberta.encoder.layer.2.output.adapters.vi.adapter_up.weight', 'roberta.encoder.layer.9.output.adapters.el.adapter_up.weight', 'roberta.invertible_adapters.ru.G.2.bias', 'roberta.encoder.layer.1.output.adapters.th.adapter_down.0.weight', 'roberta.encoder.layer.2.output.adapters.ar.adapter_up.weight', 'roberta.encoder.layer.2.output.adapters.es.adapter_up.bias', 'roberta.encoder.layer.2.output.adapters.es.adapter_down.0.bias', 'roberta.encoder.layer.0.output.adapters.el.adapter_up.weight', 'roberta.encoder.layer.9.output.adapters.de.adapter_down.0.bias', 'roberta.encoder.layer.3.output.adapters.de.adapter_down.0.weight', 'roberta.invertible_adapters.vi.G.2.weight', 'roberta.encoder.layer.4.output.adapters.vi.adapter_down.0.weight', 'roberta.encoder.layer.6.output.adapters.el.adapter_up.bias', 'roberta.invertible_adapters.tr.F.0.weight', 'roberta.encoder.layer.10.output.adapters.es.adapter_down.0.weight', 'roberta.encoder.layer.4.output.adapters.ru.adapter_up.weight', 'roberta.encoder.layer.1.output.adapters.vi.adapter_down.0.bias', 'roberta.encoder.layer.3.output.adapters.hi.adapter_up.weight', 'roberta.encoder.layer.1.output.adapters.th.adapter_down.0.bias', 'roberta.encoder.layer.7.output.adapters.en.adapter_down.0.bias', 'roberta.encoder.layer.10.output.adapters.vi.adapter_down.0.weight', 'roberta.encoder.layer.6.output.adapters.ar.adapter_down.0.bias', 'roberta.encoder.layer.10.output.adapters.de.adapter_up.weight', 'roberta.encoder.layer.7.output.adapters.zh.adapter_up.weight', 'roberta.encoder.layer.7.output.adapters.vi.adapter_down.0.bias', 'roberta.encoder.layer.3.output.adapters.nli.adapter_down.0.weight', 'roberta.encoder.layer.0.output.adapters.tr.adapter_down.0.bias', 'roberta.encoder.layer.5.output.adapters.ru.adapter_up.weight', 'roberta.encoder.layer.9.output.adapters.el.adapter_down.0.bias', 'roberta.encoder.layer.5.output.adapters.zh.adapter_down.0.bias', 'roberta.encoder.layer.10.output.adapters.sw.adapter_up.weight', 'roberta.encoder.layer.11.output.adapters.hi.adapter_up.weight', 'roberta.encoder.layer.7.output.adapters.nli.adapter_down.0.weight', 'roberta.encoder.layer.8.output.adapters.hi.adapter_down.0.bias', 'roberta.encoder.layer.5.output.adapters.vi.adapter_up.weight', 'roberta.encoder.layer.5.output.adapters.ar.adapter_up.bias', 'roberta.encoder.layer.2.output.adapters.de.adapter_down.0.bias', 'roberta.encoder.layer.2.output.adapters.de.adapter_up.weight', 'roberta.encoder.layer.6.output.adapters.nli.adapter_up.bias', 'roberta.encoder.layer.10.output.adapters.sw.adapter_down.0.weight', 'roberta.encoder.layer.9.output.adapters.ar.adapter_up.bias', 'roberta.encoder.layer.5.output.adapters.el.adapter_up.bias', 'roberta.encoder.layer.2.output.adapters.zh.adapter_down.0.bias', 'roberta.encoder.layer.11.output.adapters.tr.adapter_up.weight', 'roberta.encoder.layer.0.output.adapters.hi.adapter_up.bias', 'roberta.encoder.layer.11.output.adapters.zh.adapter_down.0.bias', 'roberta.invertible_adapters.th.G.2.weight', 'roberta.encoder.layer.0.output.adapters.tr.adapter_up.bias', 'roberta.encoder.layer.0.output.adapters.zh.adapter_up.weight', 'roberta.encoder.layer.7.output.adapters.sw.adapter_up.weight', 'roberta.encoder.layer.2.output.adapters.sw.adapter_up.bias', 'roberta.encoder.layer.0.output.adapters.tr.adapter_up.weight', 'roberta.encoder.layer.11.output.adapters.th.adapter_down.0.bias', 'roberta.encoder.layer.0.output.adapters.zh.adapter_down.0.bias', 'roberta.encoder.layer.1.output.adapters.en.adapter_down.0.bias', 'roberta.encoder.layer.4.output.adapters.en.adapter_down.0.weight', 'roberta.encoder.layer.8.output.adapters.ru.adapter_up.bias', 'roberta.encoder.layer.6.output.adapters.th.adapter_down.0.weight', 'roberta.encoder.layer.7.output.adapters.th.adapter_up.weight', 'roberta.encoder.layer.9.output.adapters.ru.adapter_down.0.bias', 'roberta.encoder.layer.10.output.adapters.el.adapter_down.0.bias', 'roberta.encoder.layer.0.output.adapters.el.adapter_down.0.weight', 'roberta.encoder.layer.7.output.adapters.ar.adapter_down.0.weight', 'roberta.encoder.layer.4.output.adapters.ru.adapter_up.bias', 'roberta.encoder.layer.6.output.adapters.de.adapter_up.bias', 'roberta.encoder.layer.6.output.adapters.ru.adapter_up.bias', 'roberta.encoder.layer.8.output.adapters.th.adapter_down.0.weight', 'roberta.invertible_adapters.de.G.0.weight', 'roberta.encoder.layer.8.output.adapters.vi.adapter_up.weight', 'roberta.encoder.layer.6.output.adapters.ru.adapter_down.0.weight', 'roberta.encoder.layer.2.output.adapters.th.adapter_up.weight', 'roberta.encoder.layer.3.output.adapters.ru.adapter_up.bias', 'roberta.encoder.layer.1.output.adapters.de.adapter_down.0.weight', 'roberta.encoder.layer.5.output.adapters.ar.adapter_down.0.bias', 'roberta.encoder.layer.1.output.adapters.tr.adapter_up.bias', 'roberta.encoder.layer.9.output.adapters.en.adapter_down.0.weight', 'roberta.encoder.layer.3.output.adapters.zh.adapter_down.0.bias', 'roberta.encoder.layer.9.output.adapters.en.adapter_up.bias', 'roberta.invertible_adapters.vi.F.0.bias', 'roberta.encoder.layer.2.output.adapters.en.adapter_down.0.weight', 'roberta.encoder.layer.2.output.adapters.ru.adapter_down.0.weight', 'roberta.invertible_adapters.ru.G.2.weight', 'roberta.invertible_adapters.tr.G.0.weight', 'roberta.encoder.layer.10.output.adapters.en.adapter_up.bias', 'roberta.encoder.layer.7.output.adapters.ru.adapter_up.weight', 'roberta.encoder.layer.11.output.adapters.hi.adapter_up.bias', 'roberta.encoder.layer.11.output.adapters.ru.adapter_down.0.weight', 'roberta.encoder.layer.9.output.adapters.ar.adapter_up.weight', 'roberta.encoder.layer.11.output.adapters.sw.adapter_up.weight', 'roberta.encoder.layer.1.output.adapters.nli.adapter_down.0.weight', 'roberta.encoder.layer.1.output.adapters.sw.adapter_up.weight', 'roberta.invertible_adapters.ru.F.2.bias', 'roberta.encoder.layer.11.output.adapters.nli.adapter_up.weight', 'roberta.encoder.layer.3.output.adapters.ru.adapter_up.weight', 'roberta.encoder.layer.8.output.adapters.zh.adapter_down.0.bias', 'roberta.invertible_adapters.ar.G.0.bias', 'roberta.encoder.layer.1.output.adapters.ar.adapter_down.0.weight', 'roberta.encoder.layer.4.output.adapters.es.adapter_up.weight', 'roberta.encoder.layer.5.output.adapters.de.adapter_up.bias', 'roberta.encoder.layer.0.output.adapters.vi.adapter_down.0.bias', 'roberta.invertible_adapters.el.G.0.weight', 'roberta.encoder.layer.5.output.adapters.es.adapter_up.weight', 'roberta.invertible_adapters.el.G.0.bias', 'roberta.encoder.layer.5.output.adapters.hi.adapter_down.0.bias', 'roberta.encoder.layer.2.output.adapters.ru.adapter_up.bias', 'roberta.encoder.layer.7.output.adapters.de.adapter_down.0.weight', 'roberta.encoder.layer.4.output.adapters.nli.adapter_down.0.weight', 'roberta.encoder.layer.9.output.adapters.th.adapter_up.weight', 'roberta.encoder.layer.0.output.adapters.es.adapter_down.0.weight', 'roberta.encoder.layer.0.output.adapters.sw.adapter_up.bias', 'roberta.encoder.layer.0.output.adapters.ar.adapter_up.bias', 'roberta.encoder.layer.2.output.adapters.tr.adapter_up.weight', 'roberta.encoder.layer.4.output.adapters.zh.adapter_down.0.bias', 'roberta.encoder.layer.11.output.adapters.el.adapter_up.weight', 'roberta.encoder.layer.1.output.adapters.tr.adapter_up.weight', 'roberta.encoder.layer.2.output.adapters.el.adapter_down.0.weight', 'roberta.encoder.layer.10.output.adapters.zh.adapter_up.bias', 'roberta.encoder.layer.5.output.adapters.el.adapter_down.0.bias', 'roberta.invertible_adapters.tr.F.2.bias', 'roberta.encoder.layer.3.output.adapters.el.adapter_down.0.weight', 'roberta.encoder.layer.9.output.adapters.th.adapter_up.bias', 'roberta.encoder.layer.3.output.adapters.vi.adapter_down.0.weight', 'roberta.encoder.layer.0.output.adapters.ru.adapter_down.0.bias', 'roberta.encoder.layer.8.output.adapters.hi.adapter_down.0.weight', 'roberta.encoder.layer.10.output.adapters.ru.adapter_up.bias', 'roberta.encoder.layer.0.output.adapters.th.adapter_up.bias', 'roberta.encoder.layer.7.output.adapters.en.adapter_up.bias', 'roberta.invertible_adapters.th.G.2.bias', 'roberta.encoder.layer.8.output.adapters.nli.adapter_up.bias', 'roberta.encoder.layer.9.output.adapters.nli.adapter_up.weight', 'roberta.encoder.layer.0.output.adapters.hi.adapter_up.weight', 'roberta.encoder.layer.9.output.adapters.vi.adapter_up.bias', 'roberta.encoder.layer.10.output.adapters.ar.adapter_up.bias', 'roberta.encoder.layer.6.output.adapters.es.adapter_down.0.bias', 'roberta.encoder.layer.7.output.adapters.th.adapter_up.bias', 'roberta.encoder.layer.9.output.adapters.hi.adapter_down.0.weight', 'roberta.encoder.layer.11.output.adapters.zh.adapter_up.bias', 'roberta.encoder.layer.9.output.adapters.es.adapter_down.0.bias', 'roberta.encoder.layer.6.output.adapters.en.adapter_up.weight', 'roberta.encoder.layer.2.output.adapters.en.adapter_down.0.bias', 'roberta.encoder.layer.2.output.adapters.de.adapter_down.0.weight', 'roberta.encoder.layer.11.output.adapters.en.adapter_up.weight', 'roberta.encoder.layer.5.output.adapters.en.adapter_up.bias', 'roberta.encoder.layer.3.output.adapters.zh.adapter_down.0.weight', 'roberta.encoder.layer.0.output.adapters.ar.adapter_down.0.weight', 'roberta.invertible_adapters.zh.F.2.weight', 'roberta.encoder.layer.8.output.adapters.el.adapter_up.bias', 'roberta.encoder.layer.11.output.adapters.es.adapter_up.bias', 'roberta.encoder.layer.11.output.adapters.el.adapter_down.0.bias', 'roberta.invertible_adapters.ru.F.0.bias', 'roberta.encoder.layer.9.output.adapters.vi.adapter_up.weight', 'roberta.invertible_adapters.hi.F.2.bias', 'roberta.invertible_adapters.zh.F.2.bias', 'roberta.invertible_adapters.vi.G.0.weight', 'roberta.encoder.layer.1.output.adapters.el.adapter_down.0.weight', 'roberta.encoder.layer.11.output.adapters.el.adapter_up.bias', 'heads.nli.4.bias', 'roberta.encoder.layer.11.output.adapters.tr.adapter_down.0.bias', 'roberta.invertible_adapters.sw.G.0.weight', 'roberta.encoder.layer.0.output.adapters.de.adapter_down.0.bias', 'roberta.invertible_adapters.zh.G.2.bias', 'roberta.encoder.layer.5.output.adapters.de.adapter_down.0.weight', 'roberta.encoder.layer.8.output.adapters.sw.adapter_up.bias', 'roberta.encoder.layer.9.output.adapters.en.adapter_down.0.bias', 'roberta.encoder.layer.11.output.adapters.hi.adapter_down.0.weight', 'roberta.encoder.layer.8.output.adapters.nli.adapter_up.weight', 'roberta.encoder.layer.8.output.adapters.ar.adapter_up.bias', 'roberta.encoder.layer.4.output.adapters.el.adapter_down.0.bias', 'roberta.encoder.layer.1.output.adapters.ar.adapter_down.0.bias', 'roberta.encoder.layer.6.output.adapters.sw.adapter_up.bias', 'roberta.encoder.layer.11.output.adapters.el.adapter_down.0.weight', 'roberta.encoder.layer.5.output.adapters.sw.adapter_up.bias', 'roberta.encoder.layer.5.output.adapters.nli.adapter_down.0.bias', 'roberta.encoder.layer.2.output.adapters.th.adapter_down.0.bias', 'roberta.invertible_adapters.hi.G.2.weight', 'heads.nli.4.weight', 'roberta.encoder.layer.1.output.adapters.hi.adapter_up.bias', 'roberta.encoder.layer.4.output.adapters.nli.adapter_down.0.bias', 'roberta.encoder.layer.5.output.adapters.de.adapter_up.weight', 'roberta.encoder.layer.0.output.adapters.th.adapter_down.0.bias', 'roberta.encoder.layer.8.output.adapters.tr.adapter_up.bias', 'roberta.encoder.layer.9.output.adapters.th.adapter_down.0.weight', 'roberta.encoder.layer.8.output.adapters.ru.adapter_down.0.bias', 'roberta.encoder.layer.5.output.adapters.el.adapter_up.weight', 'roberta.encoder.layer.11.output.adapters.tr.adapter_down.0.weight', 'roberta.encoder.layer.11.output.adapters.ar.adapter_down.0.bias', 'roberta.encoder.layer.4.output.adapters.zh.adapter_up.bias', 'roberta.invertible_adapters.de.F.0.weight', 'roberta.encoder.layer.5.output.adapters.nli.adapter_up.bias', 'roberta.invertible_adapters.es.G.0.bias', 'roberta.invertible_adapters.el.F.2.bias', 'roberta.encoder.layer.3.output.adapters.el.adapter_up.bias', 'roberta.encoder.layer.5.output.adapters.zh.adapter_up.weight', 'roberta.invertible_adapters.vi.G.2.bias', 'roberta.encoder.layer.9.output.adapters.ru.adapter_up.bias', 'roberta.invertible_adapters.sw.F.2.bias', 'roberta.encoder.layer.11.output.adapters.es.adapter_up.weight', 'roberta.encoder.layer.3.output.adapters.en.adapter_up.weight', 'roberta.encoder.layer.0.output.adapters.hi.adapter_down.0.weight', 'roberta.encoder.layer.9.output.adapters.nli.adapter_up.bias', 'roberta.encoder.layer.1.output.adapters.de.adapter_down.0.bias', 'roberta.encoder.layer.8.output.adapters.sw.adapter_down.0.bias', 'roberta.encoder.layer.6.output.adapters.zh.adapter_up.bias', 'roberta.encoder.layer.7.output.adapters.tr.adapter_down.0.weight', 'roberta.encoder.layer.4.output.adapters.vi.adapter_down.0.bias', 'roberta.encoder.layer.8.output.adapters.es.adapter_up.weight', 'roberta.encoder.layer.0.output.adapters.zh.adapter_down.0.weight', 'roberta.encoder.layer.11.output.adapters.de.adapter_down.0.bias', 'roberta.invertible_adapters.ar.F.0.bias', 'roberta.invertible_adapters.th.F.0.bias', 'roberta.encoder.layer.8.output.adapters.es.adapter_down.0.bias', 'roberta.encoder.layer.0.output.adapters.ru.adapter_down.0.weight', 'roberta.encoder.layer.5.output.adapters.sw.adapter_down.0.weight', 'roberta.encoder.layer.1.output.adapters.en.adapter_down.0.weight', 'roberta.encoder.layer.4.output.adapters.ru.adapter_down.0.bias', 'roberta.encoder.layer.10.output.adapters.es.adapter_up.weight', 'roberta.encoder.layer.5.output.adapters.es.adapter_down.0.weight', 'roberta.encoder.layer.4.output.adapters.ar.adapter_down.0.weight', 'roberta.encoder.layer.9.output.adapters.tr.adapter_down.0.weight', 'roberta.encoder.layer.0.output.adapters.de.adapter_up.weight', 'roberta.encoder.layer.5.output.adapters.th.adapter_up.bias', 'roberta.encoder.layer.7.output.adapters.nli.adapter_up.weight', 'roberta.encoder.layer.1.output.adapters.el.adapter_up.weight', 'roberta.encoder.layer.9.output.adapters.sw.adapter_up.weight', 'roberta.invertible_adapters.hi.F.0.weight', 'roberta.encoder.layer.3.output.adapters.en.adapter_down.0.bias', 'roberta.invertible_adapters.en.G.0.weight', 'roberta.encoder.layer.4.output.adapters.sw.adapter_down.0.weight', 'roberta.encoder.layer.10.output.adapters.en.adapter_down.0.bias', 'roberta.encoder.layer.6.output.adapters.sw.adapter_up.weight', 'roberta.encoder.layer.5.output.adapters.hi.adapter_up.bias', 'roberta.encoder.layer.2.output.adapters.sw.adapter_down.0.bias', 'roberta.encoder.layer.8.output.adapters.zh.adapter_up.weight', 'roberta.encoder.layer.3.output.adapters.zh.adapter_up.bias', 'roberta.encoder.layer.3.output.adapters.sw.adapter_up.weight', 'roberta.encoder.layer.1.output.adapters.vi.adapter_up.weight', 'roberta.encoder.layer.2.output.adapters.el.adapter_down.0.bias', 'roberta.encoder.layer.3.output.adapters.zh.adapter_up.weight', 'roberta.encoder.layer.0.output.adapters.vi.adapter_up.weight', 'roberta.encoder.layer.1.output.adapters.el.adapter_down.0.bias', 'roberta.encoder.layer.8.output.adapters.hi.adapter_up.weight', 'roberta.encoder.layer.4.output.adapters.ar.adapter_up.weight', 'roberta.encoder.layer.10.output.adapters.de.adapter_down.0.bias', 'roberta.invertible_adapters.ar.G.2.bias', 'roberta.encoder.layer.4.output.adapters.nli.adapter_up.bias', 'roberta.encoder.layer.7.output.adapters.el.adapter_down.0.weight', 'roberta.encoder.layer.1.output.adapters.es.adapter_down.0.bias', 'roberta.encoder.layer.6.output.adapters.tr.adapter_down.0.bias', 'roberta.invertible_adapters.hi.F.0.bias', 'roberta.encoder.layer.5.output.adapters.sw.adapter_up.weight', 'roberta.encoder.layer.8.output.adapters.de.adapter_down.0.weight', 'roberta.encoder.layer.4.output.adapters.hi.adapter_up.bias', 'roberta.encoder.layer.9.output.adapters.th.adapter_down.0.bias', 'roberta.encoder.layer.9.output.adapters.de.adapter_down.0.weight', 'roberta.encoder.layer.5.output.adapters.vi.adapter_up.bias', 'roberta.encoder.layer.7.output.adapters.sw.adapter_down.0.bias', 'roberta.encoder.layer.11.output.adapters.en.adapter_up.bias', 'roberta.encoder.layer.11.output.adapters.hi.adapter_down.0.bias', 'roberta.encoder.layer.5.output.adapters.es.adapter_up.bias', 'roberta.encoder.layer.10.output.adapters.el.adapter_down.0.weight', 'roberta.encoder.layer.2.output.adapters.vi.adapter_down.0.bias', 'roberta.encoder.layer.7.output.adapters.ru.adapter_up.bias', 'roberta.encoder.layer.6.output.adapters.sw.adapter_down.0.weight', 'roberta.encoder.layer.11.output.adapters.ru.adapter_up.bias', 'roberta.encoder.layer.7.output.adapters.ru.adapter_down.0.weight', 'roberta.encoder.layer.9.output.adapters.zh.adapter_down.0.bias', 'roberta.encoder.layer.7.output.adapters.de.adapter_up.weight', 'roberta.encoder.layer.4.output.adapters.en.adapter_down.0.bias', 'roberta.encoder.layer.0.output.adapters.th.adapter_up.weight', 'roberta.encoder.layer.1.output.adapters.hi.adapter_up.weight', 'roberta.encoder.layer.4.output.adapters.hi.adapter_down.0.bias', 'roberta.encoder.layer.3.output.adapters.de.adapter_up.weight', 'roberta.invertible_adapters.th.F.2.weight', 'roberta.encoder.layer.11.output.adapters.vi.adapter_down.0.bias', 'roberta.encoder.layer.7.output.adapters.el.adapter_up.weight', 'roberta.encoder.layer.5.output.adapters.nli.adapter_up.weight', 'roberta.encoder.layer.6.output.adapters.hi.adapter_down.0.weight', 'roberta.encoder.layer.1.output.adapters.sw.adapter_down.0.weight', 'roberta.invertible_adapters.ru.G.0.bias', 'roberta.encoder.layer.5.output.adapters.ru.adapter_up.bias', 'roberta.encoder.layer.5.output.adapters.tr.adapter_up.weight', 'roberta.encoder.layer.8.output.adapters.ru.adapter_up.weight', 'roberta.encoder.layer.9.output.adapters.zh.adapter_down.0.weight', 'roberta.encoder.layer.10.output.adapters.hi.adapter_down.0.bias', 'roberta.encoder.layer.8.output.adapters.th.adapter_up.bias', 'roberta.encoder.layer.7.output.adapters.de.adapter_up.bias', 'roberta.encoder.layer.6.output.adapters.sw.adapter_down.0.bias', 'roberta.encoder.layer.10.output.adapters.zh.adapter_down.0.bias', 'roberta.encoder.layer.10.output.adapters.vi.adapter_up.bias', 'roberta.encoder.layer.4.output.adapters.th.adapter_up.weight', 'roberta.invertible_adapters.es.F.2.bias', 'roberta.encoder.layer.9.output.adapters.es.adapter_up.weight', 'roberta.invertible_adapters.hi.G.2.bias', 'roberta.encoder.layer.1.output.adapters.de.adapter_up.bias', 'roberta.encoder.layer.10.output.adapters.hi.adapter_up.weight', 'roberta.encoder.layer.2.output.adapters.hi.adapter_down.0.weight', 'roberta.encoder.layer.8.output.adapters.vi.adapter_down.0.weight', 'roberta.encoder.layer.5.output.adapters.tr.adapter_down.0.weight', 'roberta.invertible_adapters.ar.F.0.weight', 'roberta.encoder.layer.9.output.adapters.el.adapter_down.0.weight', 'roberta.invertible_adapters.ru.F.0.weight', 'roberta.encoder.layer.6.output.adapters.tr.adapter_down.0.weight', 'roberta.encoder.layer.7.output.adapters.en.adapter_down.0.weight', 'roberta.encoder.layer.9.output.adapters.ar.adapter_down.0.weight', 'roberta.invertible_adapters.es.F.0.bias', 'roberta.encoder.layer.4.output.adapters.th.adapter_down.0.bias', 'roberta.invertible_adapters.es.F.2.weight', 'roberta.encoder.layer.9.output.adapters.ru.adapter_up.weight', 'roberta.encoder.layer.6.output.adapters.th.adapter_up.bias', 'roberta.encoder.layer.8.output.adapters.ar.adapter_down.0.bias', 'roberta.encoder.layer.5.output.adapters.th.adapter_down.0.bias', 'roberta.encoder.layer.2.output.adapters.en.adapter_up.weight', 'roberta.encoder.layer.3.output.adapters.es.adapter_down.0.weight', 'roberta.encoder.layer.11.output.adapters.nli.adapter_up.bias', 'roberta.encoder.layer.5.output.adapters.vi.adapter_down.0.weight', 'roberta.encoder.layer.1.output.adapters.nli.adapter_down.0.bias', 'roberta.encoder.layer.1.output.adapters.tr.adapter_down.0.bias', 'roberta.encoder.layer.11.output.adapters.sw.adapter_down.0.bias', 'roberta.invertible_adapters.vi.F.0.weight', 'roberta.encoder.layer.10.output.adapters.nli.adapter_up.bias', 'roberta.encoder.layer.4.output.adapters.tr.adapter_down.0.weight', 'roberta.encoder.layer.10.output.adapters.es.adapter_up.bias', 'roberta.encoder.layer.3.output.adapters.ar.adapter_down.0.weight', 'roberta.encoder.layer.0.output.adapters.ar.adapter_up.weight', 'roberta.encoder.layer.3.output.adapters.el.adapter_up.weight', 'roberta.encoder.layer.5.output.adapters.zh.adapter_up.bias', 'roberta.encoder.layer.7.output.adapters.es.adapter_up.bias', 'roberta.encoder.layer.7.output.adapters.de.adapter_down.0.bias', 'roberta.encoder.layer.3.output.adapters.ar.adapter_up.bias', 'roberta.encoder.layer.9.output.adapters.zh.adapter_up.bias', 'roberta.encoder.layer.2.output.adapters.es.adapter_down.0.weight', 'roberta.encoder.layer.3.output.adapters.en.adapter_up.bias', 'roberta.encoder.layer.1.output.adapters.es.adapter_down.0.weight', 'roberta.encoder.layer.1.output.adapters.hi.adapter_down.0.weight', 'roberta.encoder.layer.1.output.adapters.nli.adapter_up.weight', 'roberta.encoder.layer.9.output.adapters.sw.adapter_down.0.weight', 'roberta.encoder.layer.11.output.adapters.ar.adapter_down.0.weight', 'roberta.encoder.layer.11.output.adapters.ar.adapter_up.bias', 'roberta.encoder.layer.10.output.adapters.sw.adapter_up.bias', 'roberta.encoder.layer.3.output.adapters.el.adapter_down.0.bias', 'roberta.encoder.layer.1.output.adapters.th.adapter_up.bias', 'roberta.encoder.layer.8.output.adapters.el.adapter_down.0.bias', 'roberta.encoder.layer.11.output.adapters.th.adapter_down.0.weight', 'roberta.encoder.layer.6.output.adapters.nli.adapter_down.0.weight', 'roberta.encoder.layer.4.output.adapters.es.adapter_down.0.bias', 'roberta.encoder.layer.7.output.adapters.es.adapter_down.0.bias', 'roberta.encoder.layer.7.output.adapters.hi.adapter_up.weight', 'roberta.encoder.layer.9.output.adapters.tr.adapter_down.0.bias', 'roberta.encoder.layer.4.output.adapters.hi.adapter_up.weight', 'roberta.encoder.layer.7.output.adapters.hi.adapter_down.0.weight', 'roberta.encoder.layer.9.output.adapters.tr.adapter_up.weight', 'roberta.encoder.layer.2.output.adapters.hi.adapter_up.weight', 'roberta.encoder.layer.2.output.adapters.vi.adapter_up.bias', 'roberta.encoder.layer.2.output.adapters.ar.adapter_down.0.weight', 'roberta.encoder.layer.2.output.adapters.tr.adapter_down.0.bias', 'roberta.encoder.layer.6.output.adapters.vi.adapter_up.weight', 'roberta.encoder.layer.8.output.adapters.de.adapter_up.weight', 'roberta.encoder.layer.10.output.adapters.ru.adapter_up.weight', 'roberta.encoder.layer.2.output.adapters.tr.adapter_up.bias', 'roberta.encoder.layer.0.output.adapters.nli.adapter_up.weight', 'roberta.encoder.layer.10.output.adapters.ar.adapter_up.weight', 'roberta.encoder.layer.9.output.adapters.de.adapter_up.weight', 'roberta.encoder.layer.9.output.adapters.es.adapter_down.0.weight', 'roberta.invertible_adapters.zh.F.0.bias', 'roberta.encoder.layer.9.output.adapters.es.adapter_up.bias', 'roberta.encoder.layer.2.output.adapters.sw.adapter_up.weight', 'roberta.encoder.layer.3.output.adapters.th.adapter_up.bias', 'roberta.encoder.layer.9.output.adapters.en.adapter_up.weight', 'roberta.encoder.layer.10.output.adapters.zh.adapter_down.0.weight', 'roberta.encoder.layer.11.output.adapters.sw.adapter_up.bias', 'roberta.encoder.layer.7.output.adapters.nli.adapter_up.bias', 'roberta.encoder.layer.11.output.adapters.vi.adapter_down.0.weight', 'roberta.encoder.layer.7.output.adapters.th.adapter_down.0.weight', 'roberta.encoder.layer.0.output.adapters.en.adapter_up.bias', 'roberta.encoder.layer.2.output.adapters.zh.adapter_up.weight', 'roberta.encoder.layer.10.output.adapters.nli.adapter_up.weight', 'roberta.encoder.layer.10.output.adapters.hi.adapter_down.0.weight', 'roberta.encoder.layer.3.output.adapters.tr.adapter_down.0.bias', 'roberta.encoder.layer.11.output.adapters.zh.adapter_down.0.weight', 'roberta.encoder.layer.10.output.adapters.th.adapter_down.0.weight', 'roberta.encoder.layer.5.output.adapters.hi.adapter_up.weight', 'roberta.encoder.layer.5.output.adapters.el.adapter_down.0.weight', 'roberta.encoder.layer.3.output.adapters.nli.adapter_up.weight', 'roberta.encoder.layer.4.output.adapters.sw.adapter_down.0.bias', 'roberta.encoder.layer.6.output.adapters.es.adapter_down.0.weight', 'roberta.encoder.layer.0.output.adapters.sw.adapter_down.0.weight', 'roberta.encoder.layer.8.output.adapters.de.adapter_up.bias', 'roberta.encoder.layer.5.output.adapters.en.adapter_down.0.weight', 'roberta.encoder.layer.2.output.adapters.en.adapter_up.bias', 'roberta.encoder.layer.3.output.adapters.ru.adapter_down.0.bias', 'roberta.encoder.layer.5.output.adapters.th.adapter_down.0.weight', 'roberta.encoder.layer.2.output.adapters.nli.adapter_up.weight', 'roberta.encoder.layer.6.output.adapters.ar.adapter_down.0.weight', 'roberta.encoder.layer.2.output.adapters.nli.adapter_down.0.bias', 'roberta.encoder.layer.10.output.adapters.es.adapter_down.0.bias', 'roberta.encoder.layer.4.output.adapters.de.adapter_up.weight', 'roberta.encoder.layer.7.output.adapters.zh.adapter_down.0.weight', 'roberta.invertible_adapters.de.G.2.weight']\n",
            "- This IS expected if you are initializing XLMRobertaAdapterModel from the checkpoint of a model trained on another task or with another architecture (e.g. initializing a BertForSequenceClassification model from a BertForPreTraining model).\n",
            "- This IS NOT expected if you are initializing XLMRobertaAdapterModel from the checkpoint of a model that you expect to be exactly identical (initializing a BertForSequenceClassification model from a BertForSequenceClassification model).\n",
            "All the weights of XLMRobertaAdapterModel were initialized from the model checkpoint at saved_model.\n",
            "If your task is similar to the task the model of the checkpoint was trained on, you can already use XLMRobertaAdapterModel for predictions without further training.\n"
          ]
        }
      ],
      "source": [
        "config = AutoConfig.from_pretrained(\n",
        "        \"xlm-roberta-base\",\n",
        "    )\n",
        "model = AutoAdapterModel.from_pretrained(\n",
        "    \"saved_model\",\n",
        "    config=config,\n",
        ")"
      ]
    },
    {
      "cell_type": "code",
      "execution_count": 33,
      "metadata": {},
      "outputs": [
        {
          "name": "stderr",
          "output_type": "stream",
          "text": [
            "Loading module configuration from saved_adapters/adapter_config.json\n",
            "Overwriting existing adapter 'nli'.\n",
            "Loading module weights from saved_adapters/pytorch_adapter.bin\n",
            "Loading module configuration from saved_adapters/head_config.json\n",
            "Overwriting existing head 'nli'\n",
            "Adding head 'nli' with config {'head_type': 'classification', 'num_labels': 3, 'layers': 2, 'activation_function': 'tanh', 'label2id': {'LABEL_0': 0, 'LABEL_1': 1, 'LABEL_2': 2}, 'use_pooler': False, 'bias': True}.\n",
            "Loading module weights from saved_adapters/pytorch_model_head.bin\n"
          ]
        },
        {
          "data": {
            "text/plain": [
              "'nli'"
            ]
          },
          "execution_count": 33,
          "metadata": {},
          "output_type": "execute_result"
        }
      ],
      "source": [
        "# load task adapter\n",
        "model.load_adapter(\"saved_adapters\", config=lang_adapter_config, model_name=\"xlm-roberta-base\", load_as=\"nli\")"
      ]
    },
    {
      "cell_type": "code",
      "execution_count": 38,
      "metadata": {},
      "outputs": [],
      "source": [
        "model.active_adapters = Stack(\"nli\")"
      ]
    },
    {
      "cell_type": "code",
      "execution_count": 39,
      "metadata": {},
      "outputs": [
        {
          "data": {
            "text/plain": [
              "Stack[nli]"
            ]
          },
          "execution_count": 39,
          "metadata": {},
          "output_type": "execute_result"
        }
      ],
      "source": [
        "model.active_adapters"
      ]
    },
    {
      "cell_type": "code",
      "execution_count": 44,
      "metadata": {},
      "outputs": [
        {
          "name": "stdout",
          "output_type": "stream",
          "text": [
            "Size of data for language th (8, 4)\n"
          ]
        },
        {
          "data": {
            "application/vnd.jupyter.widget-view+json": {
              "model_id": "3a34e070f3dd410c8b8445c9f302f10b",
              "version_major": 2,
              "version_minor": 0
            },
            "text/plain": [
              "  0%|          | 0/1 [00:00<?, ?ba/s]"
            ]
          },
          "metadata": {},
          "output_type": "display_data"
        },
        {
          "name": "stdout",
          "output_type": "stream",
          "text": [
            "Size of data for language th (2, 4)\n"
          ]
        },
        {
          "data": {
            "application/vnd.jupyter.widget-view+json": {
              "model_id": "774b96b32a9d496a89589e80bd7270ac",
              "version_major": 2,
              "version_minor": 0
            },
            "text/plain": [
              "  0%|          | 0/1 [00:00<?, ?ba/s]"
            ]
          },
          "metadata": {},
          "output_type": "display_data"
        },
        {
          "name": "stderr",
          "output_type": "stream",
          "text": [
            "Attempting to load adapter from source 'ah'...\n"
          ]
        },
        {
          "name": "stdout",
          "output_type": "stream",
          "text": [
            "Loading language adapter for th\n"
          ]
        },
        {
          "name": "stderr",
          "output_type": "stream",
          "text": [
            "Found matching adapter at: adapters/ukp/xlm-roberta-base-th-wiki_pfeiffer.json\n",
            "Resolved adapter files at https://public.ukp.informatik.tu-darmstadt.de/AdapterHub/text_lang/th/xlm-roberta-base/pfeiffer/th_relu_2.zip.\n",
            "Loading module configuration from ~/.cache/torch/adapters/3bdb198426613f6a77006f5a46da66ef1428b58b90dbfba42d6bf88df5196636-bd0ba143e452d761929436fabaab61cc2d37d5b8b834bb47c17032ff07f11989-extracted/adapter_config.json\n",
            "Overwriting existing adapter 'th'.\n",
            "Loading module weights from ~/.cache/torch/adapters/3bdb198426613f6a77006f5a46da66ef1428b58b90dbfba42d6bf88df5196636-bd0ba143e452d761929436fabaab61cc2d37d5b8b834bb47c17032ff07f11989-extracted/pytorch_adapter.bin\n",
            "No matching prediction head found in '~/.cache/torch/adapters/3bdb198426613f6a77006f5a46da66ef1428b58b90dbfba42d6bf88df5196636-bd0ba143e452d761929436fabaab61cc2d37d5b8b834bb47c17032ff07f11989-extracted'\n",
            "PyTorch: setting up devices\n",
            "The default value for the training argument `--report_to` will change in v5 (from all installed integrations to none). In v5, you will need to use `--report_to all` to get the same behavior as now. You should start updating your code and make this info disappear :-).\n",
            "***** Running Evaluation *****\n",
            "  Num examples = 2\n",
            "  Batch size = 8\n"
          ]
        },
        {
          "data": {
            "application/vnd.jupyter.widget-view+json": {
              "model_id": "09e5af2c37454a6798f4844a65d50f08",
              "version_major": 2,
              "version_minor": 0
            },
            "text/plain": [
              "  0%|          | 0/1 [00:00<?, ?it/s]"
            ]
          },
          "metadata": {},
          "output_type": "display_data"
        },
        {
          "name": "stdout",
          "output_type": "stream",
          "text": [
            "{'th': 0.0}\n",
            "Size of data for language sw (8, 4)\n"
          ]
        },
        {
          "data": {
            "application/vnd.jupyter.widget-view+json": {
              "model_id": "791e1f05d8034439b7b790cbb9e13456",
              "version_major": 2,
              "version_minor": 0
            },
            "text/plain": [
              "  0%|          | 0/1 [00:00<?, ?ba/s]"
            ]
          },
          "metadata": {},
          "output_type": "display_data"
        },
        {
          "name": "stdout",
          "output_type": "stream",
          "text": [
            "Size of data for language sw (2, 4)\n"
          ]
        },
        {
          "data": {
            "application/vnd.jupyter.widget-view+json": {
              "model_id": "575fd307038a4be08cfea171a8fdeec0",
              "version_major": 2,
              "version_minor": 0
            },
            "text/plain": [
              "  0%|          | 0/1 [00:00<?, ?ba/s]"
            ]
          },
          "metadata": {},
          "output_type": "display_data"
        },
        {
          "name": "stderr",
          "output_type": "stream",
          "text": [
            "Attempting to load adapter from source 'ah'...\n",
            "Found matching adapter at: adapters/ukp/xlm-roberta-base-sw-wiki_pfeiffer.json\n"
          ]
        },
        {
          "name": "stdout",
          "output_type": "stream",
          "text": [
            "Loading language adapter for sw\n"
          ]
        },
        {
          "name": "stderr",
          "output_type": "stream",
          "text": [
            "Resolved adapter files at https://public.ukp.informatik.tu-darmstadt.de/AdapterHub/text_lang/sw/xlm-roberta-base/pfeiffer/sw_relu_2.zip.\n",
            "Loading module configuration from ~/.cache/torch/adapters/981cf82973bee43c18c392a9e041e5d8e40e8775a4ba2bc3c34c26d09182369d-5816fdbe39d2fb00a5a4c32d152ab0f364c258e27b16578eb1e5dd666b5588cc-extracted/adapter_config.json\n",
            "Adding adapter 'sw'.\n",
            "Loading module weights from ~/.cache/torch/adapters/981cf82973bee43c18c392a9e041e5d8e40e8775a4ba2bc3c34c26d09182369d-5816fdbe39d2fb00a5a4c32d152ab0f364c258e27b16578eb1e5dd666b5588cc-extracted/pytorch_adapter.bin\n",
            "No matching prediction head found in '~/.cache/torch/adapters/981cf82973bee43c18c392a9e041e5d8e40e8775a4ba2bc3c34c26d09182369d-5816fdbe39d2fb00a5a4c32d152ab0f364c258e27b16578eb1e5dd666b5588cc-extracted'\n",
            "PyTorch: setting up devices\n",
            "The default value for the training argument `--report_to` will change in v5 (from all installed integrations to none). In v5, you will need to use `--report_to all` to get the same behavior as now. You should start updating your code and make this info disappear :-).\n",
            "***** Running Evaluation *****\n",
            "  Num examples = 2\n",
            "  Batch size = 8\n"
          ]
        },
        {
          "data": {
            "application/vnd.jupyter.widget-view+json": {
              "model_id": "63fbb3471874497f9f641b607ccb0bdb",
              "version_major": 2,
              "version_minor": 0
            },
            "text/plain": [
              "  0%|          | 0/1 [00:00<?, ?it/s]"
            ]
          },
          "metadata": {},
          "output_type": "display_data"
        },
        {
          "name": "stdout",
          "output_type": "stream",
          "text": [
            "{'th': 0.0, 'sw': 0.0}\n",
            "Size of data for language hi (11, 4)\n"
          ]
        },
        {
          "data": {
            "application/vnd.jupyter.widget-view+json": {
              "model_id": "6ab66bd6d73a480ca8500e4fdbb7a230",
              "version_major": 2,
              "version_minor": 0
            },
            "text/plain": [
              "  0%|          | 0/1 [00:00<?, ?ba/s]"
            ]
          },
          "metadata": {},
          "output_type": "display_data"
        },
        {
          "name": "stdout",
          "output_type": "stream",
          "text": [
            "Size of data for language hi (3, 4)\n"
          ]
        },
        {
          "data": {
            "application/vnd.jupyter.widget-view+json": {
              "model_id": "c83319645c984e4180d90d0a8f9f69c5",
              "version_major": 2,
              "version_minor": 0
            },
            "text/plain": [
              "  0%|          | 0/1 [00:00<?, ?ba/s]"
            ]
          },
          "metadata": {},
          "output_type": "display_data"
        },
        {
          "name": "stderr",
          "output_type": "stream",
          "text": [
            "Attempting to load adapter from source 'ah'...\n",
            "Found matching adapter at: adapters/ukp/xlm-roberta-base-hi-wiki_pfeiffer.json\n",
            "Resolved adapter files at https://public.ukp.informatik.tu-darmstadt.de/AdapterHub/text_lang/hi/xlm-roberta-base/pfeiffer/hi_relu_2.zip.\n"
          ]
        },
        {
          "name": "stdout",
          "output_type": "stream",
          "text": [
            "Loading language adapter for hi\n"
          ]
        },
        {
          "name": "stderr",
          "output_type": "stream",
          "text": [
            "Loading module configuration from ~/.cache/torch/adapters/f1064cdf8a49c7e1341aaaabb232e1ffe6b3d167622e9e221c5b9a6fd8898788-f8bfd9dc851f0e0faf8ffad1170c2beaeb4a28826f0a531e4cab8f10d4272501-extracted/adapter_config.json\n",
            "Overwriting existing adapter 'hi'.\n",
            "Loading module weights from ~/.cache/torch/adapters/f1064cdf8a49c7e1341aaaabb232e1ffe6b3d167622e9e221c5b9a6fd8898788-f8bfd9dc851f0e0faf8ffad1170c2beaeb4a28826f0a531e4cab8f10d4272501-extracted/pytorch_adapter.bin\n",
            "No matching prediction head found in '~/.cache/torch/adapters/f1064cdf8a49c7e1341aaaabb232e1ffe6b3d167622e9e221c5b9a6fd8898788-f8bfd9dc851f0e0faf8ffad1170c2beaeb4a28826f0a531e4cab8f10d4272501-extracted'\n",
            "PyTorch: setting up devices\n",
            "The default value for the training argument `--report_to` will change in v5 (from all installed integrations to none). In v5, you will need to use `--report_to all` to get the same behavior as now. You should start updating your code and make this info disappear :-).\n",
            "***** Running Evaluation *****\n",
            "  Num examples = 3\n",
            "  Batch size = 8\n"
          ]
        },
        {
          "data": {
            "application/vnd.jupyter.widget-view+json": {
              "model_id": "693b367835bf4f3399f8b743d381c4cd",
              "version_major": 2,
              "version_minor": 0
            },
            "text/plain": [
              "  0%|          | 0/1 [00:00<?, ?it/s]"
            ]
          },
          "metadata": {},
          "output_type": "display_data"
        },
        {
          "name": "stdout",
          "output_type": "stream",
          "text": [
            "{'th': 0.0, 'sw': 0.0, 'hi': 0.3333333333333333}\n",
            "Size of data for language fr (8, 4)\n"
          ]
        },
        {
          "data": {
            "application/vnd.jupyter.widget-view+json": {
              "model_id": "81015379cfef4118a1bcacc16f16bb5f",
              "version_major": 2,
              "version_minor": 0
            },
            "text/plain": [
              "  0%|          | 0/1 [00:00<?, ?ba/s]"
            ]
          },
          "metadata": {},
          "output_type": "display_data"
        },
        {
          "name": "stdout",
          "output_type": "stream",
          "text": [
            "Size of data for language fr (2, 4)\n"
          ]
        },
        {
          "data": {
            "application/vnd.jupyter.widget-view+json": {
              "model_id": "a0509c215a8349e38b480ad44fdb5e32",
              "version_major": 2,
              "version_minor": 0
            },
            "text/plain": [
              "  0%|          | 0/1 [00:00<?, ?ba/s]"
            ]
          },
          "metadata": {},
          "output_type": "display_data"
        },
        {
          "name": "stderr",
          "output_type": "stream",
          "text": [
            "Attempting to load adapter from source 'ah'...\n",
            "No adapter with name 'fr/wiki@ukp' was found in the adapter index.\n",
            "Attempting to load adapter from source 'hf'...\n",
            "Repo id must use alphanumeric chars or '-', '_', '.', '--' and '..' are forbidden, '-' and '.' cannot start or end the name, max length is 96: 'fr/wiki@ukp'.\n",
            "Attempting to load adapter from source 'ah'...\n",
            "No adapter with name 'fr/wiki@ukp' was found in the adapter index.\n",
            "Attempting to load adapter from source 'hf'...\n",
            "Repo id must use alphanumeric chars or '-', '_', '.', '--' and '..' are forbidden, '-' and '.' cannot start or end the name, max length is 96: 'fr/wiki@ukp'.\n"
          ]
        },
        {
          "name": "stdout",
          "output_type": "stream",
          "text": [
            "Loading language adapter for fr\n",
            "couldn't do it fr\n",
            "Size of data for language ar (9, 4)\n"
          ]
        },
        {
          "data": {
            "application/vnd.jupyter.widget-view+json": {
              "model_id": "bc15cb7f406f4499812584c1f4314464",
              "version_major": 2,
              "version_minor": 0
            },
            "text/plain": [
              "  0%|          | 0/1 [00:00<?, ?ba/s]"
            ]
          },
          "metadata": {},
          "output_type": "display_data"
        },
        {
          "name": "stdout",
          "output_type": "stream",
          "text": [
            "Size of data for language ar (2, 4)\n"
          ]
        },
        {
          "data": {
            "application/vnd.jupyter.widget-view+json": {
              "model_id": "ad8158a3e1394a4d90ed19655cf1f263",
              "version_major": 2,
              "version_minor": 0
            },
            "text/plain": [
              "  0%|          | 0/1 [00:00<?, ?ba/s]"
            ]
          },
          "metadata": {},
          "output_type": "display_data"
        },
        {
          "name": "stderr",
          "output_type": "stream",
          "text": [
            "Attempting to load adapter from source 'ah'...\n"
          ]
        },
        {
          "name": "stdout",
          "output_type": "stream",
          "text": [
            "Loading language adapter for ar\n"
          ]
        },
        {
          "name": "stderr",
          "output_type": "stream",
          "text": [
            "Found matching adapter at: adapters/ukp/xlm-roberta-base-ar-wiki_pfeiffer.json\n",
            "Resolved adapter files at https://public.ukp.informatik.tu-darmstadt.de/AdapterHub/text_lang/ar/xlm-roberta-base/pfeiffer/ar_relu_2.zip.\n",
            "Loading module configuration from ~/.cache/torch/adapters/1f4018c6b187912fb6b47e664a34880506aef8c7320e0135939626a97e0bb137-4b1153cd3ebfdce09e1023c01e3ee723c32a0a57bea16e5ff13609f97eb2af0b-extracted/adapter_config.json\n",
            "Adding adapter 'ar'.\n",
            "Loading module weights from ~/.cache/torch/adapters/1f4018c6b187912fb6b47e664a34880506aef8c7320e0135939626a97e0bb137-4b1153cd3ebfdce09e1023c01e3ee723c32a0a57bea16e5ff13609f97eb2af0b-extracted/pytorch_adapter.bin\n",
            "No matching prediction head found in '~/.cache/torch/adapters/1f4018c6b187912fb6b47e664a34880506aef8c7320e0135939626a97e0bb137-4b1153cd3ebfdce09e1023c01e3ee723c32a0a57bea16e5ff13609f97eb2af0b-extracted'\n",
            "PyTorch: setting up devices\n",
            "The default value for the training argument `--report_to` will change in v5 (from all installed integrations to none). In v5, you will need to use `--report_to all` to get the same behavior as now. You should start updating your code and make this info disappear :-).\n",
            "***** Running Evaluation *****\n",
            "  Num examples = 2\n",
            "  Batch size = 8\n"
          ]
        },
        {
          "data": {
            "application/vnd.jupyter.widget-view+json": {
              "model_id": "ee6dbde71f444326af2e04ea6dee1789",
              "version_major": 2,
              "version_minor": 0
            },
            "text/plain": [
              "  0%|          | 0/1 [00:00<?, ?it/s]"
            ]
          },
          "metadata": {},
          "output_type": "display_data"
        },
        {
          "name": "stdout",
          "output_type": "stream",
          "text": [
            "{'th': 0.0, 'sw': 0.0, 'hi': 0.3333333333333333, 'ar': 0.0}\n",
            "Size of data for language de (10, 4)\n"
          ]
        },
        {
          "data": {
            "application/vnd.jupyter.widget-view+json": {
              "model_id": "ca0ccce6e5364351abecc20c3ee8b7c8",
              "version_major": 2,
              "version_minor": 0
            },
            "text/plain": [
              "  0%|          | 0/1 [00:00<?, ?ba/s]"
            ]
          },
          "metadata": {},
          "output_type": "display_data"
        },
        {
          "name": "stdout",
          "output_type": "stream",
          "text": [
            "Size of data for language de (2, 4)\n"
          ]
        },
        {
          "data": {
            "application/vnd.jupyter.widget-view+json": {
              "model_id": "de571694ca284f4ca0832647cbd846db",
              "version_major": 2,
              "version_minor": 0
            },
            "text/plain": [
              "  0%|          | 0/1 [00:00<?, ?ba/s]"
            ]
          },
          "metadata": {},
          "output_type": "display_data"
        },
        {
          "name": "stderr",
          "output_type": "stream",
          "text": [
            "Attempting to load adapter from source 'ah'...\n",
            "Found matching adapter at: adapters/ukp/xlm-roberta-base-de-wiki_pfeiffer.json\n"
          ]
        },
        {
          "name": "stdout",
          "output_type": "stream",
          "text": [
            "Loading language adapter for de\n"
          ]
        },
        {
          "name": "stderr",
          "output_type": "stream",
          "text": [
            "Resolved adapter files at https://public.ukp.informatik.tu-darmstadt.de/AdapterHub/text_lang/de/xlm-roberta-base/pfeiffer/de_relu_2.zip.\n",
            "Loading module configuration from ~/.cache/torch/adapters/c0ef737b56498e44b5af1514ef430254e94dbe2b536513268a3e7ec4b87ea573-534c86150c5d2134893d9139d93a65ec2b60d9123fb53e0a26da2d1f785f0ffd-extracted/adapter_config.json\n",
            "Adding adapter 'de'.\n",
            "Loading module weights from ~/.cache/torch/adapters/c0ef737b56498e44b5af1514ef430254e94dbe2b536513268a3e7ec4b87ea573-534c86150c5d2134893d9139d93a65ec2b60d9123fb53e0a26da2d1f785f0ffd-extracted/pytorch_adapter.bin\n",
            "No matching prediction head found in '~/.cache/torch/adapters/c0ef737b56498e44b5af1514ef430254e94dbe2b536513268a3e7ec4b87ea573-534c86150c5d2134893d9139d93a65ec2b60d9123fb53e0a26da2d1f785f0ffd-extracted'\n",
            "PyTorch: setting up devices\n",
            "The default value for the training argument `--report_to` will change in v5 (from all installed integrations to none). In v5, you will need to use `--report_to all` to get the same behavior as now. You should start updating your code and make this info disappear :-).\n",
            "***** Running Evaluation *****\n",
            "  Num examples = 2\n",
            "  Batch size = 8\n"
          ]
        },
        {
          "data": {
            "application/vnd.jupyter.widget-view+json": {
              "model_id": "eb93679f39fe444d824c74f4f2ddf9d1",
              "version_major": 2,
              "version_minor": 0
            },
            "text/plain": [
              "  0%|          | 0/1 [00:00<?, ?it/s]"
            ]
          },
          "metadata": {},
          "output_type": "display_data"
        },
        {
          "name": "stdout",
          "output_type": "stream",
          "text": [
            "{'th': 0.0, 'sw': 0.0, 'hi': 0.3333333333333333, 'ar': 0.0, 'de': 0.0}\n",
            "Size of data for language es (12, 4)\n"
          ]
        },
        {
          "data": {
            "application/vnd.jupyter.widget-view+json": {
              "model_id": "0dc2ffe6dbbc4a5b937790990cdcccee",
              "version_major": 2,
              "version_minor": 0
            },
            "text/plain": [
              "  0%|          | 0/1 [00:00<?, ?ba/s]"
            ]
          },
          "metadata": {},
          "output_type": "display_data"
        },
        {
          "name": "stdout",
          "output_type": "stream",
          "text": [
            "Size of data for language es (3, 4)\n"
          ]
        },
        {
          "data": {
            "application/vnd.jupyter.widget-view+json": {
              "model_id": "76ea8ae7bd424ead9dedb5b0d955944a",
              "version_major": 2,
              "version_minor": 0
            },
            "text/plain": [
              "  0%|          | 0/1 [00:00<?, ?ba/s]"
            ]
          },
          "metadata": {},
          "output_type": "display_data"
        },
        {
          "name": "stderr",
          "output_type": "stream",
          "text": [
            "Attempting to load adapter from source 'ah'...\n",
            "Found matching adapter at: adapters/ukp/xlm-roberta-base-es-wiki_pfeiffer.json\n"
          ]
        },
        {
          "name": "stdout",
          "output_type": "stream",
          "text": [
            "Loading language adapter for es\n"
          ]
        },
        {
          "name": "stderr",
          "output_type": "stream",
          "text": [
            "Resolved adapter files at https://public.ukp.informatik.tu-darmstadt.de/AdapterHub/text_lang/es/xlm-roberta-base/pfeiffer/es_relu_2.zip.\n",
            "Loading module configuration from ~/.cache/torch/adapters/e5418630985d3a769af1695c42b68c90e03fb50d4a44ef6d2259ce5cc75b5c86-8d9e1bcab8f069e4418c4d02b86ebde888d988a9604bb17f2938ededc9ddacfa-extracted/adapter_config.json\n",
            "Adding adapter 'es'.\n",
            "Loading module weights from ~/.cache/torch/adapters/e5418630985d3a769af1695c42b68c90e03fb50d4a44ef6d2259ce5cc75b5c86-8d9e1bcab8f069e4418c4d02b86ebde888d988a9604bb17f2938ededc9ddacfa-extracted/pytorch_adapter.bin\n",
            "No matching prediction head found in '~/.cache/torch/adapters/e5418630985d3a769af1695c42b68c90e03fb50d4a44ef6d2259ce5cc75b5c86-8d9e1bcab8f069e4418c4d02b86ebde888d988a9604bb17f2938ededc9ddacfa-extracted'\n",
            "PyTorch: setting up devices\n",
            "The default value for the training argument `--report_to` will change in v5 (from all installed integrations to none). In v5, you will need to use `--report_to all` to get the same behavior as now. You should start updating your code and make this info disappear :-).\n",
            "***** Running Evaluation *****\n",
            "  Num examples = 3\n",
            "  Batch size = 8\n"
          ]
        },
        {
          "data": {
            "application/vnd.jupyter.widget-view+json": {
              "model_id": "d9d756b1f47c4266bf8c64e2ebb409b5",
              "version_major": 2,
              "version_minor": 0
            },
            "text/plain": [
              "  0%|          | 0/1 [00:00<?, ?it/s]"
            ]
          },
          "metadata": {},
          "output_type": "display_data"
        },
        {
          "name": "stdout",
          "output_type": "stream",
          "text": [
            "{'th': 0.0, 'sw': 0.0, 'hi': 0.3333333333333333, 'ar': 0.0, 'de': 0.0, 'es': 0.3333333333333333}\n",
            "Size of data for language ur (8, 4)\n"
          ]
        },
        {
          "data": {
            "application/vnd.jupyter.widget-view+json": {
              "model_id": "38f3eb23b61d4efaa564bede0a10a148",
              "version_major": 2,
              "version_minor": 0
            },
            "text/plain": [
              "  0%|          | 0/1 [00:00<?, ?ba/s]"
            ]
          },
          "metadata": {},
          "output_type": "display_data"
        },
        {
          "name": "stdout",
          "output_type": "stream",
          "text": [
            "Size of data for language ur (2, 4)\n"
          ]
        },
        {
          "data": {
            "application/vnd.jupyter.widget-view+json": {
              "model_id": "7a59daad980c41b5b3536c69a90395f5",
              "version_major": 2,
              "version_minor": 0
            },
            "text/plain": [
              "  0%|          | 0/1 [00:00<?, ?ba/s]"
            ]
          },
          "metadata": {},
          "output_type": "display_data"
        },
        {
          "name": "stderr",
          "output_type": "stream",
          "text": [
            "Attempting to load adapter from source 'ah'...\n",
            "No adapter with name 'ur/wiki@ukp' was found in the adapter index.\n",
            "Attempting to load adapter from source 'hf'...\n",
            "Repo id must use alphanumeric chars or '-', '_', '.', '--' and '..' are forbidden, '-' and '.' cannot start or end the name, max length is 96: 'ur/wiki@ukp'.\n",
            "Attempting to load adapter from source 'ah'...\n",
            "No adapter with name 'ur/wiki@ukp' was found in the adapter index.\n",
            "Attempting to load adapter from source 'hf'...\n",
            "Repo id must use alphanumeric chars or '-', '_', '.', '--' and '..' are forbidden, '-' and '.' cannot start or end the name, max length is 96: 'ur/wiki@ukp'.\n"
          ]
        },
        {
          "name": "stdout",
          "output_type": "stream",
          "text": [
            "Loading language adapter for ur\n",
            "couldn't do it ur\n",
            "Size of data for language ru (8, 4)\n"
          ]
        },
        {
          "data": {
            "application/vnd.jupyter.widget-view+json": {
              "model_id": "16c0dacba856466bac56878774ef45cf",
              "version_major": 2,
              "version_minor": 0
            },
            "text/plain": [
              "  0%|          | 0/1 [00:00<?, ?ba/s]"
            ]
          },
          "metadata": {},
          "output_type": "display_data"
        },
        {
          "name": "stdout",
          "output_type": "stream",
          "text": [
            "Size of data for language ru (2, 4)\n"
          ]
        },
        {
          "data": {
            "application/vnd.jupyter.widget-view+json": {
              "model_id": "ba46cd1af9604bb19d580cfcbc1b5810",
              "version_major": 2,
              "version_minor": 0
            },
            "text/plain": [
              "  0%|          | 0/1 [00:00<?, ?ba/s]"
            ]
          },
          "metadata": {},
          "output_type": "display_data"
        },
        {
          "name": "stderr",
          "output_type": "stream",
          "text": [
            "Attempting to load adapter from source 'ah'...\n"
          ]
        },
        {
          "name": "stdout",
          "output_type": "stream",
          "text": [
            "Loading language adapter for ru\n"
          ]
        },
        {
          "name": "stderr",
          "output_type": "stream",
          "text": [
            "Found matching adapter at: adapters/ukp/xlm-roberta-base-ru-wiki_pfeiffer.json\n",
            "Resolved adapter files at https://public.ukp.informatik.tu-darmstadt.de/AdapterHub/text_lang/ru/xlm-roberta-base/pfeiffer/ru_relu_2.zip.\n",
            "Loading module configuration from ~/.cache/torch/adapters/b04768591b9edb615dc8316005c235722309c8ef6df4daff35bbabd15381e456-fc20f6792a2a91b793b4670f3c5fc99d7cff93ac49ca38e1a0a0e3a0528dbf9f-extracted/adapter_config.json\n",
            "Adding adapter 'ru'.\n",
            "Loading module weights from ~/.cache/torch/adapters/b04768591b9edb615dc8316005c235722309c8ef6df4daff35bbabd15381e456-fc20f6792a2a91b793b4670f3c5fc99d7cff93ac49ca38e1a0a0e3a0528dbf9f-extracted/pytorch_adapter.bin\n",
            "No matching prediction head found in '~/.cache/torch/adapters/b04768591b9edb615dc8316005c235722309c8ef6df4daff35bbabd15381e456-fc20f6792a2a91b793b4670f3c5fc99d7cff93ac49ca38e1a0a0e3a0528dbf9f-extracted'\n",
            "PyTorch: setting up devices\n",
            "The default value for the training argument `--report_to` will change in v5 (from all installed integrations to none). In v5, you will need to use `--report_to all` to get the same behavior as now. You should start updating your code and make this info disappear :-).\n",
            "***** Running Evaluation *****\n",
            "  Num examples = 2\n",
            "  Batch size = 8\n"
          ]
        },
        {
          "data": {
            "application/vnd.jupyter.widget-view+json": {
              "model_id": "1d6cd50a3aa84858ae644111a4052af1",
              "version_major": 2,
              "version_minor": 0
            },
            "text/plain": [
              "  0%|          | 0/1 [00:00<?, ?it/s]"
            ]
          },
          "metadata": {},
          "output_type": "display_data"
        },
        {
          "name": "stdout",
          "output_type": "stream",
          "text": [
            "{'th': 0.0, 'sw': 0.0, 'hi': 0.3333333333333333, 'ar': 0.0, 'de': 0.0, 'es': 0.3333333333333333, 'ru': 0.0}\n",
            "Size of data for language el (6, 4)\n"
          ]
        },
        {
          "data": {
            "application/vnd.jupyter.widget-view+json": {
              "model_id": "5290be2bf9f64837902c61dbbd2fb7f6",
              "version_major": 2,
              "version_minor": 0
            },
            "text/plain": [
              "  0%|          | 0/1 [00:00<?, ?ba/s]"
            ]
          },
          "metadata": {},
          "output_type": "display_data"
        },
        {
          "name": "stdout",
          "output_type": "stream",
          "text": [
            "Size of data for language el (2, 4)\n"
          ]
        },
        {
          "data": {
            "application/vnd.jupyter.widget-view+json": {
              "model_id": "53ebfd7a52a3434eabb7086cc9588a6b",
              "version_major": 2,
              "version_minor": 0
            },
            "text/plain": [
              "  0%|          | 0/1 [00:00<?, ?ba/s]"
            ]
          },
          "metadata": {},
          "output_type": "display_data"
        },
        {
          "name": "stderr",
          "output_type": "stream",
          "text": [
            "Attempting to load adapter from source 'ah'...\n",
            "Found matching adapter at: adapters/ukp/xlm-roberta-base-el-wiki_pfeiffer.json\n"
          ]
        },
        {
          "name": "stdout",
          "output_type": "stream",
          "text": [
            "Loading language adapter for el\n"
          ]
        },
        {
          "name": "stderr",
          "output_type": "stream",
          "text": [
            "Resolved adapter files at https://public.ukp.informatik.tu-darmstadt.de/AdapterHub/text_lang/el/xlm-roberta-base/pfeiffer/el_relu_2.zip.\n",
            "Loading module configuration from ~/.cache/torch/adapters/adc7c8e4f5d916c8c826a160ee8c0718b423782b1debd102558e0745c655d848-e78556fdaec9a644ab14a5c6008d46f54a74e2f9a1144802f6216997a8d0bbd6-extracted/adapter_config.json\n",
            "Adding adapter 'el'.\n",
            "Loading module weights from ~/.cache/torch/adapters/adc7c8e4f5d916c8c826a160ee8c0718b423782b1debd102558e0745c655d848-e78556fdaec9a644ab14a5c6008d46f54a74e2f9a1144802f6216997a8d0bbd6-extracted/pytorch_adapter.bin\n",
            "No matching prediction head found in '~/.cache/torch/adapters/adc7c8e4f5d916c8c826a160ee8c0718b423782b1debd102558e0745c655d848-e78556fdaec9a644ab14a5c6008d46f54a74e2f9a1144802f6216997a8d0bbd6-extracted'\n",
            "PyTorch: setting up devices\n",
            "The default value for the training argument `--report_to` will change in v5 (from all installed integrations to none). In v5, you will need to use `--report_to all` to get the same behavior as now. You should start updating your code and make this info disappear :-).\n",
            "***** Running Evaluation *****\n",
            "  Num examples = 2\n",
            "  Batch size = 8\n"
          ]
        },
        {
          "data": {
            "application/vnd.jupyter.widget-view+json": {
              "model_id": "0b1759c6a88f432fa2971618f332d5c5",
              "version_major": 2,
              "version_minor": 0
            },
            "text/plain": [
              "  0%|          | 0/1 [00:00<?, ?it/s]"
            ]
          },
          "metadata": {},
          "output_type": "display_data"
        },
        {
          "name": "stdout",
          "output_type": "stream",
          "text": [
            "{'th': 0.0, 'sw': 0.0, 'hi': 0.3333333333333333, 'ar': 0.0, 'de': 0.0, 'es': 0.3333333333333333, 'ru': 0.0, 'el': 0.5}\n",
            "Size of data for language zh (5, 4)\n"
          ]
        },
        {
          "data": {
            "application/vnd.jupyter.widget-view+json": {
              "model_id": "1fe3a3ff4ea449a8a269b756d7f4ae16",
              "version_major": 2,
              "version_minor": 0
            },
            "text/plain": [
              "  0%|          | 0/1 [00:00<?, ?ba/s]"
            ]
          },
          "metadata": {},
          "output_type": "display_data"
        },
        {
          "name": "stdout",
          "output_type": "stream",
          "text": [
            "Size of data for language zh (1, 4)\n"
          ]
        },
        {
          "data": {
            "application/vnd.jupyter.widget-view+json": {
              "model_id": "90b25a568e61489995ed5ac9b18ac686",
              "version_major": 2,
              "version_minor": 0
            },
            "text/plain": [
              "  0%|          | 0/1 [00:00<?, ?ba/s]"
            ]
          },
          "metadata": {},
          "output_type": "display_data"
        },
        {
          "name": "stderr",
          "output_type": "stream",
          "text": [
            "Attempting to load adapter from source 'ah'...\n",
            "Found matching adapter at: adapters/ukp/xlm-roberta-base-zh-wiki_pfeiffer.json\n"
          ]
        },
        {
          "name": "stdout",
          "output_type": "stream",
          "text": [
            "Loading language adapter for zh\n"
          ]
        },
        {
          "name": "stderr",
          "output_type": "stream",
          "text": [
            "Resolved adapter files at https://public.ukp.informatik.tu-darmstadt.de/AdapterHub/text_lang/zh/xlm-roberta-base/pfeiffer/zh_relu_2.zip.\n",
            "Loading module configuration from ~/.cache/torch/adapters/a0062ff69a60af7afaa36710258ebf0e2130259cc999502dce01e7ba44d087f3-28db881b757224796458960a5600431c0298d74f61061f69d4be5b5d72c9da7e-extracted/adapter_config.json\n",
            "Adding adapter 'zh'.\n",
            "Loading module weights from ~/.cache/torch/adapters/a0062ff69a60af7afaa36710258ebf0e2130259cc999502dce01e7ba44d087f3-28db881b757224796458960a5600431c0298d74f61061f69d4be5b5d72c9da7e-extracted/pytorch_adapter.bin\n",
            "No matching prediction head found in '~/.cache/torch/adapters/a0062ff69a60af7afaa36710258ebf0e2130259cc999502dce01e7ba44d087f3-28db881b757224796458960a5600431c0298d74f61061f69d4be5b5d72c9da7e-extracted'\n",
            "PyTorch: setting up devices\n",
            "The default value for the training argument `--report_to` will change in v5 (from all installed integrations to none). In v5, you will need to use `--report_to all` to get the same behavior as now. You should start updating your code and make this info disappear :-).\n",
            "***** Running Evaluation *****\n",
            "  Num examples = 1\n",
            "  Batch size = 8\n"
          ]
        },
        {
          "data": {
            "application/vnd.jupyter.widget-view+json": {
              "model_id": "5d66eefc63b542dea40fbd5758286b26",
              "version_major": 2,
              "version_minor": 0
            },
            "text/plain": [
              "  0%|          | 0/1 [00:00<?, ?it/s]"
            ]
          },
          "metadata": {},
          "output_type": "display_data"
        },
        {
          "name": "stdout",
          "output_type": "stream",
          "text": [
            "{'th': 0.0, 'sw': 0.0, 'hi': 0.3333333333333333, 'ar': 0.0, 'de': 0.0, 'es': 0.3333333333333333, 'ru': 0.0, 'el': 0.5, 'zh': 0.0}\n",
            "Size of data for language bg (6, 4)\n"
          ]
        },
        {
          "data": {
            "application/vnd.jupyter.widget-view+json": {
              "model_id": "045db0ed5acc4b6e9b70b8545d9bde81",
              "version_major": 2,
              "version_minor": 0
            },
            "text/plain": [
              "  0%|          | 0/1 [00:00<?, ?ba/s]"
            ]
          },
          "metadata": {},
          "output_type": "display_data"
        },
        {
          "name": "stdout",
          "output_type": "stream",
          "text": [
            "Size of data for language bg (2, 4)\n"
          ]
        },
        {
          "data": {
            "application/vnd.jupyter.widget-view+json": {
              "model_id": "c88105e5654344ff962f81cfb86716fd",
              "version_major": 2,
              "version_minor": 0
            },
            "text/plain": [
              "  0%|          | 0/1 [00:00<?, ?ba/s]"
            ]
          },
          "metadata": {},
          "output_type": "display_data"
        },
        {
          "name": "stderr",
          "output_type": "stream",
          "text": [
            "Attempting to load adapter from source 'ah'...\n",
            "No adapter with name 'bg/wiki@ukp' was found in the adapter index.\n",
            "Attempting to load adapter from source 'hf'...\n",
            "Repo id must use alphanumeric chars or '-', '_', '.', '--' and '..' are forbidden, '-' and '.' cannot start or end the name, max length is 96: 'bg/wiki@ukp'.\n",
            "Attempting to load adapter from source 'ah'...\n",
            "No adapter with name 'bg/wiki@ukp' was found in the adapter index.\n",
            "Attempting to load adapter from source 'hf'...\n",
            "Repo id must use alphanumeric chars or '-', '_', '.', '--' and '..' are forbidden, '-' and '.' cannot start or end the name, max length is 96: 'bg/wiki@ukp'.\n"
          ]
        },
        {
          "name": "stdout",
          "output_type": "stream",
          "text": [
            "Loading language adapter for bg\n",
            "couldn't do it bg\n",
            "Size of data for language tr (4, 4)\n"
          ]
        },
        {
          "data": {
            "application/vnd.jupyter.widget-view+json": {
              "model_id": "b0eece8bb2724d9daf4fc28991a1fb7c",
              "version_major": 2,
              "version_minor": 0
            },
            "text/plain": [
              "  0%|          | 0/1 [00:00<?, ?ba/s]"
            ]
          },
          "metadata": {},
          "output_type": "display_data"
        },
        {
          "name": "stdout",
          "output_type": "stream",
          "text": [
            "Size of data for language tr (1, 4)\n"
          ]
        },
        {
          "data": {
            "application/vnd.jupyter.widget-view+json": {
              "model_id": "fddd10b418ad4f0cadfab87eace52334",
              "version_major": 2,
              "version_minor": 0
            },
            "text/plain": [
              "  0%|          | 0/1 [00:00<?, ?ba/s]"
            ]
          },
          "metadata": {},
          "output_type": "display_data"
        },
        {
          "name": "stderr",
          "output_type": "stream",
          "text": [
            "Attempting to load adapter from source 'ah'...\n"
          ]
        },
        {
          "name": "stdout",
          "output_type": "stream",
          "text": [
            "Loading language adapter for tr\n"
          ]
        },
        {
          "name": "stderr",
          "output_type": "stream",
          "text": [
            "Found matching adapter at: adapters/ukp/xlm-roberta-base-tr-wiki_pfeiffer.json\n",
            "Resolved adapter files at https://public.ukp.informatik.tu-darmstadt.de/AdapterHub/text_lang/tr/xlm-roberta-base/pfeiffer/tr_relu_2.zip.\n",
            "Loading module configuration from ~/.cache/torch/adapters/f55f186b328f0ae5162376f538cf4ea72dc1fa666f008b74ef34abc2130d2a2e-0c269ff438511c1e60f2b0df96026ffb2f77061b1ec3dcc53913f1f3770e5d24-extracted/adapter_config.json\n",
            "Adding adapter 'tr'.\n",
            "Loading module weights from ~/.cache/torch/adapters/f55f186b328f0ae5162376f538cf4ea72dc1fa666f008b74ef34abc2130d2a2e-0c269ff438511c1e60f2b0df96026ffb2f77061b1ec3dcc53913f1f3770e5d24-extracted/pytorch_adapter.bin\n",
            "No matching prediction head found in '~/.cache/torch/adapters/f55f186b328f0ae5162376f538cf4ea72dc1fa666f008b74ef34abc2130d2a2e-0c269ff438511c1e60f2b0df96026ffb2f77061b1ec3dcc53913f1f3770e5d24-extracted'\n",
            "PyTorch: setting up devices\n",
            "The default value for the training argument `--report_to` will change in v5 (from all installed integrations to none). In v5, you will need to use `--report_to all` to get the same behavior as now. You should start updating your code and make this info disappear :-).\n",
            "***** Running Evaluation *****\n",
            "  Num examples = 1\n",
            "  Batch size = 8\n"
          ]
        },
        {
          "data": {
            "application/vnd.jupyter.widget-view+json": {
              "model_id": "5099e7c68d2746c5b419982205028386",
              "version_major": 2,
              "version_minor": 0
            },
            "text/plain": [
              "  0%|          | 0/1 [00:00<?, ?it/s]"
            ]
          },
          "metadata": {},
          "output_type": "display_data"
        },
        {
          "name": "stdout",
          "output_type": "stream",
          "text": [
            "{'th': 0.0, 'sw': 0.0, 'hi': 0.3333333333333333, 'ar': 0.0, 'de': 0.0, 'es': 0.3333333333333333, 'ru': 0.0, 'el': 0.5, 'zh': 0.0, 'tr': 0.0}\n",
            "Size of data for language vi (3, 4)\n"
          ]
        },
        {
          "data": {
            "application/vnd.jupyter.widget-view+json": {
              "model_id": "ed0180b2e96b4db29e6fcd38233c6f38",
              "version_major": 2,
              "version_minor": 0
            },
            "text/plain": [
              "  0%|          | 0/1 [00:00<?, ?ba/s]"
            ]
          },
          "metadata": {},
          "output_type": "display_data"
        },
        {
          "name": "stdout",
          "output_type": "stream",
          "text": [
            "Size of data for language vi (1, 4)\n"
          ]
        },
        {
          "data": {
            "application/vnd.jupyter.widget-view+json": {
              "model_id": "f139a391c07b48338822bd81b211a5f9",
              "version_major": 2,
              "version_minor": 0
            },
            "text/plain": [
              "  0%|          | 0/1 [00:00<?, ?ba/s]"
            ]
          },
          "metadata": {},
          "output_type": "display_data"
        },
        {
          "name": "stderr",
          "output_type": "stream",
          "text": [
            "Attempting to load adapter from source 'ah'...\n",
            "Found matching adapter at: adapters/ukp/xlm-roberta-base-vi-wiki_pfeiffer.json\n"
          ]
        },
        {
          "name": "stdout",
          "output_type": "stream",
          "text": [
            "Loading language adapter for vi\n"
          ]
        },
        {
          "name": "stderr",
          "output_type": "stream",
          "text": [
            "Resolved adapter files at https://public.ukp.informatik.tu-darmstadt.de/AdapterHub/text_lang/vi/xlm-roberta-base/pfeiffer/vi_relu_2.zip.\n",
            "Loading module configuration from ~/.cache/torch/adapters/dc145cc33cddd26f442238ba80f71eb4e510ce84ee464579f2311e24f36fb792-9c56b7f5ae57339c2dce0d880efd56b4ad9019ffa2775dc19a36bc6de4bede0c-extracted/adapter_config.json\n",
            "Adding adapter 'vi'.\n",
            "Loading module weights from ~/.cache/torch/adapters/dc145cc33cddd26f442238ba80f71eb4e510ce84ee464579f2311e24f36fb792-9c56b7f5ae57339c2dce0d880efd56b4ad9019ffa2775dc19a36bc6de4bede0c-extracted/pytorch_adapter.bin\n",
            "No matching prediction head found in '~/.cache/torch/adapters/dc145cc33cddd26f442238ba80f71eb4e510ce84ee464579f2311e24f36fb792-9c56b7f5ae57339c2dce0d880efd56b4ad9019ffa2775dc19a36bc6de4bede0c-extracted'\n",
            "PyTorch: setting up devices\n",
            "The default value for the training argument `--report_to` will change in v5 (from all installed integrations to none). In v5, you will need to use `--report_to all` to get the same behavior as now. You should start updating your code and make this info disappear :-).\n",
            "***** Running Evaluation *****\n",
            "  Num examples = 1\n",
            "  Batch size = 8\n"
          ]
        },
        {
          "data": {
            "application/vnd.jupyter.widget-view+json": {
              "model_id": "8902c5729235491f974c7c98bb1f695c",
              "version_major": 2,
              "version_minor": 0
            },
            "text/plain": [
              "  0%|          | 0/1 [00:00<?, ?it/s]"
            ]
          },
          "metadata": {},
          "output_type": "display_data"
        },
        {
          "name": "stdout",
          "output_type": "stream",
          "text": [
            "{'th': 0.0, 'sw': 0.0, 'hi': 0.3333333333333333, 'ar': 0.0, 'de': 0.0, 'es': 0.3333333333333333, 'ru': 0.0, 'el': 0.5, 'zh': 0.0, 'tr': 0.0, 'vi': 0.0}\n"
          ]
        }
      ],
      "source": [
        "acc = {}\n",
        "languages = [ 'th', 'sw', 'hi', 'fr', 'ar', 'de', 'es', 'ur', 'ru', 'el',\n",
        "       'zh', 'bg', 'tr', 'vi']\n",
        "\n",
        "for lang in languages:\n",
        "    try:\n",
        "      en_data_train = make_dataset(train_data, lang)\n",
        "      en_data_test = make_dataset(test_data, lang)\n",
        "\n",
        "      print(\"Loading language adapter for {}\".format(lang))\n",
        "      try:\n",
        "          model.load_adapter(lang_adapters[lang], config=lang_adapter_config, model_name=\"xlm-roberta-base\")\n",
        "          model.active_adapters = Stack(lang, \"nli\")\n",
        "      except:\n",
        "          model.load_adapter(lang_adapters[lang], config = lang_adapter_config, model_name=\"xlm-roberta-base\")\n",
        "          model.active_adapters = Stack(lang_adapters[lang], \"nli\")\n",
        "\n",
        "      eval_trainer = AdapterTrainer(\n",
        "      model=model,\n",
        "      args=TrainingArguments(output_dir=\"./eval_output\", remove_unused_columns=False,),\n",
        "      eval_dataset=en_data_test,\n",
        "      compute_metrics=compute_accuracy,\n",
        "      )\n",
        "\n",
        "      acc[lang] = eval_trainer.evaluate()[\"eval_acc\"]\n",
        "      print(acc)\n",
        "    except:\n",
        "      print(f\"couldn't do it {lang}\")"
      ]
    },
    {
      "cell_type": "code",
      "execution_count": 45,
      "metadata": {},
      "outputs": [
        {
          "data": {
            "text/plain": [
              "{'th': 0.0,\n",
              " 'sw': 0.0,\n",
              " 'hi': 0.3333333333333333,\n",
              " 'ar': 0.0,\n",
              " 'de': 0.0,\n",
              " 'es': 0.3333333333333333,\n",
              " 'ru': 0.0,\n",
              " 'el': 0.5,\n",
              " 'zh': 0.0,\n",
              " 'tr': 0.0,\n",
              " 'vi': 0.0}"
            ]
          },
          "execution_count": 45,
          "metadata": {},
          "output_type": "execute_result"
        }
      ],
      "source": [
        "acc"
      ]
    },
    {
      "cell_type": "code",
      "execution_count": null,
      "metadata": {},
      "outputs": [],
      "source": []
    }
  ],
  "metadata": {
    "accelerator": "GPU",
    "colab": {
      "provenance": []
    },
    "gpuClass": "standard",
    "kernelspec": {
      "display_name": "Python 3.10.6 64-bit",
      "language": "python",
      "name": "python3"
    },
    "language_info": {
      "codemirror_mode": {
        "name": "ipython",
        "version": 3
      },
      "file_extension": ".py",
      "mimetype": "text/x-python",
      "name": "python",
      "nbconvert_exporter": "python",
      "pygments_lexer": "ipython3",
      "version": "3.10.6"
    },
    "vscode": {
      "interpreter": {
        "hash": "b0fa6594d8f4cbf19f97940f81e996739fb7646882a419484c72d19e05852a7e"
      }
    },
    "widgets": {
      "application/vnd.jupyter.widget-state+json": {
        "0320ba0a3d84406ba0285ae35251d5a7": {
          "model_module": "@jupyter-widgets/controls",
          "model_module_version": "1.5.0",
          "model_name": "HTMLModel",
          "state": {
            "_dom_classes": [],
            "_model_module": "@jupyter-widgets/controls",
            "_model_module_version": "1.5.0",
            "_model_name": "HTMLModel",
            "_view_count": null,
            "_view_module": "@jupyter-widgets/controls",
            "_view_module_version": "1.5.0",
            "_view_name": "HTMLView",
            "description": "",
            "description_tooltip": null,
            "layout": "IPY_MODEL_b2f1a8a7cd8e44df96978a0985df37a2",
            "placeholder": "​",
            "style": "IPY_MODEL_5c809c3a078847c2a4499929829560fb",
            "value": "Downloading en_relu_2.zip: 100%"
          }
        },
        "03771298ea704995a37f81eb493ad237": {
          "model_module": "@jupyter-widgets/controls",
          "model_module_version": "1.5.0",
          "model_name": "HTMLModel",
          "state": {
            "_dom_classes": [],
            "_model_module": "@jupyter-widgets/controls",
            "_model_module_version": "1.5.0",
            "_model_name": "HTMLModel",
            "_view_count": null,
            "_view_module": "@jupyter-widgets/controls",
            "_view_module_version": "1.5.0",
            "_view_name": "HTMLView",
            "description": "",
            "description_tooltip": null,
            "layout": "IPY_MODEL_a781b81f2012474ca2cc38bc6447a813",
            "placeholder": "​",
            "style": "IPY_MODEL_a74042ce16014b5faf6ccc6c0eb150ce",
            "value": " 8.68M/8.68M [00:02&lt;00:00, 6.41MB/s]"
          }
        },
        "0f67a879121e49cf90e335612cdd3d0b": {
          "model_module": "@jupyter-widgets/base",
          "model_module_version": "1.2.0",
          "model_name": "LayoutModel",
          "state": {
            "_model_module": "@jupyter-widgets/base",
            "_model_module_version": "1.2.0",
            "_model_name": "LayoutModel",
            "_view_count": null,
            "_view_module": "@jupyter-widgets/base",
            "_view_module_version": "1.2.0",
            "_view_name": "LayoutView",
            "align_content": null,
            "align_items": null,
            "align_self": null,
            "border": null,
            "bottom": null,
            "display": null,
            "flex": null,
            "flex_flow": null,
            "grid_area": null,
            "grid_auto_columns": null,
            "grid_auto_flow": null,
            "grid_auto_rows": null,
            "grid_column": null,
            "grid_gap": null,
            "grid_row": null,
            "grid_template_areas": null,
            "grid_template_columns": null,
            "grid_template_rows": null,
            "height": null,
            "justify_content": null,
            "justify_items": null,
            "left": null,
            "margin": null,
            "max_height": null,
            "max_width": null,
            "min_height": null,
            "min_width": null,
            "object_fit": null,
            "object_position": null,
            "order": null,
            "overflow": null,
            "overflow_x": null,
            "overflow_y": null,
            "padding": null,
            "right": null,
            "top": null,
            "visibility": null,
            "width": null
          }
        },
        "10a1a14dcfd54f60af650daad29656fa": {
          "model_module": "@jupyter-widgets/controls",
          "model_module_version": "1.5.0",
          "model_name": "DescriptionStyleModel",
          "state": {
            "_model_module": "@jupyter-widgets/controls",
            "_model_module_version": "1.5.0",
            "_model_name": "DescriptionStyleModel",
            "_view_count": null,
            "_view_module": "@jupyter-widgets/base",
            "_view_module_version": "1.2.0",
            "_view_name": "StyleView",
            "description_width": ""
          }
        },
        "13b5916d93794e30b727b5487607bebe": {
          "model_module": "@jupyter-widgets/base",
          "model_module_version": "1.2.0",
          "model_name": "LayoutModel",
          "state": {
            "_model_module": "@jupyter-widgets/base",
            "_model_module_version": "1.2.0",
            "_model_name": "LayoutModel",
            "_view_count": null,
            "_view_module": "@jupyter-widgets/base",
            "_view_module_version": "1.2.0",
            "_view_name": "LayoutView",
            "align_content": null,
            "align_items": null,
            "align_self": null,
            "border": null,
            "bottom": null,
            "display": null,
            "flex": null,
            "flex_flow": null,
            "grid_area": null,
            "grid_auto_columns": null,
            "grid_auto_flow": null,
            "grid_auto_rows": null,
            "grid_column": null,
            "grid_gap": null,
            "grid_row": null,
            "grid_template_areas": null,
            "grid_template_columns": null,
            "grid_template_rows": null,
            "height": null,
            "justify_content": null,
            "justify_items": null,
            "left": null,
            "margin": null,
            "max_height": null,
            "max_width": null,
            "min_height": null,
            "min_width": null,
            "object_fit": null,
            "object_position": null,
            "order": null,
            "overflow": null,
            "overflow_x": null,
            "overflow_y": null,
            "padding": null,
            "right": null,
            "top": null,
            "visibility": null,
            "width": null
          }
        },
        "16128394261e4f3bbeecb4c560f351e3": {
          "model_module": "@jupyter-widgets/controls",
          "model_module_version": "1.5.0",
          "model_name": "ProgressStyleModel",
          "state": {
            "_model_module": "@jupyter-widgets/controls",
            "_model_module_version": "1.5.0",
            "_model_name": "ProgressStyleModel",
            "_view_count": null,
            "_view_module": "@jupyter-widgets/base",
            "_view_module_version": "1.2.0",
            "_view_name": "StyleView",
            "bar_color": null,
            "description_width": ""
          }
        },
        "1a31e107342d40e9aab99d8b02fc5878": {
          "model_module": "@jupyter-widgets/controls",
          "model_module_version": "1.5.0",
          "model_name": "DescriptionStyleModel",
          "state": {
            "_model_module": "@jupyter-widgets/controls",
            "_model_module_version": "1.5.0",
            "_model_name": "DescriptionStyleModel",
            "_view_count": null,
            "_view_module": "@jupyter-widgets/base",
            "_view_module_version": "1.2.0",
            "_view_name": "StyleView",
            "description_width": ""
          }
        },
        "202d02e60ac442dca950b5932e51f878": {
          "model_module": "@jupyter-widgets/controls",
          "model_module_version": "1.5.0",
          "model_name": "ProgressStyleModel",
          "state": {
            "_model_module": "@jupyter-widgets/controls",
            "_model_module_version": "1.5.0",
            "_model_name": "ProgressStyleModel",
            "_view_count": null,
            "_view_module": "@jupyter-widgets/base",
            "_view_module_version": "1.2.0",
            "_view_name": "StyleView",
            "bar_color": null,
            "description_width": ""
          }
        },
        "21bdf433b62441eda1acaac3baaa68de": {
          "model_module": "@jupyter-widgets/controls",
          "model_module_version": "1.5.0",
          "model_name": "HTMLModel",
          "state": {
            "_dom_classes": [],
            "_model_module": "@jupyter-widgets/controls",
            "_model_module_version": "1.5.0",
            "_model_name": "HTMLModel",
            "_view_count": null,
            "_view_module": "@jupyter-widgets/controls",
            "_view_module_version": "1.5.0",
            "_view_name": "HTMLView",
            "description": "",
            "description_tooltip": null,
            "layout": "IPY_MODEL_bdaade8c79284d8fb1a95edcb6ba4257",
            "placeholder": "​",
            "style": "IPY_MODEL_44dc83f778e24858b8e233153c82e4d7",
            "value": " 28.2M/28.2M [00:00&lt;00:00, 53.6MB/s]"
          }
        },
        "226c61e9d3834d668334d2d3a283c0e2": {
          "model_module": "@jupyter-widgets/base",
          "model_module_version": "1.2.0",
          "model_name": "LayoutModel",
          "state": {
            "_model_module": "@jupyter-widgets/base",
            "_model_module_version": "1.2.0",
            "_model_name": "LayoutModel",
            "_view_count": null,
            "_view_module": "@jupyter-widgets/base",
            "_view_module_version": "1.2.0",
            "_view_name": "LayoutView",
            "align_content": null,
            "align_items": null,
            "align_self": null,
            "border": null,
            "bottom": null,
            "display": null,
            "flex": null,
            "flex_flow": null,
            "grid_area": null,
            "grid_auto_columns": null,
            "grid_auto_flow": null,
            "grid_auto_rows": null,
            "grid_column": null,
            "grid_gap": null,
            "grid_row": null,
            "grid_template_areas": null,
            "grid_template_columns": null,
            "grid_template_rows": null,
            "height": null,
            "justify_content": null,
            "justify_items": null,
            "left": null,
            "margin": null,
            "max_height": null,
            "max_width": null,
            "min_height": null,
            "min_width": null,
            "object_fit": null,
            "object_position": null,
            "order": null,
            "overflow": null,
            "overflow_x": null,
            "overflow_y": null,
            "padding": null,
            "right": null,
            "top": null,
            "visibility": null,
            "width": null
          }
        },
        "24237d248dc445deb31ecd75683291bc": {
          "model_module": "@jupyter-widgets/controls",
          "model_module_version": "1.5.0",
          "model_name": "DescriptionStyleModel",
          "state": {
            "_model_module": "@jupyter-widgets/controls",
            "_model_module_version": "1.5.0",
            "_model_name": "DescriptionStyleModel",
            "_view_count": null,
            "_view_module": "@jupyter-widgets/base",
            "_view_module_version": "1.2.0",
            "_view_name": "StyleView",
            "description_width": ""
          }
        },
        "25c446764f3a490dac4ce4130dc84882": {
          "model_module": "@jupyter-widgets/base",
          "model_module_version": "1.2.0",
          "model_name": "LayoutModel",
          "state": {
            "_model_module": "@jupyter-widgets/base",
            "_model_module_version": "1.2.0",
            "_model_name": "LayoutModel",
            "_view_count": null,
            "_view_module": "@jupyter-widgets/base",
            "_view_module_version": "1.2.0",
            "_view_name": "LayoutView",
            "align_content": null,
            "align_items": null,
            "align_self": null,
            "border": null,
            "bottom": null,
            "display": null,
            "flex": null,
            "flex_flow": null,
            "grid_area": null,
            "grid_auto_columns": null,
            "grid_auto_flow": null,
            "grid_auto_rows": null,
            "grid_column": null,
            "grid_gap": null,
            "grid_row": null,
            "grid_template_areas": null,
            "grid_template_columns": null,
            "grid_template_rows": null,
            "height": null,
            "justify_content": null,
            "justify_items": null,
            "left": null,
            "margin": null,
            "max_height": null,
            "max_width": null,
            "min_height": null,
            "min_width": null,
            "object_fit": null,
            "object_position": null,
            "order": null,
            "overflow": null,
            "overflow_x": null,
            "overflow_y": null,
            "padding": null,
            "right": null,
            "top": null,
            "visibility": null,
            "width": null
          }
        },
        "27a63b357720402aac20544416571e3d": {
          "model_module": "@jupyter-widgets/controls",
          "model_module_version": "1.5.0",
          "model_name": "HTMLModel",
          "state": {
            "_dom_classes": [],
            "_model_module": "@jupyter-widgets/controls",
            "_model_module_version": "1.5.0",
            "_model_name": "HTMLModel",
            "_view_count": null,
            "_view_module": "@jupyter-widgets/controls",
            "_view_module_version": "1.5.0",
            "_view_name": "HTMLView",
            "description": "",
            "description_tooltip": null,
            "layout": "IPY_MODEL_b7f7fa38e687481d9cc0669a6e6c350d",
            "placeholder": "​",
            "style": "IPY_MODEL_90f3e58810df401eac27eb710caf96c6",
            "value": "Downloading sentencepiece.bpe.model: 100%"
          }
        },
        "2bb171b56637457d998ec774b516e101": {
          "model_module": "@jupyter-widgets/controls",
          "model_module_version": "1.5.0",
          "model_name": "ProgressStyleModel",
          "state": {
            "_model_module": "@jupyter-widgets/controls",
            "_model_module_version": "1.5.0",
            "_model_name": "ProgressStyleModel",
            "_view_count": null,
            "_view_module": "@jupyter-widgets/base",
            "_view_module_version": "1.2.0",
            "_view_name": "StyleView",
            "bar_color": null,
            "description_width": ""
          }
        },
        "2c17827ab3234e7f84a0a71bc5ac07ff": {
          "model_module": "@jupyter-widgets/controls",
          "model_module_version": "1.5.0",
          "model_name": "HTMLModel",
          "state": {
            "_dom_classes": [],
            "_model_module": "@jupyter-widgets/controls",
            "_model_module_version": "1.5.0",
            "_model_name": "HTMLModel",
            "_view_count": null,
            "_view_module": "@jupyter-widgets/controls",
            "_view_module_version": "1.5.0",
            "_view_name": "HTMLView",
            "description": "",
            "description_tooltip": null,
            "layout": "IPY_MODEL_f9af4d412f27451fafb550974f3412a0",
            "placeholder": "​",
            "style": "IPY_MODEL_8c3ff31110984abb8ebee1822cb57a50",
            "value": " 615/615 [00:00&lt;00:00, 5.53kB/s]"
          }
        },
        "30be76ca8c0949b7b645b6c36a31be9d": {
          "model_module": "@jupyter-widgets/base",
          "model_module_version": "1.2.0",
          "model_name": "LayoutModel",
          "state": {
            "_model_module": "@jupyter-widgets/base",
            "_model_module_version": "1.2.0",
            "_model_name": "LayoutModel",
            "_view_count": null,
            "_view_module": "@jupyter-widgets/base",
            "_view_module_version": "1.2.0",
            "_view_name": "LayoutView",
            "align_content": null,
            "align_items": null,
            "align_self": null,
            "border": null,
            "bottom": null,
            "display": null,
            "flex": null,
            "flex_flow": null,
            "grid_area": null,
            "grid_auto_columns": null,
            "grid_auto_flow": null,
            "grid_auto_rows": null,
            "grid_column": null,
            "grid_gap": null,
            "grid_row": null,
            "grid_template_areas": null,
            "grid_template_columns": null,
            "grid_template_rows": null,
            "height": null,
            "justify_content": null,
            "justify_items": null,
            "left": null,
            "margin": null,
            "max_height": null,
            "max_width": null,
            "min_height": null,
            "min_width": null,
            "object_fit": null,
            "object_position": null,
            "order": null,
            "overflow": null,
            "overflow_x": null,
            "overflow_y": null,
            "padding": null,
            "right": null,
            "top": null,
            "visibility": null,
            "width": null
          }
        },
        "31d9c671ec064429b11933f454b1b006": {
          "model_module": "@jupyter-widgets/controls",
          "model_module_version": "1.5.0",
          "model_name": "HTMLModel",
          "state": {
            "_dom_classes": [],
            "_model_module": "@jupyter-widgets/controls",
            "_model_module_version": "1.5.0",
            "_model_name": "HTMLModel",
            "_view_count": null,
            "_view_module": "@jupyter-widgets/controls",
            "_view_module_version": "1.5.0",
            "_view_name": "HTMLView",
            "description": "",
            "description_tooltip": null,
            "layout": "IPY_MODEL_481b3307bfc2433b8ee04388a6a5fabc",
            "placeholder": "​",
            "style": "IPY_MODEL_a93e746911964af48c428a8a85c48b9c",
            "value": " 21/21 [00:09&lt;00:00,  2.70ba/s]"
          }
        },
        "345210309dad4142bd4377274630c2c0": {
          "model_module": "@jupyter-widgets/base",
          "model_module_version": "1.2.0",
          "model_name": "LayoutModel",
          "state": {
            "_model_module": "@jupyter-widgets/base",
            "_model_module_version": "1.2.0",
            "_model_name": "LayoutModel",
            "_view_count": null,
            "_view_module": "@jupyter-widgets/base",
            "_view_module_version": "1.2.0",
            "_view_name": "LayoutView",
            "align_content": null,
            "align_items": null,
            "align_self": null,
            "border": null,
            "bottom": null,
            "display": null,
            "flex": null,
            "flex_flow": null,
            "grid_area": null,
            "grid_auto_columns": null,
            "grid_auto_flow": null,
            "grid_auto_rows": null,
            "grid_column": null,
            "grid_gap": null,
            "grid_row": null,
            "grid_template_areas": null,
            "grid_template_columns": null,
            "grid_template_rows": null,
            "height": null,
            "justify_content": null,
            "justify_items": null,
            "left": null,
            "margin": null,
            "max_height": null,
            "max_width": null,
            "min_height": null,
            "min_width": null,
            "object_fit": null,
            "object_position": null,
            "order": null,
            "overflow": null,
            "overflow_x": null,
            "overflow_y": null,
            "padding": null,
            "right": null,
            "top": null,
            "visibility": null,
            "width": null
          }
        },
        "355f674b197e44eaa0ce1d148b51846b": {
          "model_module": "@jupyter-widgets/controls",
          "model_module_version": "1.5.0",
          "model_name": "HBoxModel",
          "state": {
            "_dom_classes": [],
            "_model_module": "@jupyter-widgets/controls",
            "_model_module_version": "1.5.0",
            "_model_name": "HBoxModel",
            "_view_count": null,
            "_view_module": "@jupyter-widgets/controls",
            "_view_module_version": "1.5.0",
            "_view_name": "HBoxView",
            "box_style": "",
            "children": [
              "IPY_MODEL_880415bf11604d7b8cdd08f767035675",
              "IPY_MODEL_b65c8484c30049f283dc301b3bcfe98a",
              "IPY_MODEL_4cf9dce358534822a78bddee0da16719"
            ],
            "layout": "IPY_MODEL_f6fad8fb8be44a8a841b4577684856ce"
          }
        },
        "35b2d65b3de74ba087777e6774da02bd": {
          "model_module": "@jupyter-widgets/base",
          "model_module_version": "1.2.0",
          "model_name": "LayoutModel",
          "state": {
            "_model_module": "@jupyter-widgets/base",
            "_model_module_version": "1.2.0",
            "_model_name": "LayoutModel",
            "_view_count": null,
            "_view_module": "@jupyter-widgets/base",
            "_view_module_version": "1.2.0",
            "_view_name": "LayoutView",
            "align_content": null,
            "align_items": null,
            "align_self": null,
            "border": null,
            "bottom": null,
            "display": null,
            "flex": null,
            "flex_flow": null,
            "grid_area": null,
            "grid_auto_columns": null,
            "grid_auto_flow": null,
            "grid_auto_rows": null,
            "grid_column": null,
            "grid_gap": null,
            "grid_row": null,
            "grid_template_areas": null,
            "grid_template_columns": null,
            "grid_template_rows": null,
            "height": null,
            "justify_content": null,
            "justify_items": null,
            "left": null,
            "margin": null,
            "max_height": null,
            "max_width": null,
            "min_height": null,
            "min_width": null,
            "object_fit": null,
            "object_position": null,
            "order": null,
            "overflow": null,
            "overflow_x": null,
            "overflow_y": null,
            "padding": null,
            "right": null,
            "top": null,
            "visibility": null,
            "width": null
          }
        },
        "3f18e0da420c4b71abbb5325e7fe2820": {
          "model_module": "@jupyter-widgets/controls",
          "model_module_version": "1.5.0",
          "model_name": "FloatProgressModel",
          "state": {
            "_dom_classes": [],
            "_model_module": "@jupyter-widgets/controls",
            "_model_module_version": "1.5.0",
            "_model_name": "FloatProgressModel",
            "_view_count": null,
            "_view_module": "@jupyter-widgets/controls",
            "_view_module_version": "1.5.0",
            "_view_name": "ProgressView",
            "bar_style": "success",
            "description": "",
            "description_tooltip": null,
            "layout": "IPY_MODEL_35b2d65b3de74ba087777e6774da02bd",
            "max": 5069051,
            "min": 0,
            "orientation": "horizontal",
            "style": "IPY_MODEL_202d02e60ac442dca950b5932e51f878",
            "value": 5069051
          }
        },
        "44dc83f778e24858b8e233153c82e4d7": {
          "model_module": "@jupyter-widgets/controls",
          "model_module_version": "1.5.0",
          "model_name": "DescriptionStyleModel",
          "state": {
            "_model_module": "@jupyter-widgets/controls",
            "_model_module_version": "1.5.0",
            "_model_name": "DescriptionStyleModel",
            "_view_count": null,
            "_view_module": "@jupyter-widgets/base",
            "_view_module_version": "1.2.0",
            "_view_name": "StyleView",
            "description_width": ""
          }
        },
        "481b3307bfc2433b8ee04388a6a5fabc": {
          "model_module": "@jupyter-widgets/base",
          "model_module_version": "1.2.0",
          "model_name": "LayoutModel",
          "state": {
            "_model_module": "@jupyter-widgets/base",
            "_model_module_version": "1.2.0",
            "_model_name": "LayoutModel",
            "_view_count": null,
            "_view_module": "@jupyter-widgets/base",
            "_view_module_version": "1.2.0",
            "_view_name": "LayoutView",
            "align_content": null,
            "align_items": null,
            "align_self": null,
            "border": null,
            "bottom": null,
            "display": null,
            "flex": null,
            "flex_flow": null,
            "grid_area": null,
            "grid_auto_columns": null,
            "grid_auto_flow": null,
            "grid_auto_rows": null,
            "grid_column": null,
            "grid_gap": null,
            "grid_row": null,
            "grid_template_areas": null,
            "grid_template_columns": null,
            "grid_template_rows": null,
            "height": null,
            "justify_content": null,
            "justify_items": null,
            "left": null,
            "margin": null,
            "max_height": null,
            "max_width": null,
            "min_height": null,
            "min_width": null,
            "object_fit": null,
            "object_position": null,
            "order": null,
            "overflow": null,
            "overflow_x": null,
            "overflow_y": null,
            "padding": null,
            "right": null,
            "top": null,
            "visibility": null,
            "width": null
          }
        },
        "4cf9dce358534822a78bddee0da16719": {
          "model_module": "@jupyter-widgets/controls",
          "model_module_version": "1.5.0",
          "model_name": "HTMLModel",
          "state": {
            "_dom_classes": [],
            "_model_module": "@jupyter-widgets/controls",
            "_model_module_version": "1.5.0",
            "_model_name": "HTMLModel",
            "_view_count": null,
            "_view_module": "@jupyter-widgets/controls",
            "_view_module_version": "1.5.0",
            "_view_name": "HTMLView",
            "description": "",
            "description_tooltip": null,
            "layout": "IPY_MODEL_82a4e7c61ca246af9c12e6d3f288d289",
            "placeholder": "​",
            "style": "IPY_MODEL_54b185fcd1594edfb5e1a838be6a168b",
            "value": " 1.04G/1.04G [00:58&lt;00:00, 19.7MB/s]"
          }
        },
        "4d65ef4c73b5445aa662daed1ef4321b": {
          "model_module": "@jupyter-widgets/controls",
          "model_module_version": "1.5.0",
          "model_name": "ProgressStyleModel",
          "state": {
            "_model_module": "@jupyter-widgets/controls",
            "_model_module_version": "1.5.0",
            "_model_name": "ProgressStyleModel",
            "_view_count": null,
            "_view_module": "@jupyter-widgets/base",
            "_view_module_version": "1.2.0",
            "_view_name": "StyleView",
            "bar_color": null,
            "description_width": ""
          }
        },
        "52d342216fa04167889a4ef051c7235d": {
          "model_module": "@jupyter-widgets/controls",
          "model_module_version": "1.5.0",
          "model_name": "FloatProgressModel",
          "state": {
            "_dom_classes": [],
            "_model_module": "@jupyter-widgets/controls",
            "_model_module_version": "1.5.0",
            "_model_name": "FloatProgressModel",
            "_view_count": null,
            "_view_module": "@jupyter-widgets/controls",
            "_view_module_version": "1.5.0",
            "_view_name": "ProgressView",
            "bar_style": "success",
            "description": "",
            "description_tooltip": null,
            "layout": "IPY_MODEL_8559e7f229174ad5becc9eb8c1e7e0a5",
            "max": 609,
            "min": 0,
            "orientation": "horizontal",
            "style": "IPY_MODEL_4d65ef4c73b5445aa662daed1ef4321b",
            "value": 609
          }
        },
        "54b185fcd1594edfb5e1a838be6a168b": {
          "model_module": "@jupyter-widgets/controls",
          "model_module_version": "1.5.0",
          "model_name": "DescriptionStyleModel",
          "state": {
            "_model_module": "@jupyter-widgets/controls",
            "_model_module_version": "1.5.0",
            "_model_name": "DescriptionStyleModel",
            "_view_count": null,
            "_view_module": "@jupyter-widgets/base",
            "_view_module_version": "1.2.0",
            "_view_name": "StyleView",
            "description_width": ""
          }
        },
        "5798ac7e6ed148109d311821622064c8": {
          "model_module": "@jupyter-widgets/controls",
          "model_module_version": "1.5.0",
          "model_name": "FloatProgressModel",
          "state": {
            "_dom_classes": [],
            "_model_module": "@jupyter-widgets/controls",
            "_model_module_version": "1.5.0",
            "_model_name": "FloatProgressModel",
            "_view_count": null,
            "_view_module": "@jupyter-widgets/controls",
            "_view_module_version": "1.5.0",
            "_view_name": "ProgressView",
            "bar_style": "success",
            "description": "",
            "description_tooltip": null,
            "layout": "IPY_MODEL_30be76ca8c0949b7b645b6c36a31be9d",
            "max": 29562325,
            "min": 0,
            "orientation": "horizontal",
            "style": "IPY_MODEL_16128394261e4f3bbeecb4c560f351e3",
            "value": 29562325
          }
        },
        "5c809c3a078847c2a4499929829560fb": {
          "model_module": "@jupyter-widgets/controls",
          "model_module_version": "1.5.0",
          "model_name": "DescriptionStyleModel",
          "state": {
            "_model_module": "@jupyter-widgets/controls",
            "_model_module_version": "1.5.0",
            "_model_name": "DescriptionStyleModel",
            "_view_count": null,
            "_view_module": "@jupyter-widgets/base",
            "_view_module_version": "1.2.0",
            "_view_name": "StyleView",
            "description_width": ""
          }
        },
        "63fc24f3b7e8452f8855de5c4f6c12e8": {
          "model_module": "@jupyter-widgets/controls",
          "model_module_version": "1.5.0",
          "model_name": "HTMLModel",
          "state": {
            "_dom_classes": [],
            "_model_module": "@jupyter-widgets/controls",
            "_model_module_version": "1.5.0",
            "_model_name": "HTMLModel",
            "_view_count": null,
            "_view_module": "@jupyter-widgets/controls",
            "_view_module_version": "1.5.0",
            "_view_name": "HTMLView",
            "description": "",
            "description_tooltip": null,
            "layout": "IPY_MODEL_9d2fd36cc047421f9b69ae32274b52e7",
            "placeholder": "​",
            "style": "IPY_MODEL_97e541fb2f0d4df8aba61c61eded3e41",
            "value": "Downloading config.json: 100%"
          }
        },
        "660709a487aa4a8c9af64c429577bb94": {
          "model_module": "@jupyter-widgets/controls",
          "model_module_version": "1.5.0",
          "model_name": "HTMLModel",
          "state": {
            "_dom_classes": [],
            "_model_module": "@jupyter-widgets/controls",
            "_model_module_version": "1.5.0",
            "_model_name": "HTMLModel",
            "_view_count": null,
            "_view_module": "@jupyter-widgets/controls",
            "_view_module_version": "1.5.0",
            "_view_name": "HTMLView",
            "description": "",
            "description_tooltip": null,
            "layout": "IPY_MODEL_eefd2f4bf22b4dd7bd5a8a4ee42adb30",
            "placeholder": "​",
            "style": "IPY_MODEL_67ec6cb33bad49e996218fed533af995",
            "value": " 81/81 [00:39&lt;00:00,  2.18ba/s]"
          }
        },
        "67ec6cb33bad49e996218fed533af995": {
          "model_module": "@jupyter-widgets/controls",
          "model_module_version": "1.5.0",
          "model_name": "DescriptionStyleModel",
          "state": {
            "_model_module": "@jupyter-widgets/controls",
            "_model_module_version": "1.5.0",
            "_model_name": "DescriptionStyleModel",
            "_view_count": null,
            "_view_module": "@jupyter-widgets/base",
            "_view_module_version": "1.2.0",
            "_view_name": "StyleView",
            "description_width": ""
          }
        },
        "69042f9111ee4f838d613e34cbd5b15b": {
          "model_module": "@jupyter-widgets/controls",
          "model_module_version": "1.5.0",
          "model_name": "FloatProgressModel",
          "state": {
            "_dom_classes": [],
            "_model_module": "@jupyter-widgets/controls",
            "_model_module_version": "1.5.0",
            "_model_name": "FloatProgressModel",
            "_view_count": null,
            "_view_module": "@jupyter-widgets/controls",
            "_view_module_version": "1.5.0",
            "_view_name": "ProgressView",
            "bar_style": "success",
            "description": "",
            "description_tooltip": null,
            "layout": "IPY_MODEL_cd8d8e4fbe4445a694f432fc3a31cb70",
            "max": 615,
            "min": 0,
            "orientation": "horizontal",
            "style": "IPY_MODEL_7d2d0b6a654e43728e2875cb859a1b35",
            "value": 615
          }
        },
        "690ca96729b94e468f77aa9814b1b19a": {
          "model_module": "@jupyter-widgets/controls",
          "model_module_version": "1.5.0",
          "model_name": "HBoxModel",
          "state": {
            "_dom_classes": [],
            "_model_module": "@jupyter-widgets/controls",
            "_model_module_version": "1.5.0",
            "_model_name": "HBoxModel",
            "_view_count": null,
            "_view_module": "@jupyter-widgets/controls",
            "_view_module_version": "1.5.0",
            "_view_name": "HBoxView",
            "box_style": "",
            "children": [
              "IPY_MODEL_ca51364f329f4b59bd7dfb4538a234e3",
              "IPY_MODEL_bc2b10c9c8a540119ba0dabfc7aa21a1",
              "IPY_MODEL_03771298ea704995a37f81eb493ad237"
            ],
            "layout": "IPY_MODEL_25c446764f3a490dac4ce4130dc84882"
          }
        },
        "6b1c49f3823e4841b52a5955d71f1a3d": {
          "model_module": "@jupyter-widgets/controls",
          "model_module_version": "1.5.0",
          "model_name": "HBoxModel",
          "state": {
            "_dom_classes": [],
            "_model_module": "@jupyter-widgets/controls",
            "_model_module_version": "1.5.0",
            "_model_name": "HBoxModel",
            "_view_count": null,
            "_view_module": "@jupyter-widgets/controls",
            "_view_module_version": "1.5.0",
            "_view_name": "HBoxView",
            "box_style": "",
            "children": [
              "IPY_MODEL_27a63b357720402aac20544416571e3d",
              "IPY_MODEL_3f18e0da420c4b71abbb5325e7fe2820",
              "IPY_MODEL_a97b3aed9f354e7ca83ee805c7c9f4ad"
            ],
            "layout": "IPY_MODEL_e9eeddbb95de4c4c87e2d6c2a95046a0"
          }
        },
        "6dce3c194837462981601ca09275b9ad": {
          "model_module": "@jupyter-widgets/controls",
          "model_module_version": "1.5.0",
          "model_name": "HTMLModel",
          "state": {
            "_dom_classes": [],
            "_model_module": "@jupyter-widgets/controls",
            "_model_module_version": "1.5.0",
            "_model_name": "HTMLModel",
            "_view_count": null,
            "_view_module": "@jupyter-widgets/controls",
            "_view_module_version": "1.5.0",
            "_view_name": "HTMLView",
            "description": "",
            "description_tooltip": null,
            "layout": "IPY_MODEL_af45528f2a014d3e925256acca4ada63",
            "placeholder": "​",
            "style": "IPY_MODEL_1a31e107342d40e9aab99d8b02fc5878",
            "value": "100%"
          }
        },
        "7d2d0b6a654e43728e2875cb859a1b35": {
          "model_module": "@jupyter-widgets/controls",
          "model_module_version": "1.5.0",
          "model_name": "ProgressStyleModel",
          "state": {
            "_model_module": "@jupyter-widgets/controls",
            "_model_module_version": "1.5.0",
            "_model_name": "ProgressStyleModel",
            "_view_count": null,
            "_view_module": "@jupyter-widgets/base",
            "_view_module_version": "1.2.0",
            "_view_name": "StyleView",
            "bar_color": null,
            "description_width": ""
          }
        },
        "7d9666d2f15d4e50823fdab9b950f416": {
          "model_module": "@jupyter-widgets/controls",
          "model_module_version": "1.5.0",
          "model_name": "FloatProgressModel",
          "state": {
            "_dom_classes": [],
            "_model_module": "@jupyter-widgets/controls",
            "_model_module_version": "1.5.0",
            "_model_name": "FloatProgressModel",
            "_view_count": null,
            "_view_module": "@jupyter-widgets/controls",
            "_view_module_version": "1.5.0",
            "_view_name": "ProgressView",
            "bar_style": "success",
            "description": "",
            "description_tooltip": null,
            "layout": "IPY_MODEL_13b5916d93794e30b727b5487607bebe",
            "max": 81,
            "min": 0,
            "orientation": "horizontal",
            "style": "IPY_MODEL_a1faa7e81aa5435bbfbab114298e1aa4",
            "value": 81
          }
        },
        "7ebb47680a6c4a24ae94b633cdd203e6": {
          "model_module": "@jupyter-widgets/base",
          "model_module_version": "1.2.0",
          "model_name": "LayoutModel",
          "state": {
            "_model_module": "@jupyter-widgets/base",
            "_model_module_version": "1.2.0",
            "_model_name": "LayoutModel",
            "_view_count": null,
            "_view_module": "@jupyter-widgets/base",
            "_view_module_version": "1.2.0",
            "_view_name": "LayoutView",
            "align_content": null,
            "align_items": null,
            "align_self": null,
            "border": null,
            "bottom": null,
            "display": null,
            "flex": null,
            "flex_flow": null,
            "grid_area": null,
            "grid_auto_columns": null,
            "grid_auto_flow": null,
            "grid_auto_rows": null,
            "grid_column": null,
            "grid_gap": null,
            "grid_row": null,
            "grid_template_areas": null,
            "grid_template_columns": null,
            "grid_template_rows": null,
            "height": null,
            "justify_content": null,
            "justify_items": null,
            "left": null,
            "margin": null,
            "max_height": null,
            "max_width": null,
            "min_height": null,
            "min_width": null,
            "object_fit": null,
            "object_position": null,
            "order": null,
            "overflow": null,
            "overflow_x": null,
            "overflow_y": null,
            "padding": null,
            "right": null,
            "top": null,
            "visibility": null,
            "width": null
          }
        },
        "82a4e7c61ca246af9c12e6d3f288d289": {
          "model_module": "@jupyter-widgets/base",
          "model_module_version": "1.2.0",
          "model_name": "LayoutModel",
          "state": {
            "_model_module": "@jupyter-widgets/base",
            "_model_module_version": "1.2.0",
            "_model_name": "LayoutModel",
            "_view_count": null,
            "_view_module": "@jupyter-widgets/base",
            "_view_module_version": "1.2.0",
            "_view_name": "LayoutView",
            "align_content": null,
            "align_items": null,
            "align_self": null,
            "border": null,
            "bottom": null,
            "display": null,
            "flex": null,
            "flex_flow": null,
            "grid_area": null,
            "grid_auto_columns": null,
            "grid_auto_flow": null,
            "grid_auto_rows": null,
            "grid_column": null,
            "grid_gap": null,
            "grid_row": null,
            "grid_template_areas": null,
            "grid_template_columns": null,
            "grid_template_rows": null,
            "height": null,
            "justify_content": null,
            "justify_items": null,
            "left": null,
            "margin": null,
            "max_height": null,
            "max_width": null,
            "min_height": null,
            "min_width": null,
            "object_fit": null,
            "object_position": null,
            "order": null,
            "overflow": null,
            "overflow_x": null,
            "overflow_y": null,
            "padding": null,
            "right": null,
            "top": null,
            "visibility": null,
            "width": null
          }
        },
        "84dc804170cb4dd89cfb7a7b33de0de8": {
          "model_module": "@jupyter-widgets/base",
          "model_module_version": "1.2.0",
          "model_name": "LayoutModel",
          "state": {
            "_model_module": "@jupyter-widgets/base",
            "_model_module_version": "1.2.0",
            "_model_name": "LayoutModel",
            "_view_count": null,
            "_view_module": "@jupyter-widgets/base",
            "_view_module_version": "1.2.0",
            "_view_name": "LayoutView",
            "align_content": null,
            "align_items": null,
            "align_self": null,
            "border": null,
            "bottom": null,
            "display": null,
            "flex": null,
            "flex_flow": null,
            "grid_area": null,
            "grid_auto_columns": null,
            "grid_auto_flow": null,
            "grid_auto_rows": null,
            "grid_column": null,
            "grid_gap": null,
            "grid_row": null,
            "grid_template_areas": null,
            "grid_template_columns": null,
            "grid_template_rows": null,
            "height": null,
            "justify_content": null,
            "justify_items": null,
            "left": null,
            "margin": null,
            "max_height": null,
            "max_width": null,
            "min_height": null,
            "min_width": null,
            "object_fit": null,
            "object_position": null,
            "order": null,
            "overflow": null,
            "overflow_x": null,
            "overflow_y": null,
            "padding": null,
            "right": null,
            "top": null,
            "visibility": null,
            "width": null
          }
        },
        "8559e7f229174ad5becc9eb8c1e7e0a5": {
          "model_module": "@jupyter-widgets/base",
          "model_module_version": "1.2.0",
          "model_name": "LayoutModel",
          "state": {
            "_model_module": "@jupyter-widgets/base",
            "_model_module_version": "1.2.0",
            "_model_name": "LayoutModel",
            "_view_count": null,
            "_view_module": "@jupyter-widgets/base",
            "_view_module_version": "1.2.0",
            "_view_name": "LayoutView",
            "align_content": null,
            "align_items": null,
            "align_self": null,
            "border": null,
            "bottom": null,
            "display": null,
            "flex": null,
            "flex_flow": null,
            "grid_area": null,
            "grid_auto_columns": null,
            "grid_auto_flow": null,
            "grid_auto_rows": null,
            "grid_column": null,
            "grid_gap": null,
            "grid_row": null,
            "grid_template_areas": null,
            "grid_template_columns": null,
            "grid_template_rows": null,
            "height": null,
            "justify_content": null,
            "justify_items": null,
            "left": null,
            "margin": null,
            "max_height": null,
            "max_width": null,
            "min_height": null,
            "min_width": null,
            "object_fit": null,
            "object_position": null,
            "order": null,
            "overflow": null,
            "overflow_x": null,
            "overflow_y": null,
            "padding": null,
            "right": null,
            "top": null,
            "visibility": null,
            "width": null
          }
        },
        "880415bf11604d7b8cdd08f767035675": {
          "model_module": "@jupyter-widgets/controls",
          "model_module_version": "1.5.0",
          "model_name": "HTMLModel",
          "state": {
            "_dom_classes": [],
            "_model_module": "@jupyter-widgets/controls",
            "_model_module_version": "1.5.0",
            "_model_name": "HTMLModel",
            "_view_count": null,
            "_view_module": "@jupyter-widgets/controls",
            "_view_module_version": "1.5.0",
            "_view_name": "HTMLView",
            "description": "",
            "description_tooltip": null,
            "layout": "IPY_MODEL_8eeec213098c4cc4ac27ebe2ef87cd94",
            "placeholder": "​",
            "style": "IPY_MODEL_10a1a14dcfd54f60af650daad29656fa",
            "value": "Downloading pytorch_model.bin: 100%"
          }
        },
        "891fc8adfef64294b121a1f151dc2c41": {
          "model_module": "@jupyter-widgets/controls",
          "model_module_version": "1.5.0",
          "model_name": "HTMLModel",
          "state": {
            "_dom_classes": [],
            "_model_module": "@jupyter-widgets/controls",
            "_model_module_version": "1.5.0",
            "_model_name": "HTMLModel",
            "_view_count": null,
            "_view_module": "@jupyter-widgets/controls",
            "_view_module_version": "1.5.0",
            "_view_name": "HTMLView",
            "description": "",
            "description_tooltip": null,
            "layout": "IPY_MODEL_226c61e9d3834d668334d2d3a283c0e2",
            "placeholder": "​",
            "style": "IPY_MODEL_24237d248dc445deb31ecd75683291bc",
            "value": "100%"
          }
        },
        "8b716dc8745b4db98309d4924690eba1": {
          "model_module": "@jupyter-widgets/base",
          "model_module_version": "1.2.0",
          "model_name": "LayoutModel",
          "state": {
            "_model_module": "@jupyter-widgets/base",
            "_model_module_version": "1.2.0",
            "_model_name": "LayoutModel",
            "_view_count": null,
            "_view_module": "@jupyter-widgets/base",
            "_view_module_version": "1.2.0",
            "_view_name": "LayoutView",
            "align_content": null,
            "align_items": null,
            "align_self": null,
            "border": null,
            "bottom": null,
            "display": null,
            "flex": null,
            "flex_flow": null,
            "grid_area": null,
            "grid_auto_columns": null,
            "grid_auto_flow": null,
            "grid_auto_rows": null,
            "grid_column": null,
            "grid_gap": null,
            "grid_row": null,
            "grid_template_areas": null,
            "grid_template_columns": null,
            "grid_template_rows": null,
            "height": null,
            "justify_content": null,
            "justify_items": null,
            "left": null,
            "margin": null,
            "max_height": null,
            "max_width": null,
            "min_height": null,
            "min_width": null,
            "object_fit": null,
            "object_position": null,
            "order": null,
            "overflow": null,
            "overflow_x": null,
            "overflow_y": null,
            "padding": null,
            "right": null,
            "top": null,
            "visibility": null,
            "width": null
          }
        },
        "8c3ff31110984abb8ebee1822cb57a50": {
          "model_module": "@jupyter-widgets/controls",
          "model_module_version": "1.5.0",
          "model_name": "DescriptionStyleModel",
          "state": {
            "_model_module": "@jupyter-widgets/controls",
            "_model_module_version": "1.5.0",
            "_model_name": "DescriptionStyleModel",
            "_view_count": null,
            "_view_module": "@jupyter-widgets/base",
            "_view_module_version": "1.2.0",
            "_view_name": "StyleView",
            "description_width": ""
          }
        },
        "8e10df02746e44f1b66309f747886b84": {
          "model_module": "@jupyter-widgets/controls",
          "model_module_version": "1.5.0",
          "model_name": "DescriptionStyleModel",
          "state": {
            "_model_module": "@jupyter-widgets/controls",
            "_model_module_version": "1.5.0",
            "_model_name": "DescriptionStyleModel",
            "_view_count": null,
            "_view_module": "@jupyter-widgets/base",
            "_view_module_version": "1.2.0",
            "_view_name": "StyleView",
            "description_width": ""
          }
        },
        "8eeec213098c4cc4ac27ebe2ef87cd94": {
          "model_module": "@jupyter-widgets/base",
          "model_module_version": "1.2.0",
          "model_name": "LayoutModel",
          "state": {
            "_model_module": "@jupyter-widgets/base",
            "_model_module_version": "1.2.0",
            "_model_name": "LayoutModel",
            "_view_count": null,
            "_view_module": "@jupyter-widgets/base",
            "_view_module_version": "1.2.0",
            "_view_name": "LayoutView",
            "align_content": null,
            "align_items": null,
            "align_self": null,
            "border": null,
            "bottom": null,
            "display": null,
            "flex": null,
            "flex_flow": null,
            "grid_area": null,
            "grid_auto_columns": null,
            "grid_auto_flow": null,
            "grid_auto_rows": null,
            "grid_column": null,
            "grid_gap": null,
            "grid_row": null,
            "grid_template_areas": null,
            "grid_template_columns": null,
            "grid_template_rows": null,
            "height": null,
            "justify_content": null,
            "justify_items": null,
            "left": null,
            "margin": null,
            "max_height": null,
            "max_width": null,
            "min_height": null,
            "min_width": null,
            "object_fit": null,
            "object_position": null,
            "order": null,
            "overflow": null,
            "overflow_x": null,
            "overflow_y": null,
            "padding": null,
            "right": null,
            "top": null,
            "visibility": null,
            "width": null
          }
        },
        "90f3e58810df401eac27eb710caf96c6": {
          "model_module": "@jupyter-widgets/controls",
          "model_module_version": "1.5.0",
          "model_name": "DescriptionStyleModel",
          "state": {
            "_model_module": "@jupyter-widgets/controls",
            "_model_module_version": "1.5.0",
            "_model_name": "DescriptionStyleModel",
            "_view_count": null,
            "_view_module": "@jupyter-widgets/base",
            "_view_module_version": "1.2.0",
            "_view_name": "StyleView",
            "description_width": ""
          }
        },
        "93b39044d1df4b93a00b44732c3ecfa2": {
          "model_module": "@jupyter-widgets/controls",
          "model_module_version": "1.5.0",
          "model_name": "HBoxModel",
          "state": {
            "_dom_classes": [],
            "_model_module": "@jupyter-widgets/controls",
            "_model_module_version": "1.5.0",
            "_model_name": "HBoxModel",
            "_view_count": null,
            "_view_module": "@jupyter-widgets/controls",
            "_view_module_version": "1.5.0",
            "_view_name": "HBoxView",
            "box_style": "",
            "children": [
              "IPY_MODEL_6dce3c194837462981601ca09275b9ad",
              "IPY_MODEL_7d9666d2f15d4e50823fdab9b950f416",
              "IPY_MODEL_660709a487aa4a8c9af64c429577bb94"
            ],
            "layout": "IPY_MODEL_cc81179dd787433fa42c08841d162cbd"
          }
        },
        "97cd7aaa59eb48e5807efba88811ce03": {
          "model_module": "@jupyter-widgets/controls",
          "model_module_version": "1.5.0",
          "model_name": "HTMLModel",
          "state": {
            "_dom_classes": [],
            "_model_module": "@jupyter-widgets/controls",
            "_model_module_version": "1.5.0",
            "_model_name": "HTMLModel",
            "_view_count": null,
            "_view_module": "@jupyter-widgets/controls",
            "_view_module_version": "1.5.0",
            "_view_name": "HTMLView",
            "description": "",
            "description_tooltip": null,
            "layout": "IPY_MODEL_f4b0133db93d474280d93fe275a4599a",
            "placeholder": "​",
            "style": "IPY_MODEL_ec6cc467771c4d22a3adbf0062f6d298",
            "value": "Downloading xlm-roberta-base.json: "
          }
        },
        "97e541fb2f0d4df8aba61c61eded3e41": {
          "model_module": "@jupyter-widgets/controls",
          "model_module_version": "1.5.0",
          "model_name": "DescriptionStyleModel",
          "state": {
            "_model_module": "@jupyter-widgets/controls",
            "_model_module_version": "1.5.0",
            "_model_name": "DescriptionStyleModel",
            "_view_count": null,
            "_view_module": "@jupyter-widgets/base",
            "_view_module_version": "1.2.0",
            "_view_name": "StyleView",
            "description_width": ""
          }
        },
        "9a34aefe43324e9e90ed50089d6bd26b": {
          "model_module": "@jupyter-widgets/controls",
          "model_module_version": "1.5.0",
          "model_name": "FloatProgressModel",
          "state": {
            "_dom_classes": [],
            "_model_module": "@jupyter-widgets/controls",
            "_model_module_version": "1.5.0",
            "_model_name": "FloatProgressModel",
            "_view_count": null,
            "_view_module": "@jupyter-widgets/controls",
            "_view_module_version": "1.5.0",
            "_view_name": "ProgressView",
            "bar_style": "success",
            "description": "",
            "description_tooltip": null,
            "layout": "IPY_MODEL_8b716dc8745b4db98309d4924690eba1",
            "max": 21,
            "min": 0,
            "orientation": "horizontal",
            "style": "IPY_MODEL_2bb171b56637457d998ec774b516e101",
            "value": 21
          }
        },
        "9d2fd36cc047421f9b69ae32274b52e7": {
          "model_module": "@jupyter-widgets/base",
          "model_module_version": "1.2.0",
          "model_name": "LayoutModel",
          "state": {
            "_model_module": "@jupyter-widgets/base",
            "_model_module_version": "1.2.0",
            "_model_name": "LayoutModel",
            "_view_count": null,
            "_view_module": "@jupyter-widgets/base",
            "_view_module_version": "1.2.0",
            "_view_name": "LayoutView",
            "align_content": null,
            "align_items": null,
            "align_self": null,
            "border": null,
            "bottom": null,
            "display": null,
            "flex": null,
            "flex_flow": null,
            "grid_area": null,
            "grid_auto_columns": null,
            "grid_auto_flow": null,
            "grid_auto_rows": null,
            "grid_column": null,
            "grid_gap": null,
            "grid_row": null,
            "grid_template_areas": null,
            "grid_template_columns": null,
            "grid_template_rows": null,
            "height": null,
            "justify_content": null,
            "justify_items": null,
            "left": null,
            "margin": null,
            "max_height": null,
            "max_width": null,
            "min_height": null,
            "min_width": null,
            "object_fit": null,
            "object_position": null,
            "order": null,
            "overflow": null,
            "overflow_x": null,
            "overflow_y": null,
            "padding": null,
            "right": null,
            "top": null,
            "visibility": null,
            "width": null
          }
        },
        "a1faa7e81aa5435bbfbab114298e1aa4": {
          "model_module": "@jupyter-widgets/controls",
          "model_module_version": "1.5.0",
          "model_name": "ProgressStyleModel",
          "state": {
            "_model_module": "@jupyter-widgets/controls",
            "_model_module_version": "1.5.0",
            "_model_name": "ProgressStyleModel",
            "_view_count": null,
            "_view_module": "@jupyter-widgets/base",
            "_view_module_version": "1.2.0",
            "_view_name": "StyleView",
            "bar_color": null,
            "description_width": ""
          }
        },
        "a5193a80a41d48328f6564883802f685": {
          "model_module": "@jupyter-widgets/base",
          "model_module_version": "1.2.0",
          "model_name": "LayoutModel",
          "state": {
            "_model_module": "@jupyter-widgets/base",
            "_model_module_version": "1.2.0",
            "_model_name": "LayoutModel",
            "_view_count": null,
            "_view_module": "@jupyter-widgets/base",
            "_view_module_version": "1.2.0",
            "_view_name": "LayoutView",
            "align_content": null,
            "align_items": null,
            "align_self": null,
            "border": null,
            "bottom": null,
            "display": null,
            "flex": null,
            "flex_flow": null,
            "grid_area": null,
            "grid_auto_columns": null,
            "grid_auto_flow": null,
            "grid_auto_rows": null,
            "grid_column": null,
            "grid_gap": null,
            "grid_row": null,
            "grid_template_areas": null,
            "grid_template_columns": null,
            "grid_template_rows": null,
            "height": null,
            "justify_content": null,
            "justify_items": null,
            "left": null,
            "margin": null,
            "max_height": null,
            "max_width": null,
            "min_height": null,
            "min_width": null,
            "object_fit": null,
            "object_position": null,
            "order": null,
            "overflow": null,
            "overflow_x": null,
            "overflow_y": null,
            "padding": null,
            "right": null,
            "top": null,
            "visibility": null,
            "width": null
          }
        },
        "a74042ce16014b5faf6ccc6c0eb150ce": {
          "model_module": "@jupyter-widgets/controls",
          "model_module_version": "1.5.0",
          "model_name": "DescriptionStyleModel",
          "state": {
            "_model_module": "@jupyter-widgets/controls",
            "_model_module_version": "1.5.0",
            "_model_name": "DescriptionStyleModel",
            "_view_count": null,
            "_view_module": "@jupyter-widgets/base",
            "_view_module_version": "1.2.0",
            "_view_name": "StyleView",
            "description_width": ""
          }
        },
        "a781b81f2012474ca2cc38bc6447a813": {
          "model_module": "@jupyter-widgets/base",
          "model_module_version": "1.2.0",
          "model_name": "LayoutModel",
          "state": {
            "_model_module": "@jupyter-widgets/base",
            "_model_module_version": "1.2.0",
            "_model_name": "LayoutModel",
            "_view_count": null,
            "_view_module": "@jupyter-widgets/base",
            "_view_module_version": "1.2.0",
            "_view_name": "LayoutView",
            "align_content": null,
            "align_items": null,
            "align_self": null,
            "border": null,
            "bottom": null,
            "display": null,
            "flex": null,
            "flex_flow": null,
            "grid_area": null,
            "grid_auto_columns": null,
            "grid_auto_flow": null,
            "grid_auto_rows": null,
            "grid_column": null,
            "grid_gap": null,
            "grid_row": null,
            "grid_template_areas": null,
            "grid_template_columns": null,
            "grid_template_rows": null,
            "height": null,
            "justify_content": null,
            "justify_items": null,
            "left": null,
            "margin": null,
            "max_height": null,
            "max_width": null,
            "min_height": null,
            "min_width": null,
            "object_fit": null,
            "object_position": null,
            "order": null,
            "overflow": null,
            "overflow_x": null,
            "overflow_y": null,
            "padding": null,
            "right": null,
            "top": null,
            "visibility": null,
            "width": null
          }
        },
        "a78c8d3f571c4368beb897acdc24b405": {
          "model_module": "@jupyter-widgets/base",
          "model_module_version": "1.2.0",
          "model_name": "LayoutModel",
          "state": {
            "_model_module": "@jupyter-widgets/base",
            "_model_module_version": "1.2.0",
            "_model_name": "LayoutModel",
            "_view_count": null,
            "_view_module": "@jupyter-widgets/base",
            "_view_module_version": "1.2.0",
            "_view_name": "LayoutView",
            "align_content": null,
            "align_items": null,
            "align_self": null,
            "border": null,
            "bottom": null,
            "display": null,
            "flex": null,
            "flex_flow": null,
            "grid_area": null,
            "grid_auto_columns": null,
            "grid_auto_flow": null,
            "grid_auto_rows": null,
            "grid_column": null,
            "grid_gap": null,
            "grid_row": null,
            "grid_template_areas": null,
            "grid_template_columns": null,
            "grid_template_rows": null,
            "height": null,
            "justify_content": null,
            "justify_items": null,
            "left": null,
            "margin": null,
            "max_height": null,
            "max_width": null,
            "min_height": null,
            "min_width": null,
            "object_fit": null,
            "object_position": null,
            "order": null,
            "overflow": null,
            "overflow_x": null,
            "overflow_y": null,
            "padding": null,
            "right": null,
            "top": null,
            "visibility": null,
            "width": null
          }
        },
        "a794957d8da24d5c9123ea472870ade1": {
          "model_module": "@jupyter-widgets/controls",
          "model_module_version": "1.5.0",
          "model_name": "ProgressStyleModel",
          "state": {
            "_model_module": "@jupyter-widgets/controls",
            "_model_module_version": "1.5.0",
            "_model_name": "ProgressStyleModel",
            "_view_count": null,
            "_view_module": "@jupyter-widgets/base",
            "_view_module_version": "1.2.0",
            "_view_name": "StyleView",
            "bar_color": null,
            "description_width": ""
          }
        },
        "a93e746911964af48c428a8a85c48b9c": {
          "model_module": "@jupyter-widgets/controls",
          "model_module_version": "1.5.0",
          "model_name": "DescriptionStyleModel",
          "state": {
            "_model_module": "@jupyter-widgets/controls",
            "_model_module_version": "1.5.0",
            "_model_name": "DescriptionStyleModel",
            "_view_count": null,
            "_view_module": "@jupyter-widgets/base",
            "_view_module_version": "1.2.0",
            "_view_name": "StyleView",
            "description_width": ""
          }
        },
        "a97b3aed9f354e7ca83ee805c7c9f4ad": {
          "model_module": "@jupyter-widgets/controls",
          "model_module_version": "1.5.0",
          "model_name": "HTMLModel",
          "state": {
            "_dom_classes": [],
            "_model_module": "@jupyter-widgets/controls",
            "_model_module_version": "1.5.0",
            "_model_name": "HTMLModel",
            "_view_count": null,
            "_view_module": "@jupyter-widgets/controls",
            "_view_module_version": "1.5.0",
            "_view_name": "HTMLView",
            "description": "",
            "description_tooltip": null,
            "layout": "IPY_MODEL_0f67a879121e49cf90e335612cdd3d0b",
            "placeholder": "​",
            "style": "IPY_MODEL_bab0aabce99744c7904c17526aefa0d1",
            "value": " 4.83M/4.83M [00:01&lt;00:00, 3.97MB/s]"
          }
        },
        "af45528f2a014d3e925256acca4ada63": {
          "model_module": "@jupyter-widgets/base",
          "model_module_version": "1.2.0",
          "model_name": "LayoutModel",
          "state": {
            "_model_module": "@jupyter-widgets/base",
            "_model_module_version": "1.2.0",
            "_model_name": "LayoutModel",
            "_view_count": null,
            "_view_module": "@jupyter-widgets/base",
            "_view_module_version": "1.2.0",
            "_view_name": "LayoutView",
            "align_content": null,
            "align_items": null,
            "align_self": null,
            "border": null,
            "bottom": null,
            "display": null,
            "flex": null,
            "flex_flow": null,
            "grid_area": null,
            "grid_auto_columns": null,
            "grid_auto_flow": null,
            "grid_auto_rows": null,
            "grid_column": null,
            "grid_gap": null,
            "grid_row": null,
            "grid_template_areas": null,
            "grid_template_columns": null,
            "grid_template_rows": null,
            "height": null,
            "justify_content": null,
            "justify_items": null,
            "left": null,
            "margin": null,
            "max_height": null,
            "max_width": null,
            "min_height": null,
            "min_width": null,
            "object_fit": null,
            "object_position": null,
            "order": null,
            "overflow": null,
            "overflow_x": null,
            "overflow_y": null,
            "padding": null,
            "right": null,
            "top": null,
            "visibility": null,
            "width": null
          }
        },
        "b0d1d0bfeab8472b8b84cfee85e72113": {
          "model_module": "@jupyter-widgets/controls",
          "model_module_version": "1.5.0",
          "model_name": "HBoxModel",
          "state": {
            "_dom_classes": [],
            "_model_module": "@jupyter-widgets/controls",
            "_model_module_version": "1.5.0",
            "_model_name": "HBoxModel",
            "_view_count": null,
            "_view_module": "@jupyter-widgets/controls",
            "_view_module_version": "1.5.0",
            "_view_name": "HBoxView",
            "box_style": "",
            "children": [
              "IPY_MODEL_63fc24f3b7e8452f8855de5c4f6c12e8",
              "IPY_MODEL_69042f9111ee4f838d613e34cbd5b15b",
              "IPY_MODEL_2c17827ab3234e7f84a0a71bc5ac07ff"
            ],
            "layout": "IPY_MODEL_d7301be9d0cc4b33a0194779cd7b4666"
          }
        },
        "b2f1a8a7cd8e44df96978a0985df37a2": {
          "model_module": "@jupyter-widgets/base",
          "model_module_version": "1.2.0",
          "model_name": "LayoutModel",
          "state": {
            "_model_module": "@jupyter-widgets/base",
            "_model_module_version": "1.2.0",
            "_model_name": "LayoutModel",
            "_view_count": null,
            "_view_module": "@jupyter-widgets/base",
            "_view_module_version": "1.2.0",
            "_view_name": "LayoutView",
            "align_content": null,
            "align_items": null,
            "align_self": null,
            "border": null,
            "bottom": null,
            "display": null,
            "flex": null,
            "flex_flow": null,
            "grid_area": null,
            "grid_auto_columns": null,
            "grid_auto_flow": null,
            "grid_auto_rows": null,
            "grid_column": null,
            "grid_gap": null,
            "grid_row": null,
            "grid_template_areas": null,
            "grid_template_columns": null,
            "grid_template_rows": null,
            "height": null,
            "justify_content": null,
            "justify_items": null,
            "left": null,
            "margin": null,
            "max_height": null,
            "max_width": null,
            "min_height": null,
            "min_width": null,
            "object_fit": null,
            "object_position": null,
            "order": null,
            "overflow": null,
            "overflow_x": null,
            "overflow_y": null,
            "padding": null,
            "right": null,
            "top": null,
            "visibility": null,
            "width": null
          }
        },
        "b65c8484c30049f283dc301b3bcfe98a": {
          "model_module": "@jupyter-widgets/controls",
          "model_module_version": "1.5.0",
          "model_name": "FloatProgressModel",
          "state": {
            "_dom_classes": [],
            "_model_module": "@jupyter-widgets/controls",
            "_model_module_version": "1.5.0",
            "_model_name": "FloatProgressModel",
            "_view_count": null,
            "_view_module": "@jupyter-widgets/controls",
            "_view_module_version": "1.5.0",
            "_view_name": "ProgressView",
            "bar_style": "success",
            "description": "",
            "description_tooltip": null,
            "layout": "IPY_MODEL_a78c8d3f571c4368beb897acdc24b405",
            "max": 1115590446,
            "min": 0,
            "orientation": "horizontal",
            "style": "IPY_MODEL_f99e9b8c1d3847e389a8ba1171a77022",
            "value": 1115590446
          }
        },
        "b759877d47064034bc4bfbb804551596": {
          "model_module": "@jupyter-widgets/base",
          "model_module_version": "1.2.0",
          "model_name": "LayoutModel",
          "state": {
            "_model_module": "@jupyter-widgets/base",
            "_model_module_version": "1.2.0",
            "_model_name": "LayoutModel",
            "_view_count": null,
            "_view_module": "@jupyter-widgets/base",
            "_view_module_version": "1.2.0",
            "_view_name": "LayoutView",
            "align_content": null,
            "align_items": null,
            "align_self": null,
            "border": null,
            "bottom": null,
            "display": null,
            "flex": null,
            "flex_flow": null,
            "grid_area": null,
            "grid_auto_columns": null,
            "grid_auto_flow": null,
            "grid_auto_rows": null,
            "grid_column": null,
            "grid_gap": null,
            "grid_row": null,
            "grid_template_areas": null,
            "grid_template_columns": null,
            "grid_template_rows": null,
            "height": null,
            "justify_content": null,
            "justify_items": null,
            "left": null,
            "margin": null,
            "max_height": null,
            "max_width": null,
            "min_height": null,
            "min_width": null,
            "object_fit": null,
            "object_position": null,
            "order": null,
            "overflow": null,
            "overflow_x": null,
            "overflow_y": null,
            "padding": null,
            "right": null,
            "top": null,
            "visibility": null,
            "width": null
          }
        },
        "b7f7fa38e687481d9cc0669a6e6c350d": {
          "model_module": "@jupyter-widgets/base",
          "model_module_version": "1.2.0",
          "model_name": "LayoutModel",
          "state": {
            "_model_module": "@jupyter-widgets/base",
            "_model_module_version": "1.2.0",
            "_model_name": "LayoutModel",
            "_view_count": null,
            "_view_module": "@jupyter-widgets/base",
            "_view_module_version": "1.2.0",
            "_view_name": "LayoutView",
            "align_content": null,
            "align_items": null,
            "align_self": null,
            "border": null,
            "bottom": null,
            "display": null,
            "flex": null,
            "flex_flow": null,
            "grid_area": null,
            "grid_auto_columns": null,
            "grid_auto_flow": null,
            "grid_auto_rows": null,
            "grid_column": null,
            "grid_gap": null,
            "grid_row": null,
            "grid_template_areas": null,
            "grid_template_columns": null,
            "grid_template_rows": null,
            "height": null,
            "justify_content": null,
            "justify_items": null,
            "left": null,
            "margin": null,
            "max_height": null,
            "max_width": null,
            "min_height": null,
            "min_width": null,
            "object_fit": null,
            "object_position": null,
            "order": null,
            "overflow": null,
            "overflow_x": null,
            "overflow_y": null,
            "padding": null,
            "right": null,
            "top": null,
            "visibility": null,
            "width": null
          }
        },
        "bab0aabce99744c7904c17526aefa0d1": {
          "model_module": "@jupyter-widgets/controls",
          "model_module_version": "1.5.0",
          "model_name": "DescriptionStyleModel",
          "state": {
            "_model_module": "@jupyter-widgets/controls",
            "_model_module_version": "1.5.0",
            "_model_name": "DescriptionStyleModel",
            "_view_count": null,
            "_view_module": "@jupyter-widgets/base",
            "_view_module_version": "1.2.0",
            "_view_name": "StyleView",
            "description_width": ""
          }
        },
        "bc2b10c9c8a540119ba0dabfc7aa21a1": {
          "model_module": "@jupyter-widgets/controls",
          "model_module_version": "1.5.0",
          "model_name": "FloatProgressModel",
          "state": {
            "_dom_classes": [],
            "_model_module": "@jupyter-widgets/controls",
            "_model_module_version": "1.5.0",
            "_model_name": "FloatProgressModel",
            "_view_count": null,
            "_view_module": "@jupyter-widgets/controls",
            "_view_module_version": "1.5.0",
            "_view_name": "ProgressView",
            "bar_style": "success",
            "description": "",
            "description_tooltip": null,
            "layout": "IPY_MODEL_e883bafb8b26461f96ca454059542ec2",
            "max": 9096718,
            "min": 0,
            "orientation": "horizontal",
            "style": "IPY_MODEL_a794957d8da24d5c9123ea472870ade1",
            "value": 9096718
          }
        },
        "bdaade8c79284d8fb1a95edcb6ba4257": {
          "model_module": "@jupyter-widgets/base",
          "model_module_version": "1.2.0",
          "model_name": "LayoutModel",
          "state": {
            "_model_module": "@jupyter-widgets/base",
            "_model_module_version": "1.2.0",
            "_model_name": "LayoutModel",
            "_view_count": null,
            "_view_module": "@jupyter-widgets/base",
            "_view_module_version": "1.2.0",
            "_view_name": "LayoutView",
            "align_content": null,
            "align_items": null,
            "align_self": null,
            "border": null,
            "bottom": null,
            "display": null,
            "flex": null,
            "flex_flow": null,
            "grid_area": null,
            "grid_auto_columns": null,
            "grid_auto_flow": null,
            "grid_auto_rows": null,
            "grid_column": null,
            "grid_gap": null,
            "grid_row": null,
            "grid_template_areas": null,
            "grid_template_columns": null,
            "grid_template_rows": null,
            "height": null,
            "justify_content": null,
            "justify_items": null,
            "left": null,
            "margin": null,
            "max_height": null,
            "max_width": null,
            "min_height": null,
            "min_width": null,
            "object_fit": null,
            "object_position": null,
            "order": null,
            "overflow": null,
            "overflow_x": null,
            "overflow_y": null,
            "padding": null,
            "right": null,
            "top": null,
            "visibility": null,
            "width": null
          }
        },
        "ca51364f329f4b59bd7dfb4538a234e3": {
          "model_module": "@jupyter-widgets/controls",
          "model_module_version": "1.5.0",
          "model_name": "HTMLModel",
          "state": {
            "_dom_classes": [],
            "_model_module": "@jupyter-widgets/controls",
            "_model_module_version": "1.5.0",
            "_model_name": "HTMLModel",
            "_view_count": null,
            "_view_module": "@jupyter-widgets/controls",
            "_view_module_version": "1.5.0",
            "_view_name": "HTMLView",
            "description": "",
            "description_tooltip": null,
            "layout": "IPY_MODEL_345210309dad4142bd4377274630c2c0",
            "placeholder": "​",
            "style": "IPY_MODEL_8e10df02746e44f1b66309f747886b84",
            "value": "Downloading tokenizer.json: 100%"
          }
        },
        "cc81179dd787433fa42c08841d162cbd": {
          "model_module": "@jupyter-widgets/base",
          "model_module_version": "1.2.0",
          "model_name": "LayoutModel",
          "state": {
            "_model_module": "@jupyter-widgets/base",
            "_model_module_version": "1.2.0",
            "_model_name": "LayoutModel",
            "_view_count": null,
            "_view_module": "@jupyter-widgets/base",
            "_view_module_version": "1.2.0",
            "_view_name": "LayoutView",
            "align_content": null,
            "align_items": null,
            "align_self": null,
            "border": null,
            "bottom": null,
            "display": null,
            "flex": null,
            "flex_flow": null,
            "grid_area": null,
            "grid_auto_columns": null,
            "grid_auto_flow": null,
            "grid_auto_rows": null,
            "grid_column": null,
            "grid_gap": null,
            "grid_row": null,
            "grid_template_areas": null,
            "grid_template_columns": null,
            "grid_template_rows": null,
            "height": null,
            "justify_content": null,
            "justify_items": null,
            "left": null,
            "margin": null,
            "max_height": null,
            "max_width": null,
            "min_height": null,
            "min_width": null,
            "object_fit": null,
            "object_position": null,
            "order": null,
            "overflow": null,
            "overflow_x": null,
            "overflow_y": null,
            "padding": null,
            "right": null,
            "top": null,
            "visibility": null,
            "width": null
          }
        },
        "cd8d8e4fbe4445a694f432fc3a31cb70": {
          "model_module": "@jupyter-widgets/base",
          "model_module_version": "1.2.0",
          "model_name": "LayoutModel",
          "state": {
            "_model_module": "@jupyter-widgets/base",
            "_model_module_version": "1.2.0",
            "_model_name": "LayoutModel",
            "_view_count": null,
            "_view_module": "@jupyter-widgets/base",
            "_view_module_version": "1.2.0",
            "_view_name": "LayoutView",
            "align_content": null,
            "align_items": null,
            "align_self": null,
            "border": null,
            "bottom": null,
            "display": null,
            "flex": null,
            "flex_flow": null,
            "grid_area": null,
            "grid_auto_columns": null,
            "grid_auto_flow": null,
            "grid_auto_rows": null,
            "grid_column": null,
            "grid_gap": null,
            "grid_row": null,
            "grid_template_areas": null,
            "grid_template_columns": null,
            "grid_template_rows": null,
            "height": null,
            "justify_content": null,
            "justify_items": null,
            "left": null,
            "margin": null,
            "max_height": null,
            "max_width": null,
            "min_height": null,
            "min_width": null,
            "object_fit": null,
            "object_position": null,
            "order": null,
            "overflow": null,
            "overflow_x": null,
            "overflow_y": null,
            "padding": null,
            "right": null,
            "top": null,
            "visibility": null,
            "width": null
          }
        },
        "d7301be9d0cc4b33a0194779cd7b4666": {
          "model_module": "@jupyter-widgets/base",
          "model_module_version": "1.2.0",
          "model_name": "LayoutModel",
          "state": {
            "_model_module": "@jupyter-widgets/base",
            "_model_module_version": "1.2.0",
            "_model_name": "LayoutModel",
            "_view_count": null,
            "_view_module": "@jupyter-widgets/base",
            "_view_module_version": "1.2.0",
            "_view_name": "LayoutView",
            "align_content": null,
            "align_items": null,
            "align_self": null,
            "border": null,
            "bottom": null,
            "display": null,
            "flex": null,
            "flex_flow": null,
            "grid_area": null,
            "grid_auto_columns": null,
            "grid_auto_flow": null,
            "grid_auto_rows": null,
            "grid_column": null,
            "grid_gap": null,
            "grid_row": null,
            "grid_template_areas": null,
            "grid_template_columns": null,
            "grid_template_rows": null,
            "height": null,
            "justify_content": null,
            "justify_items": null,
            "left": null,
            "margin": null,
            "max_height": null,
            "max_width": null,
            "min_height": null,
            "min_width": null,
            "object_fit": null,
            "object_position": null,
            "order": null,
            "overflow": null,
            "overflow_x": null,
            "overflow_y": null,
            "padding": null,
            "right": null,
            "top": null,
            "visibility": null,
            "width": null
          }
        },
        "db3693e2a0d94bc3a8618407af288d98": {
          "model_module": "@jupyter-widgets/controls",
          "model_module_version": "1.5.0",
          "model_name": "HBoxModel",
          "state": {
            "_dom_classes": [],
            "_model_module": "@jupyter-widgets/controls",
            "_model_module_version": "1.5.0",
            "_model_name": "HBoxModel",
            "_view_count": null,
            "_view_module": "@jupyter-widgets/controls",
            "_view_module_version": "1.5.0",
            "_view_name": "HBoxView",
            "box_style": "",
            "children": [
              "IPY_MODEL_97cd7aaa59eb48e5807efba88811ce03",
              "IPY_MODEL_52d342216fa04167889a4ef051c7235d",
              "IPY_MODEL_f25f4cf4a353482a83db1713a56b5ad4"
            ],
            "layout": "IPY_MODEL_84dc804170cb4dd89cfb7a7b33de0de8"
          }
        },
        "e883bafb8b26461f96ca454059542ec2": {
          "model_module": "@jupyter-widgets/base",
          "model_module_version": "1.2.0",
          "model_name": "LayoutModel",
          "state": {
            "_model_module": "@jupyter-widgets/base",
            "_model_module_version": "1.2.0",
            "_model_name": "LayoutModel",
            "_view_count": null,
            "_view_module": "@jupyter-widgets/base",
            "_view_module_version": "1.2.0",
            "_view_name": "LayoutView",
            "align_content": null,
            "align_items": null,
            "align_self": null,
            "border": null,
            "bottom": null,
            "display": null,
            "flex": null,
            "flex_flow": null,
            "grid_area": null,
            "grid_auto_columns": null,
            "grid_auto_flow": null,
            "grid_auto_rows": null,
            "grid_column": null,
            "grid_gap": null,
            "grid_row": null,
            "grid_template_areas": null,
            "grid_template_columns": null,
            "grid_template_rows": null,
            "height": null,
            "justify_content": null,
            "justify_items": null,
            "left": null,
            "margin": null,
            "max_height": null,
            "max_width": null,
            "min_height": null,
            "min_width": null,
            "object_fit": null,
            "object_position": null,
            "order": null,
            "overflow": null,
            "overflow_x": null,
            "overflow_y": null,
            "padding": null,
            "right": null,
            "top": null,
            "visibility": null,
            "width": null
          }
        },
        "e889855d1fd2476598fe86972abcafd3": {
          "model_module": "@jupyter-widgets/controls",
          "model_module_version": "1.5.0",
          "model_name": "DescriptionStyleModel",
          "state": {
            "_model_module": "@jupyter-widgets/controls",
            "_model_module_version": "1.5.0",
            "_model_name": "DescriptionStyleModel",
            "_view_count": null,
            "_view_module": "@jupyter-widgets/base",
            "_view_module_version": "1.2.0",
            "_view_name": "StyleView",
            "description_width": ""
          }
        },
        "e9eeddbb95de4c4c87e2d6c2a95046a0": {
          "model_module": "@jupyter-widgets/base",
          "model_module_version": "1.2.0",
          "model_name": "LayoutModel",
          "state": {
            "_model_module": "@jupyter-widgets/base",
            "_model_module_version": "1.2.0",
            "_model_name": "LayoutModel",
            "_view_count": null,
            "_view_module": "@jupyter-widgets/base",
            "_view_module_version": "1.2.0",
            "_view_name": "LayoutView",
            "align_content": null,
            "align_items": null,
            "align_self": null,
            "border": null,
            "bottom": null,
            "display": null,
            "flex": null,
            "flex_flow": null,
            "grid_area": null,
            "grid_auto_columns": null,
            "grid_auto_flow": null,
            "grid_auto_rows": null,
            "grid_column": null,
            "grid_gap": null,
            "grid_row": null,
            "grid_template_areas": null,
            "grid_template_columns": null,
            "grid_template_rows": null,
            "height": null,
            "justify_content": null,
            "justify_items": null,
            "left": null,
            "margin": null,
            "max_height": null,
            "max_width": null,
            "min_height": null,
            "min_width": null,
            "object_fit": null,
            "object_position": null,
            "order": null,
            "overflow": null,
            "overflow_x": null,
            "overflow_y": null,
            "padding": null,
            "right": null,
            "top": null,
            "visibility": null,
            "width": null
          }
        },
        "eaf76f904d99481db2d2992ac72735e6": {
          "model_module": "@jupyter-widgets/controls",
          "model_module_version": "1.5.0",
          "model_name": "HBoxModel",
          "state": {
            "_dom_classes": [],
            "_model_module": "@jupyter-widgets/controls",
            "_model_module_version": "1.5.0",
            "_model_name": "HBoxModel",
            "_view_count": null,
            "_view_module": "@jupyter-widgets/controls",
            "_view_module_version": "1.5.0",
            "_view_name": "HBoxView",
            "box_style": "",
            "children": [
              "IPY_MODEL_891fc8adfef64294b121a1f151dc2c41",
              "IPY_MODEL_9a34aefe43324e9e90ed50089d6bd26b",
              "IPY_MODEL_31d9c671ec064429b11933f454b1b006"
            ],
            "layout": "IPY_MODEL_a5193a80a41d48328f6564883802f685"
          }
        },
        "ec6cc467771c4d22a3adbf0062f6d298": {
          "model_module": "@jupyter-widgets/controls",
          "model_module_version": "1.5.0",
          "model_name": "DescriptionStyleModel",
          "state": {
            "_model_module": "@jupyter-widgets/controls",
            "_model_module_version": "1.5.0",
            "_model_name": "DescriptionStyleModel",
            "_view_count": null,
            "_view_module": "@jupyter-widgets/base",
            "_view_module_version": "1.2.0",
            "_view_name": "StyleView",
            "description_width": ""
          }
        },
        "ee33d9a8e7b44effa1e7bb980f057ffd": {
          "model_module": "@jupyter-widgets/controls",
          "model_module_version": "1.5.0",
          "model_name": "HBoxModel",
          "state": {
            "_dom_classes": [],
            "_model_module": "@jupyter-widgets/controls",
            "_model_module_version": "1.5.0",
            "_model_name": "HBoxModel",
            "_view_count": null,
            "_view_module": "@jupyter-widgets/controls",
            "_view_module_version": "1.5.0",
            "_view_name": "HBoxView",
            "box_style": "",
            "children": [
              "IPY_MODEL_0320ba0a3d84406ba0285ae35251d5a7",
              "IPY_MODEL_5798ac7e6ed148109d311821622064c8",
              "IPY_MODEL_21bdf433b62441eda1acaac3baaa68de"
            ],
            "layout": "IPY_MODEL_7ebb47680a6c4a24ae94b633cdd203e6"
          }
        },
        "eefd2f4bf22b4dd7bd5a8a4ee42adb30": {
          "model_module": "@jupyter-widgets/base",
          "model_module_version": "1.2.0",
          "model_name": "LayoutModel",
          "state": {
            "_model_module": "@jupyter-widgets/base",
            "_model_module_version": "1.2.0",
            "_model_name": "LayoutModel",
            "_view_count": null,
            "_view_module": "@jupyter-widgets/base",
            "_view_module_version": "1.2.0",
            "_view_name": "LayoutView",
            "align_content": null,
            "align_items": null,
            "align_self": null,
            "border": null,
            "bottom": null,
            "display": null,
            "flex": null,
            "flex_flow": null,
            "grid_area": null,
            "grid_auto_columns": null,
            "grid_auto_flow": null,
            "grid_auto_rows": null,
            "grid_column": null,
            "grid_gap": null,
            "grid_row": null,
            "grid_template_areas": null,
            "grid_template_columns": null,
            "grid_template_rows": null,
            "height": null,
            "justify_content": null,
            "justify_items": null,
            "left": null,
            "margin": null,
            "max_height": null,
            "max_width": null,
            "min_height": null,
            "min_width": null,
            "object_fit": null,
            "object_position": null,
            "order": null,
            "overflow": null,
            "overflow_x": null,
            "overflow_y": null,
            "padding": null,
            "right": null,
            "top": null,
            "visibility": null,
            "width": null
          }
        },
        "f25f4cf4a353482a83db1713a56b5ad4": {
          "model_module": "@jupyter-widgets/controls",
          "model_module_version": "1.5.0",
          "model_name": "HTMLModel",
          "state": {
            "_dom_classes": [],
            "_model_module": "@jupyter-widgets/controls",
            "_model_module_version": "1.5.0",
            "_model_name": "HTMLModel",
            "_view_count": null,
            "_view_module": "@jupyter-widgets/controls",
            "_view_module_version": "1.5.0",
            "_view_name": "HTMLView",
            "description": "",
            "description_tooltip": null,
            "layout": "IPY_MODEL_b759877d47064034bc4bfbb804551596",
            "placeholder": "​",
            "style": "IPY_MODEL_e889855d1fd2476598fe86972abcafd3",
            "value": " 10.1k/? [00:00&lt;00:00, 232kB/s]"
          }
        },
        "f4b0133db93d474280d93fe275a4599a": {
          "model_module": "@jupyter-widgets/base",
          "model_module_version": "1.2.0",
          "model_name": "LayoutModel",
          "state": {
            "_model_module": "@jupyter-widgets/base",
            "_model_module_version": "1.2.0",
            "_model_name": "LayoutModel",
            "_view_count": null,
            "_view_module": "@jupyter-widgets/base",
            "_view_module_version": "1.2.0",
            "_view_name": "LayoutView",
            "align_content": null,
            "align_items": null,
            "align_self": null,
            "border": null,
            "bottom": null,
            "display": null,
            "flex": null,
            "flex_flow": null,
            "grid_area": null,
            "grid_auto_columns": null,
            "grid_auto_flow": null,
            "grid_auto_rows": null,
            "grid_column": null,
            "grid_gap": null,
            "grid_row": null,
            "grid_template_areas": null,
            "grid_template_columns": null,
            "grid_template_rows": null,
            "height": null,
            "justify_content": null,
            "justify_items": null,
            "left": null,
            "margin": null,
            "max_height": null,
            "max_width": null,
            "min_height": null,
            "min_width": null,
            "object_fit": null,
            "object_position": null,
            "order": null,
            "overflow": null,
            "overflow_x": null,
            "overflow_y": null,
            "padding": null,
            "right": null,
            "top": null,
            "visibility": null,
            "width": null
          }
        },
        "f6fad8fb8be44a8a841b4577684856ce": {
          "model_module": "@jupyter-widgets/base",
          "model_module_version": "1.2.0",
          "model_name": "LayoutModel",
          "state": {
            "_model_module": "@jupyter-widgets/base",
            "_model_module_version": "1.2.0",
            "_model_name": "LayoutModel",
            "_view_count": null,
            "_view_module": "@jupyter-widgets/base",
            "_view_module_version": "1.2.0",
            "_view_name": "LayoutView",
            "align_content": null,
            "align_items": null,
            "align_self": null,
            "border": null,
            "bottom": null,
            "display": null,
            "flex": null,
            "flex_flow": null,
            "grid_area": null,
            "grid_auto_columns": null,
            "grid_auto_flow": null,
            "grid_auto_rows": null,
            "grid_column": null,
            "grid_gap": null,
            "grid_row": null,
            "grid_template_areas": null,
            "grid_template_columns": null,
            "grid_template_rows": null,
            "height": null,
            "justify_content": null,
            "justify_items": null,
            "left": null,
            "margin": null,
            "max_height": null,
            "max_width": null,
            "min_height": null,
            "min_width": null,
            "object_fit": null,
            "object_position": null,
            "order": null,
            "overflow": null,
            "overflow_x": null,
            "overflow_y": null,
            "padding": null,
            "right": null,
            "top": null,
            "visibility": null,
            "width": null
          }
        },
        "f99e9b8c1d3847e389a8ba1171a77022": {
          "model_module": "@jupyter-widgets/controls",
          "model_module_version": "1.5.0",
          "model_name": "ProgressStyleModel",
          "state": {
            "_model_module": "@jupyter-widgets/controls",
            "_model_module_version": "1.5.0",
            "_model_name": "ProgressStyleModel",
            "_view_count": null,
            "_view_module": "@jupyter-widgets/base",
            "_view_module_version": "1.2.0",
            "_view_name": "StyleView",
            "bar_color": null,
            "description_width": ""
          }
        },
        "f9af4d412f27451fafb550974f3412a0": {
          "model_module": "@jupyter-widgets/base",
          "model_module_version": "1.2.0",
          "model_name": "LayoutModel",
          "state": {
            "_model_module": "@jupyter-widgets/base",
            "_model_module_version": "1.2.0",
            "_model_name": "LayoutModel",
            "_view_count": null,
            "_view_module": "@jupyter-widgets/base",
            "_view_module_version": "1.2.0",
            "_view_name": "LayoutView",
            "align_content": null,
            "align_items": null,
            "align_self": null,
            "border": null,
            "bottom": null,
            "display": null,
            "flex": null,
            "flex_flow": null,
            "grid_area": null,
            "grid_auto_columns": null,
            "grid_auto_flow": null,
            "grid_auto_rows": null,
            "grid_column": null,
            "grid_gap": null,
            "grid_row": null,
            "grid_template_areas": null,
            "grid_template_columns": null,
            "grid_template_rows": null,
            "height": null,
            "justify_content": null,
            "justify_items": null,
            "left": null,
            "margin": null,
            "max_height": null,
            "max_width": null,
            "min_height": null,
            "min_width": null,
            "object_fit": null,
            "object_position": null,
            "order": null,
            "overflow": null,
            "overflow_x": null,
            "overflow_y": null,
            "padding": null,
            "right": null,
            "top": null,
            "visibility": null,
            "width": null
          }
        }
      }
    }
  },
  "nbformat": 4,
  "nbformat_minor": 0
}
